{
  "nbformat": 4,
  "nbformat_minor": 0,
  "metadata": {
    "kernelspec": {
      "display_name": "Python 2",
      "language": "python",
      "name": "python2"
    },
    "language_info": {
      "codemirror_mode": {
        "name": "ipython",
        "version": 2
      },
      "file_extension": ".py",
      "mimetype": "text/x-python",
      "name": "python",
      "nbconvert_exporter": "python",
      "pygments_lexer": "ipython2",
      "version": "2.7.13"
    },
    "colab": {
      "name": "1.2.ipynb",
      "version": "0.3.2",
      "provenance": [],
      "include_colab_link": true
    }
  },
  "cells": [
    {
      "cell_type": "markdown",
      "metadata": {
        "id": "view-in-github",
        "colab_type": "text"
      },
      "source": [
        "<a href=\"https://colab.research.google.com/github/Kalyan898/data-science/blob/master/Mod%201%20ML%201_2.ipynb\" target=\"_parent\"><img src=\"https://colab.research.google.com/assets/colab-badge.svg\" alt=\"Open In Colab\"/></a>"
      ]
    },
    {
      "cell_type": "markdown",
      "metadata": {
        "id": "V7uhEBdt2iJ_",
        "colab_type": "text"
      },
      "source": [
        "# Python Keywords"
      ]
    },
    {
      "cell_type": "markdown",
      "metadata": {
        "id": "VO9JP9Cf2iKH",
        "colab_type": "text"
      },
      "source": [
        "Keywords are the reserved words in python\n",
        "\n",
        "We can't use a keyword as variable name, function name or any other identifier\n",
        "\n",
        "Keywords are case sentive"
      ]
    },
    {
      "cell_type": "code",
      "metadata": {
        "id": "AarzDKPC2iKN",
        "colab_type": "code",
        "colab": {},
        "outputId": "fa7eed60-c0e6-4728-e3c1-2eeb50f667fd"
      },
      "source": [
        "#Get all keywords in python 3.6\n",
        "\n",
        "import keyword\n",
        "\n",
        "print(keyword.kwlist)\n",
        "\n",
        "print(\"Total number of keywords \", len(keyword.kwlist))"
      ],
      "execution_count": 0,
      "outputs": [
        {
          "output_type": "stream",
          "text": [
            "['and', 'as', 'assert', 'break', 'class', 'continue', 'def', 'del', 'elif', 'else', 'except', 'exec', 'finally', 'for', 'from', 'global', 'if', 'import', 'in', 'is', 'lambda', 'not', 'or', 'pass', 'print', 'raise', 'return', 'try', 'while', 'with', 'yield']\n",
            "('Total number of keywords ', 31)\n"
          ],
          "name": "stdout"
        }
      ]
    },
    {
      "cell_type": "markdown",
      "metadata": {
        "collapsed": true,
        "id": "o1n1hGds2iKh",
        "colab_type": "text"
      },
      "source": [
        "# Identifiers"
      ]
    },
    {
      "cell_type": "markdown",
      "metadata": {
        "id": "jcvYmUxp2iKl",
        "colab_type": "text"
      },
      "source": [
        "Identifier is the name given to entities like class, functions, variables etc. in Python. It helps differentiating one entity from another."
      ]
    },
    {
      "cell_type": "markdown",
      "metadata": {
        "id": "_e-HbylB2iKo",
        "colab_type": "text"
      },
      "source": [
        "Rules for Writing Identifiers:\n",
        "\n",
        "1. Identifiers can be a combination of letters in lowercase (a to z) or uppercase (A to Z) or digits (0 to 9) or an underscore (_).\n",
        "\n",
        "2. An identifier cannot start with a digit. 1variable is invalid, but variable1 is perfectly fine.\n",
        "\n",
        "3. Keywords cannot be used as identifiers."
      ]
    },
    {
      "cell_type": "code",
      "metadata": {
        "id": "1gO7AxFf2iKr",
        "colab_type": "code",
        "colab": {},
        "outputId": "b9151e77-75c7-4c56-9ab9-ee1ec1dbac12"
      },
      "source": [
        "global = 1"
      ],
      "execution_count": 0,
      "outputs": [
        {
          "output_type": "error",
          "ename": "SyntaxError",
          "evalue": "invalid syntax (<ipython-input-3-d0026cf49b71>, line 1)",
          "traceback": [
            "\u001b[0;36m  File \u001b[0;32m\"<ipython-input-3-d0026cf49b71>\"\u001b[0;36m, line \u001b[0;32m1\u001b[0m\n\u001b[0;31m    global = 1\u001b[0m\n\u001b[0m           ^\u001b[0m\n\u001b[0;31mSyntaxError\u001b[0m\u001b[0;31m:\u001b[0m invalid syntax\n"
          ]
        }
      ]
    },
    {
      "cell_type": "markdown",
      "metadata": {
        "id": "YqAb3gr52iK0",
        "colab_type": "text"
      },
      "source": [
        " We cannot use special symbols like !, @, #, $, % etc. in our identifier."
      ]
    },
    {
      "cell_type": "code",
      "metadata": {
        "id": "SmMOPzfw2iK2",
        "colab_type": "code",
        "colab": {},
        "outputId": "0b348c9e-0fdc-4f2c-df9a-cec26e715c30"
      },
      "source": [
        "a@ = 10             #can't use special symbols as an identifier"
      ],
      "execution_count": 0,
      "outputs": [
        {
          "output_type": "error",
          "ename": "SyntaxError",
          "evalue": "invalid syntax (<ipython-input-5-b512271f00c8>, line 1)",
          "traceback": [
            "\u001b[0;36m  File \u001b[0;32m\"<ipython-input-5-b512271f00c8>\"\u001b[0;36m, line \u001b[0;32m1\u001b[0m\n\u001b[0;31m    a@ = 10             #can't use special symbols as an identifier\u001b[0m\n\u001b[0m     ^\u001b[0m\n\u001b[0;31mSyntaxError\u001b[0m\u001b[0;31m:\u001b[0m invalid syntax\n"
          ]
        }
      ]
    }
  ]
}