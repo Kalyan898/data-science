{
  "nbformat": 4,
  "nbformat_minor": 0,
  "metadata": {
    "kernelspec": {
      "display_name": "Python 3",
      "language": "python",
      "name": "python3"
    },
    "language_info": {
      "codemirror_mode": {
        "name": "ipython",
        "version": 3
      },
      "file_extension": ".py",
      "mimetype": "text/x-python",
      "name": "python",
      "nbconvert_exporter": "python",
      "pygments_lexer": "ipython3",
      "version": "3.6.1"
    },
    "colab": {
      "name": "2.4.ipynb",
      "version": "0.3.2",
      "provenance": [],
      "include_colab_link": true
    }
  },
  "cells": [
    {
      "cell_type": "markdown",
      "metadata": {
        "id": "view-in-github",
        "colab_type": "text"
      },
      "source": [
        "<a href=\"https://colab.research.google.com/github/Kalyan898/data-science/blob/master/Mod%201%20ML%202_4.ipynb\" target=\"_parent\"><img src=\"https://colab.research.google.com/assets/colab-badge.svg\" alt=\"Open In Colab\"/></a>"
      ]
    },
    {
      "cell_type": "markdown",
      "metadata": {
        "id": "kf3rPrRlBHgl",
        "colab_type": "text"
      },
      "source": [
        "# Sets"
      ]
    },
    {
      "cell_type": "markdown",
      "metadata": {
        "id": "AGehXbdYBHgz",
        "colab_type": "text"
      },
      "source": [
        "-> A set is an unordered collection of items. Every element is unique (no duplicates).\n",
        "\n",
        "-> The set itself is mutable. We can add or remove items from it.\n",
        "\n",
        "-> Sets can be used to perform mathematical set operations like union, intersection, symmetric difference etc."
      ]
    },
    {
      "cell_type": "markdown",
      "metadata": {
        "id": "CBPRBs8DBHg5",
        "colab_type": "text"
      },
      "source": [
        "# Set Creation"
      ]
    },
    {
      "cell_type": "code",
      "metadata": {
        "id": "AzrfbqkfBHg_",
        "colab_type": "code",
        "colab": {},
        "outputId": "fc181320-ca5f-4654-b826-de43ca6d9d64"
      },
      "source": [
        "#set of integers\n",
        "s = {1, 2, 3}\n",
        "print(s)\n",
        "\n",
        "#print type of s \n",
        "print(type(s))"
      ],
      "execution_count": 0,
      "outputs": [
        {
          "output_type": "stream",
          "text": [
            "set([1, 2, 3])\n",
            "<type 'set'>\n"
          ],
          "name": "stdout"
        }
      ]
    },
    {
      "cell_type": "code",
      "metadata": {
        "id": "JnC0HsBMBHhm",
        "colab_type": "code",
        "colab": {},
        "outputId": "5ec14271-37cf-49d2-e5bd-da5b17b30591"
      },
      "source": [
        "#set doesn't allow duplicates. They store only one instance.\n",
        "s = {1, 2, 3, 1, 4}\n",
        "print(s)"
      ],
      "execution_count": 0,
      "outputs": [
        {
          "output_type": "stream",
          "text": [
            "{1, 2, 3, 4}\n"
          ],
          "name": "stdout"
        }
      ]
    },
    {
      "cell_type": "code",
      "metadata": {
        "id": "CE_OjxNvBHiH",
        "colab_type": "code",
        "colab": {},
        "outputId": "6b9ed9a2-fc12-400b-a44a-c0945b76b532"
      },
      "source": [
        "#we can make set from a list\n",
        "s = set([1, 2, 3, 1])\n",
        "print(s)"
      ],
      "execution_count": 0,
      "outputs": [
        {
          "output_type": "stream",
          "text": [
            "{1, 2, 3}\n"
          ],
          "name": "stdout"
        }
      ]
    },
    {
      "cell_type": "code",
      "metadata": {
        "id": "7z1A4Gm6BHih",
        "colab_type": "code",
        "colab": {},
        "outputId": "b44da915-6238-4e6b-c702-41fe96829be0"
      },
      "source": [
        "#initialize a set  with set() method\n",
        "s = set()\n",
        "\n",
        "print(type(s))"
      ],
      "execution_count": 0,
      "outputs": [
        {
          "output_type": "stream",
          "text": [
            "<class 'set'>\n"
          ],
          "name": "stdout"
        }
      ]
    },
    {
      "cell_type": "markdown",
      "metadata": {
        "id": "sBnBu499BHjC",
        "colab_type": "text"
      },
      "source": [
        "# Add element to a Set"
      ]
    },
    {
      "cell_type": "code",
      "metadata": {
        "id": "XJerYVWvBHjK",
        "colab_type": "code",
        "colab": {},
        "outputId": "b23eddf4-5e4f-41a5-ea8a-46640b5eba86"
      },
      "source": [
        "#we can add single element using add() method and \n",
        "#add multiple elements using update() method\n",
        "s = {1, 3}\n",
        "\n",
        "#set object doesn't support indexing\n",
        "print(s[1]) #will get TypeError"
      ],
      "execution_count": 0,
      "outputs": [
        {
          "output_type": "error",
          "ename": "TypeError",
          "evalue": "'set' object does not support indexing",
          "traceback": [
            "\u001b[0;31m---------------------------------------------------------------------------\u001b[0m",
            "\u001b[0;31mTypeError\u001b[0m                                 Traceback (most recent call last)",
            "\u001b[0;32m<ipython-input-4-c52fc339e293>\u001b[0m in \u001b[0;36m<module>\u001b[0;34m()\u001b[0m\n\u001b[1;32m      4\u001b[0m \u001b[0;34m\u001b[0m\u001b[0m\n\u001b[1;32m      5\u001b[0m \u001b[0;31m#set object doesn't support indexing\u001b[0m\u001b[0;34m\u001b[0m\u001b[0;34m\u001b[0m\u001b[0m\n\u001b[0;32m----> 6\u001b[0;31m \u001b[0mprint\u001b[0m\u001b[0;34m(\u001b[0m\u001b[0ms\u001b[0m\u001b[0;34m[\u001b[0m\u001b[0;36m1\u001b[0m\u001b[0;34m]\u001b[0m\u001b[0;34m)\u001b[0m \u001b[0;31m#will get TypeError\u001b[0m\u001b[0;34m\u001b[0m\u001b[0m\n\u001b[0m",
            "\u001b[0;31mTypeError\u001b[0m: 'set' object does not support indexing"
          ]
        }
      ]
    },
    {
      "cell_type": "code",
      "metadata": {
        "id": "ewNm1m28BHjy",
        "colab_type": "code",
        "colab": {},
        "outputId": "c73f52fe-a79f-4827-f9f0-2086f1e190c5"
      },
      "source": [
        "#add element\n",
        "s.add(2)\n",
        "print(s)"
      ],
      "execution_count": 0,
      "outputs": [
        {
          "output_type": "stream",
          "text": [
            "{1, 2, 3}\n"
          ],
          "name": "stdout"
        }
      ]
    },
    {
      "cell_type": "code",
      "metadata": {
        "id": "0oeNzey9BHkQ",
        "colab_type": "code",
        "colab": {},
        "outputId": "e90d6122-2f16-4da9-d01d-431dcdc4b622"
      },
      "source": [
        "#add multiple elements\n",
        "s.update([5, 6, 1])\n",
        "print(s)"
      ],
      "execution_count": 0,
      "outputs": [
        {
          "output_type": "stream",
          "text": [
            "{1, 2, 3, 5, 6}\n"
          ],
          "name": "stdout"
        }
      ]
    },
    {
      "cell_type": "code",
      "metadata": {
        "id": "zvT4SFEVBHko",
        "colab_type": "code",
        "colab": {},
        "outputId": "ea3a02d3-b6c0-423f-cb95-69fe42d68b99"
      },
      "source": [
        "#add list and set\n",
        "s.update([8, 9], {10, 2, 3})\n",
        "print(s)"
      ],
      "execution_count": 0,
      "outputs": [
        {
          "output_type": "stream",
          "text": [
            "{1, 2, 3, 5, 6, 8, 9, 10}\n"
          ],
          "name": "stdout"
        }
      ]
    },
    {
      "cell_type": "markdown",
      "metadata": {
        "id": "w9jIl5B7BHlA",
        "colab_type": "text"
      },
      "source": [
        "# Remove elements from a Set"
      ]
    },
    {
      "cell_type": "code",
      "metadata": {
        "id": "JEg7YEF8BHlJ",
        "colab_type": "code",
        "colab": {},
        "outputId": "ebfab781-b70c-4c62-92b9-c49cdb96fea2"
      },
      "source": [
        "#A particular item can be removed from set using methods, \n",
        "#discard() and remove().\n",
        "\n",
        "s = {1, 2, 3, 5, 4}\n",
        "print(s)\n",
        "\n",
        "s.discard(4)    #4 is removed from set s\n",
        "\n",
        "print(s)"
      ],
      "execution_count": 0,
      "outputs": [
        {
          "output_type": "stream",
          "text": [
            "{1, 2, 3, 4, 5}\n",
            "{1, 2, 3, 5}\n"
          ],
          "name": "stdout"
        }
      ]
    },
    {
      "cell_type": "code",
      "metadata": {
        "id": "b59SdAdkBHmI",
        "colab_type": "code",
        "colab": {},
        "outputId": "27925f1a-4f7c-4daa-c734-0c3c945a4a6c"
      },
      "source": [
        "#remove an element \n",
        "s.remove(2)\n",
        "\n",
        "print(s)"
      ],
      "execution_count": 0,
      "outputs": [
        {
          "output_type": "stream",
          "text": [
            "{1, 3, 5}\n"
          ],
          "name": "stdout"
        }
      ]
    },
    {
      "cell_type": "code",
      "metadata": {
        "id": "LWEzX5r3BHm2",
        "colab_type": "code",
        "colab": {},
        "outputId": "23653b1f-c7aa-4029-e535-38bcdfcb4e2c"
      },
      "source": [
        "#remove an element not present in a set s\n",
        "s.remove(7) # will get KeyError"
      ],
      "execution_count": 0,
      "outputs": [
        {
          "output_type": "error",
          "ename": "KeyError",
          "evalue": "7",
          "traceback": [
            "\u001b[0;31m---------------------------------------------------------------------------\u001b[0m",
            "\u001b[0;31mKeyError\u001b[0m                                  Traceback (most recent call last)",
            "\u001b[0;32m<ipython-input-14-f37cc9806699>\u001b[0m in \u001b[0;36m<module>\u001b[0;34m()\u001b[0m\n\u001b[1;32m      1\u001b[0m \u001b[0;31m#remove an element not present in a set s\u001b[0m\u001b[0;34m\u001b[0m\u001b[0;34m\u001b[0m\u001b[0m\n\u001b[0;32m----> 2\u001b[0;31m \u001b[0ms\u001b[0m\u001b[0;34m.\u001b[0m\u001b[0mremove\u001b[0m\u001b[0;34m(\u001b[0m\u001b[0;36m7\u001b[0m\u001b[0;34m)\u001b[0m \u001b[0;31m# will get KeyError\u001b[0m\u001b[0;34m\u001b[0m\u001b[0m\n\u001b[0m",
            "\u001b[0;31mKeyError\u001b[0m: 7"
          ]
        }
      ]
    },
    {
      "cell_type": "code",
      "metadata": {
        "id": "ejoEHOpmBHnq",
        "colab_type": "code",
        "colab": {},
        "outputId": "d33520d3-66eb-4dd1-e616-6086e7bb25ea"
      },
      "source": [
        "#discard an element not present in a set s\n",
        "s.discard(7)\n",
        "print(s)"
      ],
      "execution_count": 0,
      "outputs": [
        {
          "output_type": "stream",
          "text": [
            "{1, 3, 5}\n"
          ],
          "name": "stdout"
        }
      ]
    },
    {
      "cell_type": "code",
      "metadata": {
        "id": "cExoBOjiBHoB",
        "colab_type": "code",
        "colab": {},
        "outputId": "68e46ad0-5a3f-4001-8dca-54ff905e873b"
      },
      "source": [
        "#we can remove item using pop() method\n",
        "\n",
        "s = {1, 2, 3, 5, 4}\n",
        "\n",
        "s.pop() #remove random element\n",
        "\n",
        "print(s)"
      ],
      "execution_count": 0,
      "outputs": [
        {
          "output_type": "stream",
          "text": [
            "{2, 3, 4, 5}\n"
          ],
          "name": "stdout"
        }
      ]
    },
    {
      "cell_type": "code",
      "metadata": {
        "id": "w2_FXGnZBHoX",
        "colab_type": "code",
        "colab": {},
        "outputId": "10caa114-bea0-4574-a512-9aa596503069"
      },
      "source": [
        "s.pop() \n",
        "print(s)"
      ],
      "execution_count": 0,
      "outputs": [
        {
          "output_type": "stream",
          "text": [
            "{3, 4, 5}\n"
          ],
          "name": "stdout"
        }
      ]
    },
    {
      "cell_type": "code",
      "metadata": {
        "id": "UerHxitPBHop",
        "colab_type": "code",
        "colab": {},
        "outputId": "9a47ee3b-e660-4502-f4c2-bbe9cc09c9e1"
      },
      "source": [
        "s = {1, 5, 2, 3, 6}\n",
        "\n",
        "s.clear()   #remove all items in set using clear() method\n",
        "\n",
        "print(s)"
      ],
      "execution_count": 0,
      "outputs": [
        {
          "output_type": "stream",
          "text": [
            "set()\n"
          ],
          "name": "stdout"
        }
      ]
    },
    {
      "cell_type": "markdown",
      "metadata": {
        "id": "Lv9hABFsBHpA",
        "colab_type": "text"
      },
      "source": [
        "# Python Set Operations"
      ]
    },
    {
      "cell_type": "code",
      "metadata": {
        "id": "QYdvZN4cBHpG",
        "colab_type": "code",
        "colab": {},
        "outputId": "d24064ec-9a0a-484d-9548-31a745e88999"
      },
      "source": [
        "set1 = {1, 2, 3, 4, 5}\n",
        "set2 = {3, 4, 5, 6, 7}\n",
        "\n",
        "#union of 2 sets using | operator\n",
        "\n",
        "print(set1 | set2)"
      ],
      "execution_count": 0,
      "outputs": [
        {
          "output_type": "stream",
          "text": [
            "{1, 2, 3, 4, 5, 6, 7}\n"
          ],
          "name": "stdout"
        }
      ]
    },
    {
      "cell_type": "code",
      "metadata": {
        "id": "8Vaf7IdYBHpc",
        "colab_type": "code",
        "colab": {},
        "outputId": "8b9e8cf4-a6e6-457a-eae7-ef8d63baf47d"
      },
      "source": [
        "#another way of getting union of 2 sets\n",
        "print(set1.union(set2))"
      ],
      "execution_count": 0,
      "outputs": [
        {
          "output_type": "stream",
          "text": [
            "{1, 2, 3, 4, 5, 6, 7}\n"
          ],
          "name": "stdout"
        }
      ]
    },
    {
      "cell_type": "code",
      "metadata": {
        "id": "N_KQRb_8BHqA",
        "colab_type": "code",
        "colab": {},
        "outputId": "5d409ec6-7716-4626-d126-70c439f83795"
      },
      "source": [
        "#intersection of 2 sets using & operator\n",
        "print(set1 & set2)"
      ],
      "execution_count": 0,
      "outputs": [
        {
          "output_type": "stream",
          "text": [
            "{3, 4, 5}\n"
          ],
          "name": "stdout"
        }
      ]
    },
    {
      "cell_type": "code",
      "metadata": {
        "id": "ePTnSGxBBHqf",
        "colab_type": "code",
        "colab": {},
        "outputId": "575bde20-c573-4f95-ee46-a408827a737c"
      },
      "source": [
        "#use intersection function \n",
        "print(set1.intersection(set2))"
      ],
      "execution_count": 0,
      "outputs": [
        {
          "output_type": "stream",
          "text": [
            "{3, 4, 5}\n"
          ],
          "name": "stdout"
        }
      ]
    },
    {
      "cell_type": "code",
      "metadata": {
        "id": "izFq0fRKBHq6",
        "colab_type": "code",
        "colab": {},
        "outputId": "cc76e333-0494-45e4-e61d-e9695c7308f7"
      },
      "source": [
        "#set Difference: set of elements that are only in set1 but not in set2\n",
        "\n",
        "print(set1 - set2)"
      ],
      "execution_count": 0,
      "outputs": [
        {
          "output_type": "stream",
          "text": [
            "{1, 2}\n"
          ],
          "name": "stdout"
        }
      ]
    },
    {
      "cell_type": "code",
      "metadata": {
        "id": "Bum7QzKBBHr-",
        "colab_type": "code",
        "colab": {},
        "outputId": "01fd9312-3957-491a-a0da-178fb3645a59"
      },
      "source": [
        "#use differnce function \n",
        "print(set1.difference(set2))"
      ],
      "execution_count": 0,
      "outputs": [
        {
          "output_type": "stream",
          "text": [
            "{1, 2}\n"
          ],
          "name": "stdout"
        }
      ]
    },
    {
      "cell_type": "code",
      "metadata": {
        "id": "AGeGj1UrBHsu",
        "colab_type": "code",
        "colab": {},
        "outputId": "e70151ea-93bc-4afc-c05f-5e31cdb356cd"
      },
      "source": [
        "\"\"\"symmetric difference: set of elements in both set1 and set2 \n",
        "#except those that are common in both.\"\"\"\n",
        "\n",
        "#use ^ operator\n",
        "\n",
        "print(set1^set2)"
      ],
      "execution_count": 0,
      "outputs": [
        {
          "output_type": "stream",
          "text": [
            "{1, 2, 6, 7}\n"
          ],
          "name": "stdout"
        }
      ]
    },
    {
      "cell_type": "code",
      "metadata": {
        "id": "LJE-y1yoBHtI",
        "colab_type": "code",
        "colab": {},
        "outputId": "8784332c-8c75-4e8a-c21a-18285cbcf365"
      },
      "source": [
        "#use symmetric_difference function\n",
        "print(set1.symmetric_difference(set2))"
      ],
      "execution_count": 0,
      "outputs": [
        {
          "output_type": "stream",
          "text": [
            "{1, 2, 6, 7}\n"
          ],
          "name": "stdout"
        }
      ]
    },
    {
      "cell_type": "code",
      "metadata": {
        "id": "zPQFuyrHBHte",
        "colab_type": "code",
        "colab": {},
        "outputId": "8b256359-7ba4-46c4-8098-3b15bbdee242"
      },
      "source": [
        "#find issubset()\n",
        "x = {\"a\",\"b\",\"c\",\"d\",\"e\"}\n",
        "y = {\"c\",\"d\"}\n",
        "\n",
        "print(\"set 'x' is subset of 'y' ?\", x.issubset(y)) #check x is subset of y\n",
        "\n",
        "#check y is subset of x\n",
        "print(\"set 'y' is subset of 'x' ?\", y.issubset(x))"
      ],
      "execution_count": 0,
      "outputs": [
        {
          "output_type": "stream",
          "text": [
            "set 'x' is subset of 'y' ? False\n",
            "set 'y' is subset of 'x' ? True\n"
          ],
          "name": "stdout"
        }
      ]
    },
    {
      "cell_type": "markdown",
      "metadata": {
        "id": "nH5cOx1jBHt5",
        "colab_type": "text"
      },
      "source": [
        "# Frozen Sets"
      ]
    },
    {
      "cell_type": "markdown",
      "metadata": {
        "collapsed": true,
        "id": "yd0nEi45BHt9",
        "colab_type": "text"
      },
      "source": [
        "Frozen sets has the characteristics of sets, but we can't be changed once it's assigned. While tuple are immutable lists, frozen sets are immutable sets"
      ]
    },
    {
      "cell_type": "markdown",
      "metadata": {
        "id": "5GOdR4StBHuB",
        "colab_type": "text"
      },
      "source": [
        "Frozensets can be created using the function frozenset()"
      ]
    },
    {
      "cell_type": "markdown",
      "metadata": {
        "id": "UYOsL5SGBHuE",
        "colab_type": "text"
      },
      "source": [
        "Sets being mutable are unhashable, so they can't be used as dictionary keys. On the other hand, frozensets are hashable and can be used as keys to a dictionary."
      ]
    },
    {
      "cell_type": "markdown",
      "metadata": {
        "id": "NovFv3JGBHuH",
        "colab_type": "text"
      },
      "source": [
        "This datatype supports methods like copy(), difference(), intersection(), isdisjoint(), issubset(), issuperset(), symmetric_difference() and union(). Being immutable it does not have method that add or remove elements."
      ]
    },
    {
      "cell_type": "code",
      "metadata": {
        "id": "CJZFPpz4BHuL",
        "colab_type": "code",
        "colab": {},
        "outputId": "e2d1d744-995b-4312-c5b6-6ee8e5cb88e7"
      },
      "source": [
        "set1 = frozenset([1, 2, 3, 4])\n",
        "set2 = frozenset([3, 4, 5, 6])\n",
        "\n",
        "#try to add element into set1 gives an error\n",
        "set1.add(5)"
      ],
      "execution_count": 0,
      "outputs": [
        {
          "output_type": "error",
          "ename": "AttributeError",
          "evalue": "'frozenset' object has no attribute 'add'",
          "traceback": [
            "\u001b[0;31m---------------------------------------------------------------------------\u001b[0m",
            "\u001b[0;31mAttributeError\u001b[0m                            Traceback (most recent call last)",
            "\u001b[0;32m<ipython-input-28-8f5ea3d0c7e1>\u001b[0m in \u001b[0;36m<module>\u001b[0;34m()\u001b[0m\n\u001b[1;32m      3\u001b[0m \u001b[0;34m\u001b[0m\u001b[0m\n\u001b[1;32m      4\u001b[0m \u001b[0;31m#try to add element into set1 gives an error\u001b[0m\u001b[0;34m\u001b[0m\u001b[0;34m\u001b[0m\u001b[0m\n\u001b[0;32m----> 5\u001b[0;31m \u001b[0mset1\u001b[0m\u001b[0;34m.\u001b[0m\u001b[0madd\u001b[0m\u001b[0;34m(\u001b[0m\u001b[0;36m5\u001b[0m\u001b[0;34m)\u001b[0m\u001b[0;34m\u001b[0m\u001b[0m\n\u001b[0m",
            "\u001b[0;31mAttributeError\u001b[0m: 'frozenset' object has no attribute 'add'"
          ]
        }
      ]
    },
    {
      "cell_type": "code",
      "metadata": {
        "id": "hA65Hp4dBHuf",
        "colab_type": "code",
        "colab": {},
        "outputId": "05612ed8-d70a-4655-8f8e-3a05ab3a127e"
      },
      "source": [
        "print(set1[1]) # frozen set doesn't support indexing"
      ],
      "execution_count": 0,
      "outputs": [
        {
          "output_type": "error",
          "ename": "TypeError",
          "evalue": "'frozenset' object does not support indexing",
          "traceback": [
            "\u001b[0;31m---------------------------------------------------------------------------\u001b[0m",
            "\u001b[0;31mTypeError\u001b[0m                                 Traceback (most recent call last)",
            "\u001b[0;32m<ipython-input-27-8fc108f08ec8>\u001b[0m in \u001b[0;36m<module>\u001b[0;34m()\u001b[0m\n\u001b[0;32m----> 1\u001b[0;31m \u001b[0mprint\u001b[0m\u001b[0;34m(\u001b[0m\u001b[0mset1\u001b[0m\u001b[0;34m[\u001b[0m\u001b[0;36m1\u001b[0m\u001b[0;34m]\u001b[0m\u001b[0;34m)\u001b[0m \u001b[0;31m# frozen set doesn't support indexing\u001b[0m\u001b[0;34m\u001b[0m\u001b[0m\n\u001b[0m",
            "\u001b[0;31mTypeError\u001b[0m: 'frozenset' object does not support indexing"
          ]
        }
      ]
    },
    {
      "cell_type": "code",
      "metadata": {
        "id": "gyNN-5RTBHur",
        "colab_type": "code",
        "colab": {},
        "outputId": "1a943d31-6de0-40f0-f704-8bd59e36af3c"
      },
      "source": [
        "print(set1 | set2) #union of 2 sets"
      ],
      "execution_count": 0,
      "outputs": [
        {
          "output_type": "stream",
          "text": [
            "frozenset({1, 2, 3, 4, 5, 6})\n"
          ],
          "name": "stdout"
        }
      ]
    },
    {
      "cell_type": "code",
      "metadata": {
        "id": "yN0Af79uBHu3",
        "colab_type": "code",
        "colab": {},
        "outputId": "ff32b7be-5a71-42f9-ebef-16f2d43ab1b9"
      },
      "source": [
        "#intersection of two sets\n",
        "print(set1 & set2)\n",
        "\n",
        "#or \n",
        "print(set1.intersection(set2))"
      ],
      "execution_count": 0,
      "outputs": [
        {
          "output_type": "stream",
          "text": [
            "frozenset({3, 4})\n",
            "frozenset({3, 4})\n"
          ],
          "name": "stdout"
        }
      ]
    },
    {
      "cell_type": "code",
      "metadata": {
        "id": "RQ6bvpz0BHvE",
        "colab_type": "code",
        "colab": {},
        "outputId": "c849cbc0-5a54-43bd-9864-05a8a33d6562"
      },
      "source": [
        "#symmetric difference\n",
        "print(set1 ^ set2)\n",
        "\n",
        "#or\n",
        "print(set1.symmetric_difference(set2))"
      ],
      "execution_count": 0,
      "outputs": [
        {
          "output_type": "stream",
          "text": [
            "frozenset({1, 2, 5, 6})\n",
            "frozenset({1, 2, 5, 6})\n"
          ],
          "name": "stdout"
        }
      ]
    },
    {
      "cell_type": "code",
      "metadata": {
        "collapsed": true,
        "id": "RvMmypQ7BHvO",
        "colab_type": "code",
        "colab": {}
      },
      "source": [
        ""
      ],
      "execution_count": 0,
      "outputs": []
    },
    {
      "cell_type": "code",
      "metadata": {
        "collapsed": true,
        "id": "X3gzDlO2BHvY",
        "colab_type": "code",
        "colab": {}
      },
      "source": [
        ""
      ],
      "execution_count": 0,
      "outputs": []
    }
  ]
}