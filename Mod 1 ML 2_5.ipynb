{
  "nbformat": 4,
  "nbformat_minor": 0,
  "metadata": {
    "kernelspec": {
      "display_name": "Python 3",
      "language": "python",
      "name": "python3"
    },
    "language_info": {
      "codemirror_mode": {
        "name": "ipython",
        "version": 3
      },
      "file_extension": ".py",
      "mimetype": "text/x-python",
      "name": "python",
      "nbconvert_exporter": "python",
      "pygments_lexer": "ipython3",
      "version": "3.6.1"
    },
    "colab": {
      "name": "2.5.ipynb",
      "version": "0.3.2",
      "provenance": [],
      "include_colab_link": true
    }
  },
  "cells": [
    {
      "cell_type": "markdown",
      "metadata": {
        "id": "view-in-github",
        "colab_type": "text"
      },
      "source": [
        "<a href=\"https://colab.research.google.com/github/Kalyan898/data-science/blob/master/Mod%201%20ML%202_5.ipynb\" target=\"_parent\"><img src=\"https://colab.research.google.com/assets/colab-badge.svg\" alt=\"Open In Colab\"/></a>"
      ]
    },
    {
      "cell_type": "markdown",
      "metadata": {
        "id": "-7UcIAqAB6Uv",
        "colab_type": "text"
      },
      "source": [
        "# Dictionary"
      ]
    },
    {
      "cell_type": "markdown",
      "metadata": {
        "id": "Wt5uZf8UB6U_",
        "colab_type": "text"
      },
      "source": [
        "Python dictionary is an unordered collection of items. While other compound data types have only value as an element, a dictionary has a key: value pair."
      ]
    },
    {
      "cell_type": "markdown",
      "metadata": {
        "id": "VAWiipr5B6VE",
        "colab_type": "text"
      },
      "source": [
        "# Dict Creation"
      ]
    },
    {
      "cell_type": "code",
      "metadata": {
        "id": "6FIATtBSB6VI",
        "colab_type": "code",
        "colab": {},
        "outputId": "9d2acfb5-b497-4e46-9195-7cefd8b62582"
      },
      "source": [
        "#empty dictionary\n",
        "my_dict = {}\n",
        "\n",
        "#dictionary with integer keys\n",
        "my_dict = {1: 'abc', 2: 'xyz'}\n",
        "print(my_dict)\n",
        "\n",
        "#dictionary with mixed keys\n",
        "my_dict = {'name': 'satish', 1: ['abc', 'xyz']}\n",
        "print(my_dict)\n",
        "\n",
        "\n",
        "#create empty dictionary using dict()\n",
        "my_dict = dict()\n",
        "\n",
        "my_dict = dict([(1, 'abc'), (2, 'xyz')])    #create a dict with list of tuples\n",
        "print(my_dict)"
      ],
      "execution_count": 0,
      "outputs": [
        {
          "output_type": "stream",
          "text": [
            "{1: 'abc', 2: 'xyz'}\n",
            "{'name': 'satish', 1: ['abc', 'xyz']}\n",
            "{1: 'abc', 2: 'xyz'}\n"
          ],
          "name": "stdout"
        }
      ]
    },
    {
      "cell_type": "markdown",
      "metadata": {
        "id": "VG6Bt4JbB6Vg",
        "colab_type": "text"
      },
      "source": [
        "# Dict Access"
      ]
    },
    {
      "cell_type": "code",
      "metadata": {
        "id": "1wNJjxXVB6Vm",
        "colab_type": "code",
        "colab": {},
        "outputId": "4450d6b8-e954-4908-e552-8bd34d792ac6"
      },
      "source": [
        "my_dict = {'name': 'satish', 'age': 27, 'address': 'guntur'}\n",
        "\n",
        "#get name\n",
        "print(my_dict['name'])"
      ],
      "execution_count": 0,
      "outputs": [
        {
          "output_type": "stream",
          "text": [
            "satish\n"
          ],
          "name": "stdout"
        }
      ]
    },
    {
      "cell_type": "code",
      "metadata": {
        "id": "qPNMiFHrB6Vz",
        "colab_type": "code",
        "colab": {},
        "outputId": "5497ef8d-cb4f-4222-c540-9bf62aec75bd"
      },
      "source": [
        "#if key is not present it gives KeyError\n",
        "print(my_dict['degree'])"
      ],
      "execution_count": 0,
      "outputs": [
        {
          "output_type": "error",
          "ename": "KeyError",
          "evalue": "'degree'",
          "traceback": [
            "\u001b[0;31m---------------------------------------------------------------------------\u001b[0m",
            "\u001b[0;31mKeyError\u001b[0m                                  Traceback (most recent call last)",
            "\u001b[0;32m<ipython-input-5-c5aba24e1656>\u001b[0m in \u001b[0;36m<module>\u001b[0;34m()\u001b[0m\n\u001b[1;32m      1\u001b[0m \u001b[0;31m#if key is not present it gives KeyError\u001b[0m\u001b[0;34m\u001b[0m\u001b[0;34m\u001b[0m\u001b[0m\n\u001b[0;32m----> 2\u001b[0;31m \u001b[0mprint\u001b[0m\u001b[0;34m(\u001b[0m\u001b[0mmy_dict\u001b[0m\u001b[0;34m[\u001b[0m\u001b[0;34m'degree'\u001b[0m\u001b[0;34m]\u001b[0m\u001b[0;34m)\u001b[0m\u001b[0;34m\u001b[0m\u001b[0m\n\u001b[0m",
            "\u001b[0;31mKeyError\u001b[0m: 'degree'"
          ]
        }
      ]
    },
    {
      "cell_type": "code",
      "metadata": {
        "id": "bbFfy_LnB6WD",
        "colab_type": "code",
        "colab": {},
        "outputId": "3fe14d67-9a25-47a8-8c0f-511d91623b80"
      },
      "source": [
        "#another way of accessing key\n",
        "print(my_dict.get('address'))"
      ],
      "execution_count": 0,
      "outputs": [
        {
          "output_type": "stream",
          "text": [
            "guntur\n"
          ],
          "name": "stdout"
        }
      ]
    },
    {
      "cell_type": "code",
      "metadata": {
        "id": "s2jq4ZTnB6WO",
        "colab_type": "code",
        "colab": {},
        "outputId": "cc0d1816-3b7f-4370-944a-16151cf1a8fa"
      },
      "source": [
        "#if key is not present it will give None using get method\n",
        "print(my_dict.get('degree'))"
      ],
      "execution_count": 0,
      "outputs": [
        {
          "output_type": "stream",
          "text": [
            "None\n"
          ],
          "name": "stdout"
        }
      ]
    },
    {
      "cell_type": "markdown",
      "metadata": {
        "id": "Wszxq-t2B6WX",
        "colab_type": "text"
      },
      "source": [
        "# Dict Add or Modify  Elements"
      ]
    },
    {
      "cell_type": "code",
      "metadata": {
        "id": "Mc-ausHEB6Wd",
        "colab_type": "code",
        "colab": {},
        "outputId": "5949a3c9-0d5c-4d9d-a9d6-678fe3a33349"
      },
      "source": [
        "my_dict = {'name': 'satish', 'age': 27, 'address': 'guntur'}\n",
        "\n",
        "#update name \n",
        "my_dict['name'] = 'raju'\n",
        "\n",
        "print(my_dict)"
      ],
      "execution_count": 0,
      "outputs": [
        {
          "output_type": "stream",
          "text": [
            "{'name': 'raju', 'age': 27, 'address': 'guntur'}\n"
          ],
          "name": "stdout"
        }
      ]
    },
    {
      "cell_type": "code",
      "metadata": {
        "id": "DDQbq6E6B6Wo",
        "colab_type": "code",
        "colab": {},
        "outputId": "932f702d-af1a-4514-ba4b-28f5d37059cd"
      },
      "source": [
        "#add new key\n",
        "my_dict['degree'] = 'M.Tech'\n",
        "\n",
        "print(my_dict)"
      ],
      "execution_count": 0,
      "outputs": [
        {
          "output_type": "stream",
          "text": [
            "{'name': 'raju', 'age': 27, 'address': 'guntur', 'degree': 'M.Tech'}\n"
          ],
          "name": "stdout"
        }
      ]
    },
    {
      "cell_type": "markdown",
      "metadata": {
        "id": "FXLyuhciB6W1",
        "colab_type": "text"
      },
      "source": [
        "# Dict Delete or Remove Element"
      ]
    },
    {
      "cell_type": "code",
      "metadata": {
        "id": "CvJmANLmB6W3",
        "colab_type": "code",
        "colab": {},
        "outputId": "6fccd876-4f83-4ff5-fe35-19502766d442"
      },
      "source": [
        "#create a dictionary\n",
        "my_dict = {'name': 'satish', 'age': 27, 'address': 'guntur'}\n",
        "\n",
        "#remove a particular item\n",
        "print(my_dict.pop('age'))\n",
        "\n",
        "print(my_dict)"
      ],
      "execution_count": 0,
      "outputs": [
        {
          "output_type": "stream",
          "text": [
            "27\n",
            "{'name': 'satish', 'address': 'guntur'}\n"
          ],
          "name": "stdout"
        }
      ]
    },
    {
      "cell_type": "code",
      "metadata": {
        "id": "geR8qvN7B6XB",
        "colab_type": "code",
        "colab": {},
        "outputId": "d723f359-9d64-4e17-fe44-2998845876ab"
      },
      "source": [
        "my_dict = {'name': 'satish', 'age': 27, 'address': 'guntur'}\n",
        "\n",
        "#remove an arbitarty key\n",
        "my_dict.popitem()\n",
        "\n",
        "print(my_dict)"
      ],
      "execution_count": 0,
      "outputs": [
        {
          "output_type": "stream",
          "text": [
            "{'name': 'satish', 'age': 27}\n"
          ],
          "name": "stdout"
        }
      ]
    },
    {
      "cell_type": "code",
      "metadata": {
        "id": "9VnqSduTB6XM",
        "colab_type": "code",
        "colab": {},
        "outputId": "a847ad74-b2d7-496a-f81d-d13f95082a9a"
      },
      "source": [
        "squares = {2: 4, 3: 9, 4: 16, 5: 25}\n",
        "\n",
        "#delete particular key\n",
        "del squares[2]\n",
        "\n",
        "print(squares)"
      ],
      "execution_count": 0,
      "outputs": [
        {
          "output_type": "stream",
          "text": [
            "{3: 9, 4: 16, 5: 25}\n"
          ],
          "name": "stdout"
        }
      ]
    },
    {
      "cell_type": "code",
      "metadata": {
        "id": "mRT7vwJyB6XU",
        "colab_type": "code",
        "colab": {},
        "outputId": "20615633-5355-49e0-f6fd-d48d5cce83e7"
      },
      "source": [
        "#remove all items\n",
        "squares.clear()\n",
        "\n",
        "print(squares)"
      ],
      "execution_count": 0,
      "outputs": [
        {
          "output_type": "stream",
          "text": [
            "{}\n"
          ],
          "name": "stdout"
        }
      ]
    },
    {
      "cell_type": "code",
      "metadata": {
        "id": "CRYZTEOqB6Xf",
        "colab_type": "code",
        "colab": {},
        "outputId": "2c2949d4-b0e8-4c12-eeb1-be5fcf2c7425"
      },
      "source": [
        "squares = {2: 4, 3: 9, 4: 16, 5: 25}\n",
        "\n",
        "#delete dictionary itself\n",
        "del squares\n",
        "\n",
        "print(squares) #NameError because dict is deleted"
      ],
      "execution_count": 0,
      "outputs": [
        {
          "output_type": "error",
          "ename": "NameError",
          "evalue": "name 'squares' is not defined",
          "traceback": [
            "\u001b[0;31m---------------------------------------------------------------------------\u001b[0m",
            "\u001b[0;31mNameError\u001b[0m                                 Traceback (most recent call last)",
            "\u001b[0;32m<ipython-input-16-355e8277492b>\u001b[0m in \u001b[0;36m<module>\u001b[0;34m()\u001b[0m\n\u001b[1;32m      4\u001b[0m \u001b[0;32mdel\u001b[0m \u001b[0msquares\u001b[0m\u001b[0;34m\u001b[0m\u001b[0m\n\u001b[1;32m      5\u001b[0m \u001b[0;34m\u001b[0m\u001b[0m\n\u001b[0;32m----> 6\u001b[0;31m \u001b[0mprint\u001b[0m\u001b[0;34m(\u001b[0m\u001b[0msquares\u001b[0m\u001b[0;34m)\u001b[0m \u001b[0;31m#NameError because dict is deleted\u001b[0m\u001b[0;34m\u001b[0m\u001b[0m\n\u001b[0m",
            "\u001b[0;31mNameError\u001b[0m: name 'squares' is not defined"
          ]
        }
      ]
    },
    {
      "cell_type": "markdown",
      "metadata": {
        "id": "5Hzkf4XkB6Xp",
        "colab_type": "text"
      },
      "source": [
        "# Dictionary Methods"
      ]
    },
    {
      "cell_type": "code",
      "metadata": {
        "id": "EIAfqNr3B6Xs",
        "colab_type": "code",
        "colab": {},
        "outputId": "793030ab-2467-4218-c556-3f1d1e07b65d"
      },
      "source": [
        "squares = {2: 4, 3: 9, 4: 16, 5: 25}\n",
        "\n",
        "my_dict = squares.copy()\n",
        "print(my_dict)"
      ],
      "execution_count": 0,
      "outputs": [
        {
          "output_type": "stream",
          "text": [
            "{2: 4, 3: 9, 4: 16, 5: 25}\n"
          ],
          "name": "stdout"
        }
      ]
    },
    {
      "cell_type": "code",
      "metadata": {
        "id": "vtXak4_0B6X2",
        "colab_type": "code",
        "colab": {},
        "outputId": "6591cea0-6696-48d8-b9fb-c67ff4f39c66"
      },
      "source": [
        "#fromkeys[seq[, v]] -> Return a new dictionary with keys from seq and value equal to v (defaults to None).\n",
        "subjects = {}.fromkeys(['Math', 'English', 'Hindi'], 0)\n",
        "print(subjects)"
      ],
      "execution_count": 0,
      "outputs": [
        {
          "output_type": "stream",
          "text": [
            "{'Math': 0, 'English': 0, 'Hindi': 0}\n"
          ],
          "name": "stdout"
        }
      ]
    },
    {
      "cell_type": "code",
      "metadata": {
        "id": "fH_w6djXB6X_",
        "colab_type": "code",
        "colab": {},
        "outputId": "b52ee8fa-b2eb-4f1e-9e9a-97ddbfc54827"
      },
      "source": [
        "subjects = {2:4, 3:9, 4:16, 5:25}\n",
        "print(subjects.items()) #return a new view of the dictionary items (key, value)"
      ],
      "execution_count": 0,
      "outputs": [
        {
          "output_type": "stream",
          "text": [
            "dict_items([(2, 4), (3, 9), (4, 16), (5, 25)])\n"
          ],
          "name": "stdout"
        }
      ]
    },
    {
      "cell_type": "code",
      "metadata": {
        "id": "9TqlbgQaB6YI",
        "colab_type": "code",
        "colab": {},
        "outputId": "1181b55f-4004-4f5f-8b71-c76e5024be4d"
      },
      "source": [
        "subjects = {2:4, 3:9, 4:16, 5:25}\n",
        "print(subjects.keys()) #return a new view of the dictionary keys"
      ],
      "execution_count": 0,
      "outputs": [
        {
          "output_type": "stream",
          "text": [
            "dict_keys([2, 3, 4, 5])\n"
          ],
          "name": "stdout"
        }
      ]
    },
    {
      "cell_type": "code",
      "metadata": {
        "id": "Kdbc2SPzB6YS",
        "colab_type": "code",
        "colab": {},
        "outputId": "5e74c4ff-65dd-4760-e258-ac5d4dd2e32d"
      },
      "source": [
        "subjects = {2:4, 3:9, 4:16, 5:25}\n",
        "print(subjects.values()) #return a new view of the dictionary values"
      ],
      "execution_count": 0,
      "outputs": [
        {
          "output_type": "stream",
          "text": [
            "dict_values([4, 9, 16, 25])\n"
          ],
          "name": "stdout"
        }
      ]
    },
    {
      "cell_type": "code",
      "metadata": {
        "id": "8rEO3fp6B6Yf",
        "colab_type": "code",
        "colab": {},
        "outputId": "00ecbc9b-5376-46f7-d9d6-90cb91dd9386"
      },
      "source": [
        "#get list of all available methods and attributes of dictionary\n",
        "d = {}\n",
        "print(dir(d))"
      ],
      "execution_count": 0,
      "outputs": [
        {
          "output_type": "stream",
          "text": [
            "['__class__', '__contains__', '__delattr__', '__delitem__', '__dir__', '__doc__', '__eq__', '__format__', '__ge__', '__getattribute__', '__getitem__', '__gt__', '__hash__', '__init__', '__init_subclass__', '__iter__', '__le__', '__len__', '__lt__', '__ne__', '__new__', '__reduce__', '__reduce_ex__', '__repr__', '__setattr__', '__setitem__', '__sizeof__', '__str__', '__subclasshook__', 'clear', 'copy', 'fromkeys', 'get', 'items', 'keys', 'pop', 'popitem', 'setdefault', 'update', 'values']\n"
          ],
          "name": "stdout"
        }
      ]
    },
    {
      "cell_type": "markdown",
      "metadata": {
        "id": "_DSuLR2NB6Yq",
        "colab_type": "text"
      },
      "source": [
        "# Dict Comprehension"
      ]
    },
    {
      "cell_type": "code",
      "metadata": {
        "id": "HRMj4yZDB6Yt",
        "colab_type": "code",
        "colab": {},
        "outputId": "3bcb0c88-ed62-4d28-9aab-5a474f4b9695"
      },
      "source": [
        "#Dict comprehensions are just like list comprehensions but for dictionaries\n",
        "\n",
        "d = {'a': 1, 'b': 2, 'c': 3}\n",
        "for pair in d.items():\n",
        "    print(pair)"
      ],
      "execution_count": 0,
      "outputs": [
        {
          "output_type": "stream",
          "text": [
            "('a', 1)\n",
            "('c', 3)\n",
            "('b', 2)\n"
          ],
          "name": "stdout"
        }
      ]
    },
    {
      "cell_type": "code",
      "metadata": {
        "id": "aLhEm4_kB6Y7",
        "colab_type": "code",
        "colab": {},
        "outputId": "43d861cf-08f4-4315-c8f5-e4f9155ee55f"
      },
      "source": [
        "#Creating a new dictionary with only pairs where the value is larger than 2\n",
        "d = {'a': 1, 'b': 2, 'c': 3, 'd': 4}\n",
        "new_dict = {k:v for k, v in d.items() if v > 2}\n",
        "print(new_dict)"
      ],
      "execution_count": 0,
      "outputs": [
        {
          "output_type": "stream",
          "text": [
            "{'c': 3, 'd': 4}\n"
          ],
          "name": "stdout"
        }
      ]
    },
    {
      "cell_type": "code",
      "metadata": {
        "id": "1iCTX8GBB6ZD",
        "colab_type": "code",
        "colab": {},
        "outputId": "37c62afd-107e-4490-e362-aeddfc4fb6e4"
      },
      "source": [
        "#We can also perform operations on the key value pairs\n",
        "d = {'a':1,'b':2,'c':3,'d':4,'e':5}\n",
        "d = {k + 'c':v * 2 for k, v in d.items() if v > 2}\n",
        "print(d)"
      ],
      "execution_count": 0,
      "outputs": [
        {
          "output_type": "stream",
          "text": [
            "{'cc': 6, 'dc': 8, 'ec': 10}\n"
          ],
          "name": "stdout"
        }
      ]
    },
    {
      "cell_type": "code",
      "metadata": {
        "collapsed": true,
        "id": "0-KQJiGMB6Zb",
        "colab_type": "code",
        "colab": {}
      },
      "source": [
        ""
      ],
      "execution_count": 0,
      "outputs": []
    }
  ]
}