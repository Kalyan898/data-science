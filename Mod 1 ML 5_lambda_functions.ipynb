{
  "nbformat": 4,
  "nbformat_minor": 0,
  "metadata": {
    "colab": {
      "name": "5_lambda_functions.ipynb",
      "version": "0.3.2",
      "provenance": [],
      "include_colab_link": true
    },
    "language_info": {
      "codemirror_mode": {
        "name": "ipython",
        "version": 3
      },
      "file_extension": ".py",
      "mimetype": "text/x-python",
      "name": "python",
      "nbconvert_exporter": "python",
      "pygments_lexer": "ipython3",
      "version": "3.6.1"
    },
    "kernelspec": {
      "display_name": "Python 3",
      "language": "python",
      "name": "python3"
    }
  },
  "cells": [
    {
      "cell_type": "markdown",
      "metadata": {
        "id": "view-in-github",
        "colab_type": "text"
      },
      "source": [
        "<a href=\"https://colab.research.google.com/github/Kalyan898/data-science/blob/master/Mod%201%20ML%205_lambda_functions.ipynb\" target=\"_parent\"><img src=\"https://colab.research.google.com/assets/colab-badge.svg\" alt=\"Open In Colab\"/></a>"
      ]
    },
    {
      "cell_type": "markdown",
      "metadata": {
        "id": "9hwg-SFGkuwl",
        "colab_type": "text"
      },
      "source": [
        "# Anonymous / Lambda Function"
      ]
    },
    {
      "cell_type": "markdown",
      "metadata": {
        "id": "T968WlfYkuwn",
        "colab_type": "text"
      },
      "source": [
        "In Python, anonymous function is a function that is defined without a name.\n",
        "\n",
        "While normal functions are defined using the def keyword, in Python anonymous functions are defined using the lambda keyword.\n",
        "\n",
        "Lambda functions are used extensively along with built-in functions like filter(), map()"
      ]
    },
    {
      "cell_type": "markdown",
      "metadata": {
        "id": "W1J2Es82kuwp",
        "colab_type": "text"
      },
      "source": [
        "syntax:\n",
        "    \n",
        "    lambda arguments: expression"
      ]
    },
    {
      "cell_type": "markdown",
      "metadata": {
        "id": "ELGfMrUQkuwq",
        "colab_type": "text"
      },
      "source": [
        "# Example:"
      ]
    },
    {
      "cell_type": "code",
      "metadata": {
        "id": "uPnqlXPkkuws",
        "colab_type": "code",
        "outputId": "d7ee377f-ff25-4c45-ca42-dab7a182ea16",
        "colab": {
          "base_uri": "https://localhost:8080/",
          "height": 34
        }
      },
      "source": [
        "double = lambda x: x*2\n",
        "\n",
        "print(double(5))\n"
      ],
      "execution_count": 0,
      "outputs": [
        {
          "output_type": "stream",
          "text": [
            "10\n"
          ],
          "name": "stdout"
        }
      ]
    },
    {
      "cell_type": "code",
      "metadata": {
        "id": "E9CTFNv9kuw4",
        "colab_type": "code",
        "outputId": "abea0398-f992-4042-fa77-c577b9ce3324",
        "colab": {
          "base_uri": "https://localhost:8080/",
          "height": 34
        }
      },
      "source": [
        "def double(x):\n",
        "    return x * 2\n",
        "\n",
        "print(double(5))\n"
      ],
      "execution_count": 0,
      "outputs": [
        {
          "output_type": "stream",
          "text": [
            "10\n"
          ],
          "name": "stdout"
        }
      ]
    },
    {
      "cell_type": "code",
      "metadata": {
        "id": "aahzcZxlkuw_",
        "colab_type": "code",
        "outputId": "bc549d06-82d1-496f-ea3a-949aa2a80361",
        "colab": {
          "base_uri": "https://localhost:8080/",
          "height": 34
        }
      },
      "source": [
        "#Example use with filter()\n",
        "lst = [1, 2, 3, 4, 5]\n",
        "even_lst = list(filter(lambda x: (x%2 == 0), lst))\n",
        "print(even_lst)\n"
      ],
      "execution_count": 0,
      "outputs": [
        {
          "output_type": "stream",
          "text": [
            "[2, 4]\n"
          ],
          "name": "stdout"
        }
      ]
    },
    {
      "cell_type": "code",
      "metadata": {
        "id": "F9yMVkN7kuxE",
        "colab_type": "code",
        "outputId": "292da7a6-2e1e-4901-f2e6-378ba5c5a8c5",
        "colab": {
          "base_uri": "https://localhost:8080/",
          "height": 34
        }
      },
      "source": [
        "#Example use with map()\n",
        "lst = [1, 2, 3, 4, 5]\n",
        "new_lst = list(map(lambda x: x ** 2, lst))\n",
        "print(new_lst)\n"
      ],
      "execution_count": 0,
      "outputs": [
        {
          "output_type": "stream",
          "text": [
            "[1, 4, 9, 16, 25]\n"
          ],
          "name": "stdout"
        }
      ]
    },
    {
      "cell_type": "code",
      "metadata": {
        "id": "HtOP0Q31kuxM",
        "colab_type": "code",
        "outputId": "7d8689c8-2030-4e9e-974d-cc72369a678a",
        "colab": {}
      },
      "source": [
        "#Example use with reduce()\n",
        "from functools import reduce\n",
        "\n",
        "lst = [1, 2, 3, 4, 5]\n",
        "product_lst = reduce(lambda x, y: x*y, lst)\n",
        "print(product_lst)\n"
      ],
      "execution_count": 0,
      "outputs": [
        {
          "output_type": "stream",
          "text": [
            "120\n"
          ],
          "name": "stdout"
        }
      ]
    },
    {
      "cell_type": "code",
      "metadata": {
        "id": "ijo7VPg9kuxW",
        "colab_type": "code",
        "colab": {}
      },
      "source": [
        ""
      ],
      "execution_count": 0,
      "outputs": []
    }
  ]
}