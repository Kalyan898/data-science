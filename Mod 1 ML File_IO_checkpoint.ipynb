{
  "nbformat": 4,
  "nbformat_minor": 0,
  "metadata": {
    "kernelspec": {
      "display_name": "Python 3",
      "language": "python",
      "name": "python3"
    },
    "language_info": {
      "codemirror_mode": {
        "name": "ipython",
        "version": 3
      },
      "file_extension": ".py",
      "mimetype": "text/x-python",
      "name": "python",
      "nbconvert_exporter": "python",
      "pygments_lexer": "ipython3",
      "version": "3.6.1"
    },
    "colab": {
      "name": "File_IO-checkpoint.ipynb",
      "version": "0.3.2",
      "provenance": [],
      "include_colab_link": true
    }
  },
  "cells": [
    {
      "cell_type": "markdown",
      "metadata": {
        "id": "view-in-github",
        "colab_type": "text"
      },
      "source": [
        "<a href=\"https://colab.research.google.com/github/Kalyan898/data-science/blob/master/Mod%201%20ML%20File_IO_checkpoint.ipynb\" target=\"_parent\"><img src=\"https://colab.research.google.com/assets/colab-badge.svg\" alt=\"Open In Colab\"/></a>"
      ]
    },
    {
      "cell_type": "markdown",
      "metadata": {
        "id": "y_aNvudhI1MZ",
        "colab_type": "text"
      },
      "source": [
        "# FILE I/O"
      ]
    },
    {
      "cell_type": "markdown",
      "metadata": {
        "id": "P9JKyA8AI1Mp",
        "colab_type": "text"
      },
      "source": [
        "File is a named location on disk to store related information. It is used to permanently store data in a non-volatile memory (e.g. hard disk).\n",
        "\n",
        "Since, random access memory (RAM) is volatile which loses its data when computer is turned off, we use files for future use of the data.\n",
        "\n",
        "When we want to read from or write to a file we need to open it first. When we are done, it needs to be closed, so that resources that are tied with the file are freed.\n",
        "\n",
        "File operation:\n",
        "\n",
        "1. Open a file\n",
        "\n",
        "2. Read or write (perform operation)\n",
        "\n",
        "3. Close the file"
      ]
    },
    {
      "cell_type": "markdown",
      "metadata": {
        "id": "HWHa8TbJI1My",
        "colab_type": "text"
      },
      "source": [
        "# Opening a File"
      ]
    },
    {
      "cell_type": "markdown",
      "metadata": {
        "id": "qO535eOrI1NA",
        "colab_type": "text"
      },
      "source": [
        "Python has a built-in function open() to open a file. This function returns a file object, also called a handle, as it is used to read or modify the file accordingly."
      ]
    },
    {
      "cell_type": "code",
      "metadata": {
        "collapsed": true,
        "id": "Xsq2FRWII1NI",
        "colab_type": "code",
        "colab": {}
      },
      "source": [
        "f = open('example.txt') #open file in current direcotry"
      ],
      "execution_count": 0,
      "outputs": []
    },
    {
      "cell_type": "markdown",
      "metadata": {
        "id": "hNktRcqGI1Ng",
        "colab_type": "text"
      },
      "source": [
        "We can specify the mode while opening a file. In mode, we specify whether we want to read 'r', write 'w' or append 'a' to the file. We also specify if we want to open the file in text mode or binary mode."
      ]
    },
    {
      "cell_type": "markdown",
      "metadata": {
        "id": "79yct0lCI1Nl",
        "colab_type": "text"
      },
      "source": [
        "# Python File Modes"
      ]
    },
    {
      "cell_type": "markdown",
      "metadata": {
        "id": "6ThIyM4tI1Nt",
        "colab_type": "text"
      },
      "source": [
        "'r' Open a file for reading. (default)\n",
        "\n",
        "'w' Open a file for writing. Creates a new file if it does not exist or truncates the file if it exists.\n",
        "\n",
        "'x' Open a file for exclusive creation. If the file already exists, the operation fails.\n",
        "\n",
        "'a' Open for appending at the end of the file without truncating it. Creates a new file if it does not exist.\n",
        "\n",
        "'t' Open in text mode. (default)\n",
        "\n",
        "'b' Open in binary mode.\n",
        "\n",
        "'+' Open a file for updating (reading and writing)"
      ]
    },
    {
      "cell_type": "code",
      "metadata": {
        "collapsed": true,
        "id": "_0OOyVTmI1Ny",
        "colab_type": "code",
        "colab": {}
      },
      "source": [
        "f = open('example.txt') #equivalent to 'r' \n",
        "f = open('example.txt', 'r')\n",
        "\n",
        "f = open('test.txt', 'w')"
      ],
      "execution_count": 0,
      "outputs": []
    },
    {
      "cell_type": "markdown",
      "metadata": {
        "id": "aeY69wxTI1N9",
        "colab_type": "text"
      },
      "source": [
        "The default encoding is platform dependent. In windows, it is 'cp1252' but 'utf-8' in Linux."
      ]
    },
    {
      "cell_type": "markdown",
      "metadata": {
        "id": "Fg75OT-rI1OC",
        "colab_type": "text"
      },
      "source": [
        "So, we must not also rely on the default encoding or else our code will behave differently in different platforms.\n",
        "\n",
        "Hence, when working with files in text mode, it is highly recommended to specify the encoding type."
      ]
    },
    {
      "cell_type": "markdown",
      "metadata": {
        "id": "eGwdiPkPI1OF",
        "colab_type": "text"
      },
      "source": [
        "# Closing a File"
      ]
    },
    {
      "cell_type": "markdown",
      "metadata": {
        "id": "5A_uSTMCI1OH",
        "colab_type": "text"
      },
      "source": [
        "Closing a file will free up the resources that were tied with the file and is done using the close() method.\n",
        "\n",
        "Python has a garbage collector to clean up unreferenced objects but, we must not rely on it to close the file."
      ]
    },
    {
      "cell_type": "code",
      "metadata": {
        "collapsed": true,
        "id": "WWimjZYqI1OI",
        "colab_type": "code",
        "colab": {}
      },
      "source": [
        "f = open('example.txt')\n",
        "f.close()"
      ],
      "execution_count": 0,
      "outputs": []
    },
    {
      "cell_type": "markdown",
      "metadata": {
        "id": "0p1kz9UBI1OQ",
        "colab_type": "text"
      },
      "source": [
        "This method is not entirely safe. If an exception occurs when we are performing some operation with the file, the code exits without closing the file.\n",
        "\n",
        "A safer way is to use a try...finally block."
      ]
    },
    {
      "cell_type": "code",
      "metadata": {
        "collapsed": true,
        "id": "H5_1LRdvI1OS",
        "colab_type": "code",
        "colab": {}
      },
      "source": [
        "try:\n",
        "   f = open(\"example.txt\")\n",
        "   # perform file operations\n",
        "    \n",
        "finally:\n",
        "   f.close()"
      ],
      "execution_count": 0,
      "outputs": []
    },
    {
      "cell_type": "markdown",
      "metadata": {
        "id": "ToAo93IyI1Oa",
        "colab_type": "text"
      },
      "source": [
        "This way, we are guaranteed that the file is properly closed even if an exception is raised, causing program flow to stop.\n",
        "\n",
        "The best way to do this is using the with statement. This ensures that the file is closed when the block inside with is exited.\n",
        "\n",
        "We don't need to explicitly call the close() method. It is done internally.\n",
        "\n",
        "with open(\"example.txt\",encoding = 'utf-8') as f:\n",
        "    #perform file operations"
      ]
    },
    {
      "cell_type": "markdown",
      "metadata": {
        "id": "mklpKPW9I1Oc",
        "colab_type": "text"
      },
      "source": [
        "# Writing to a File"
      ]
    },
    {
      "cell_type": "markdown",
      "metadata": {
        "id": "mz139NRgI1Oe",
        "colab_type": "text"
      },
      "source": [
        "In order to write into a file we need to open it in **write 'w', append 'a' or exclusive creation 'x' mode**.\n",
        "\n",
        "We need to be careful with the 'w' mode as it will overwrite into the file if it already exists. All previous data are erased.\n",
        "\n",
        "Writing a string or sequence of bytes (for binary files) is done using **write()** method. This method returns the number of characters written to the file."
      ]
    },
    {
      "cell_type": "code",
      "metadata": {
        "id": "iOSs7bIZI1Oi",
        "colab_type": "code",
        "colab": {}
      },
      "source": [
        "f = open(\"test.txt\", \"w\")\n",
        "f.write(\"This is a First File\\n\")\n",
        "f.write(\"Contains two lines\\n\")\n",
        "f.close()\n",
        "    \n",
        "    \n",
        "    "
      ],
      "execution_count": 0,
      "outputs": []
    },
    {
      "cell_type": "markdown",
      "metadata": {
        "id": "CLWeE4efI1Op",
        "colab_type": "text"
      },
      "source": [
        "This program will create a new file named 'test.txt' if it does not exist. If it does exist, it is overwritten.\n",
        "\n"
      ]
    },
    {
      "cell_type": "markdown",
      "metadata": {
        "id": "3t5Ka9U6I1Ou",
        "colab_type": "text"
      },
      "source": [
        "# Reading From a File"
      ]
    },
    {
      "cell_type": "markdown",
      "metadata": {
        "id": "ASQKeA38I1Ox",
        "colab_type": "text"
      },
      "source": [
        "There are various methods available for this purpose. We can use the read(size) method to read in size number of data. If size parameter is not specified, it reads and returns up to the end of the file."
      ]
    },
    {
      "cell_type": "code",
      "metadata": {
        "id": "TyXUTr8yI1O2",
        "colab_type": "code",
        "colab": {},
        "outputId": "6f7e0d20-8cc7-40e3-b598-16673c690dfc"
      },
      "source": [
        "f = open(\"test.txt\", \"r\")\n",
        "f.read()"
      ],
      "execution_count": 0,
      "outputs": [
        {
          "output_type": "execute_result",
          "data": {
            "text/plain": [
              "'This is a First File\\nContains two lines\\n'"
            ]
          },
          "metadata": {
            "tags": []
          },
          "execution_count": 9
        }
      ]
    },
    {
      "cell_type": "code",
      "metadata": {
        "id": "qeKKE4QTI1PC",
        "colab_type": "code",
        "colab": {},
        "outputId": "f1760b05-8abe-4424-d1fb-cd3cf3ed8217"
      },
      "source": [
        "f = open(\"test.txt\", \"r\")\n",
        "f.read(4)"
      ],
      "execution_count": 0,
      "outputs": [
        {
          "output_type": "execute_result",
          "data": {
            "text/plain": [
              "'This'"
            ]
          },
          "metadata": {
            "tags": []
          },
          "execution_count": 13
        }
      ]
    },
    {
      "cell_type": "code",
      "metadata": {
        "id": "GTCiw7xsI1PT",
        "colab_type": "code",
        "colab": {},
        "outputId": "c75d7550-8ae1-4039-9e1a-5c1750610e06"
      },
      "source": [
        "#f = open(\"test.txt\",\"r\")\n",
        "f.read(10)"
      ],
      "execution_count": 0,
      "outputs": [
        {
          "output_type": "execute_result",
          "data": {
            "text/plain": [
              "' is a Firs'"
            ]
          },
          "metadata": {
            "tags": []
          },
          "execution_count": 14
        }
      ]
    },
    {
      "cell_type": "markdown",
      "metadata": {
        "id": "Hf9lG-cZI1Pl",
        "colab_type": "text"
      },
      "source": [
        "We can change our current file cursor (position) using the seek() method. \n",
        "\n",
        "Similarly, the **tell()** method returns our current position (in number of bytes)."
      ]
    },
    {
      "cell_type": "code",
      "metadata": {
        "id": "U1XnJ1B5I1Po",
        "colab_type": "code",
        "colab": {},
        "outputId": "ca666e3f-604f-48f6-a2ab-9daee6fb83e4"
      },
      "source": [
        "f.tell()"
      ],
      "execution_count": 0,
      "outputs": [
        {
          "output_type": "execute_result",
          "data": {
            "text/plain": [
              "14"
            ]
          },
          "metadata": {
            "tags": []
          },
          "execution_count": 15
        }
      ]
    },
    {
      "cell_type": "code",
      "metadata": {
        "id": "idUOiM_1I1P4",
        "colab_type": "code",
        "colab": {},
        "outputId": "c12060b2-80aa-4b61-d36f-b1fd8c894f85"
      },
      "source": [
        "f.seek(0) #bring the file cursor to initial position"
      ],
      "execution_count": 0,
      "outputs": [
        {
          "output_type": "execute_result",
          "data": {
            "text/plain": [
              "0"
            ]
          },
          "metadata": {
            "tags": []
          },
          "execution_count": 16
        }
      ]
    },
    {
      "cell_type": "code",
      "metadata": {
        "id": "CEWVmV5HI1QK",
        "colab_type": "code",
        "colab": {},
        "outputId": "34ba5545-8d9c-4f0d-ddd9-13a006649147"
      },
      "source": [
        "print(f.read()) #read the entire file"
      ],
      "execution_count": 0,
      "outputs": [
        {
          "output_type": "stream",
          "text": [
            "This is a First File\n",
            "Contains two lines\n",
            "\n"
          ],
          "name": "stdout"
        }
      ]
    },
    {
      "cell_type": "markdown",
      "metadata": {
        "id": "puljB2fBI1QX",
        "colab_type": "text"
      },
      "source": [
        "We can read a file line-by-line using a for loop. This is both efficient and fast."
      ]
    },
    {
      "cell_type": "code",
      "metadata": {
        "id": "L7qMl_cMI1Qb",
        "colab_type": "code",
        "colab": {},
        "outputId": "7a5089e7-294f-40dc-a0ec-fdfa6ab953dd"
      },
      "source": [
        "f.seek(0)\n",
        "for line in f:\n",
        "    print(line)"
      ],
      "execution_count": 0,
      "outputs": [
        {
          "output_type": "stream",
          "text": [
            "This is a First File\n",
            "\n",
            "Contains two lines\n",
            "\n"
          ],
          "name": "stdout"
        }
      ]
    },
    {
      "cell_type": "markdown",
      "metadata": {
        "id": "KiLf_RH3I1Qp",
        "colab_type": "text"
      },
      "source": [
        "Alternately, we can use readline() method to read individual lines of a file. This method reads a file till the newline, including the newline character."
      ]
    },
    {
      "cell_type": "code",
      "metadata": {
        "id": "W3dLh7mfI1Qv",
        "colab_type": "code",
        "colab": {},
        "outputId": "9dc59137-b6c0-4c4a-b3f8-6c23fc051b91"
      },
      "source": [
        "f = open(\"test.txt\", \"r\")\n",
        "f.readline()"
      ],
      "execution_count": 0,
      "outputs": [
        {
          "output_type": "execute_result",
          "data": {
            "text/plain": [
              "'This is a First File\\n'"
            ]
          },
          "metadata": {
            "tags": []
          },
          "execution_count": 19
        }
      ]
    },
    {
      "cell_type": "code",
      "metadata": {
        "scrolled": true,
        "id": "EpCxcPj9I1Q4",
        "colab_type": "code",
        "colab": {},
        "outputId": "7b6a2354-72c7-474f-cb2d-40160b1e4e62"
      },
      "source": [
        "f.readline()"
      ],
      "execution_count": 0,
      "outputs": [
        {
          "output_type": "execute_result",
          "data": {
            "text/plain": [
              "'Contains two lines\\n'"
            ]
          },
          "metadata": {
            "tags": []
          },
          "execution_count": 20
        }
      ]
    },
    {
      "cell_type": "code",
      "metadata": {
        "id": "UMV3oKJTI1RE",
        "colab_type": "code",
        "colab": {},
        "outputId": "25ef6fab-19b8-4b0d-d426-732852245f83"
      },
      "source": [
        "f.readline()"
      ],
      "execution_count": 0,
      "outputs": [
        {
          "output_type": "execute_result",
          "data": {
            "text/plain": [
              "''"
            ]
          },
          "metadata": {
            "tags": []
          },
          "execution_count": 21
        }
      ]
    },
    {
      "cell_type": "markdown",
      "metadata": {
        "id": "C_qIjvBtI1RM",
        "colab_type": "text"
      },
      "source": [
        "The **readlines()** method returns a list of remaining lines of the entire file. All these reading method return empty values when end of file (EOF) is reached."
      ]
    },
    {
      "cell_type": "code",
      "metadata": {
        "id": "e-kWO9OjI1RN",
        "colab_type": "code",
        "colab": {},
        "outputId": "cf97ec25-2e27-4e50-90d6-838f14b4c8b1"
      },
      "source": [
        "f.seek(0)\n",
        "f.readlines()"
      ],
      "execution_count": 0,
      "outputs": [
        {
          "output_type": "execute_result",
          "data": {
            "text/plain": [
              "['This is a First File\\n', 'Contains two lines\\n']"
            ]
          },
          "metadata": {
            "tags": []
          },
          "execution_count": 22
        }
      ]
    },
    {
      "cell_type": "markdown",
      "metadata": {
        "id": "6yJAHHhdI1RZ",
        "colab_type": "text"
      },
      "source": [
        "# Renaming And Deleting Files In Python."
      ]
    },
    {
      "cell_type": "markdown",
      "metadata": {
        "id": "xu0YykN1I1Ra",
        "colab_type": "text"
      },
      "source": [
        "While you were using the **read/write** functions, you may also need to **rename/delete** a file in Python. So, there comes a **os** module in Python which brings the support of file **rename/delete** operations.\n",
        "\n",
        "So, to continue, first of all, you should import the **os** module in your Python script."
      ]
    },
    {
      "cell_type": "code",
      "metadata": {
        "collapsed": true,
        "id": "GCBYE9HzI1Rb",
        "colab_type": "code",
        "colab": {}
      },
      "source": [
        "import os\n",
        "\n",
        "#Rename a file from test.txt to sample.txt\n",
        "os.rename(\"test.txt\", \"sample.txt\")"
      ],
      "execution_count": 0,
      "outputs": []
    },
    {
      "cell_type": "code",
      "metadata": {
        "id": "HbYiPfC7I1Rj",
        "colab_type": "code",
        "colab": {},
        "outputId": "4c4c7795-10f6-4d45-e9b9-7054349783a6"
      },
      "source": [
        "f = open(\"sample.txt\", \"r\")\n",
        "f.readline()"
      ],
      "execution_count": 0,
      "outputs": [
        {
          "output_type": "execute_result",
          "data": {
            "text/plain": [
              "'This is a First File\\n'"
            ]
          },
          "metadata": {
            "tags": []
          },
          "execution_count": 18
        }
      ]
    },
    {
      "cell_type": "code",
      "metadata": {
        "collapsed": true,
        "id": "d3uaq-5JI1Rq",
        "colab_type": "code",
        "colab": {}
      },
      "source": [
        "#Delete a file sample.txt\n",
        "os.remove(\"sample.txt\")"
      ],
      "execution_count": 0,
      "outputs": []
    },
    {
      "cell_type": "code",
      "metadata": {
        "id": "OP4GxjY8I1R1",
        "colab_type": "code",
        "colab": {},
        "outputId": "3a4f5e23-7ac9-487f-83df-34830bf2278e"
      },
      "source": [
        "f = open(\"sample.txt\", \"r\")\n",
        "f.readline()"
      ],
      "execution_count": 0,
      "outputs": [
        {
          "output_type": "error",
          "ename": "FileNotFoundError",
          "evalue": "[Errno 2] No such file or directory: 'sample.txt'",
          "traceback": [
            "\u001b[0;31m---------------------------------------------------------------------------\u001b[0m",
            "\u001b[0;31mFileNotFoundError\u001b[0m                         Traceback (most recent call last)",
            "\u001b[0;32m<ipython-input-25-6eeb6c12a935>\u001b[0m in \u001b[0;36m<module>\u001b[0;34m()\u001b[0m\n\u001b[0;32m----> 1\u001b[0;31m \u001b[0mf\u001b[0m \u001b[0;34m=\u001b[0m \u001b[0mopen\u001b[0m\u001b[0;34m(\u001b[0m\u001b[0;34m\"sample.txt\"\u001b[0m\u001b[0;34m,\u001b[0m \u001b[0;34m\"r\"\u001b[0m\u001b[0;34m)\u001b[0m\u001b[0;34m\u001b[0m\u001b[0m\n\u001b[0m\u001b[1;32m      2\u001b[0m \u001b[0mf\u001b[0m\u001b[0;34m.\u001b[0m\u001b[0mreadline\u001b[0m\u001b[0;34m(\u001b[0m\u001b[0;34m)\u001b[0m\u001b[0;34m\u001b[0m\u001b[0m\n",
            "\u001b[0;31mFileNotFoundError\u001b[0m: [Errno 2] No such file or directory: 'sample.txt'"
          ]
        }
      ]
    },
    {
      "cell_type": "markdown",
      "metadata": {
        "id": "iOqjfXMrI1SC",
        "colab_type": "text"
      },
      "source": [
        "# Python Directory and File Management"
      ]
    },
    {
      "cell_type": "markdown",
      "metadata": {
        "id": "QSwb33-QI1SE",
        "colab_type": "text"
      },
      "source": [
        "If there are a large number of files to handle in your Python program, you can arrange your code within different directories to make things more manageable.\n",
        "\n",
        "A directory or folder is a collection of files and sub directories. Python has the os module, which provides us with many useful methods to work with directories (and files as well)."
      ]
    },
    {
      "cell_type": "markdown",
      "metadata": {
        "id": "EHuZTdyvI1SF",
        "colab_type": "text"
      },
      "source": [
        "**Get current Directory**"
      ]
    },
    {
      "cell_type": "markdown",
      "metadata": {
        "id": "2OypCUHLI1SG",
        "colab_type": "text"
      },
      "source": [
        "We can get the present working directory using the getcwd() method.\n",
        "\n",
        "This method returns the current working directory in the form of a string. "
      ]
    },
    {
      "cell_type": "code",
      "metadata": {
        "id": "KIrpCPHCI1SH",
        "colab_type": "code",
        "colab": {},
        "outputId": "9db5b85c-06b4-4e3f-e3e5-c26a0276b591"
      },
      "source": [
        "import os\n",
        "os.getcwd()"
      ],
      "execution_count": 0,
      "outputs": [
        {
          "output_type": "execute_result",
          "data": {
            "text/plain": [
              "'/Users/varma/Google Drive/OnlineVideos/2/python-basics/File Operation'"
            ]
          },
          "metadata": {
            "tags": []
          },
          "execution_count": 26
        }
      ]
    },
    {
      "cell_type": "markdown",
      "metadata": {
        "id": "U-h9BEyxI1SO",
        "colab_type": "text"
      },
      "source": [
        "**Changing Directory**"
      ]
    },
    {
      "cell_type": "markdown",
      "metadata": {
        "id": "Ojg3XU3DI1SR",
        "colab_type": "text"
      },
      "source": [
        "We can change the current working directory using the chdir() method.\n",
        "\n",
        "The new path that we want to change to must be supplied as a string to this method. We can use both forward slash (/) or the backward slash (\\) to separate path elements."
      ]
    },
    {
      "cell_type": "code",
      "metadata": {
        "id": "IYS_UfneI1SS",
        "colab_type": "code",
        "colab": {}
      },
      "source": [
        "os.chdir(\"/Users/varma/\")"
      ],
      "execution_count": 0,
      "outputs": []
    },
    {
      "cell_type": "code",
      "metadata": {
        "id": "aCSFHluLI1Sa",
        "colab_type": "code",
        "colab": {},
        "outputId": "b1e3ed7f-1dec-4eab-ce3a-0808598a8716"
      },
      "source": [
        "os.getcwd()"
      ],
      "execution_count": 0,
      "outputs": [
        {
          "output_type": "execute_result",
          "data": {
            "text/plain": [
              "'/Users/varma'"
            ]
          },
          "metadata": {
            "tags": []
          },
          "execution_count": 30
        }
      ]
    },
    {
      "cell_type": "markdown",
      "metadata": {
        "id": "Ox7caFEjI1Sg",
        "colab_type": "text"
      },
      "source": [
        "**List Directories and Files**"
      ]
    },
    {
      "cell_type": "markdown",
      "metadata": {
        "id": "gxbz1zbnI1Si",
        "colab_type": "text"
      },
      "source": [
        "All files and sub directories inside a directory can be known using the listdir() method."
      ]
    },
    {
      "cell_type": "code",
      "metadata": {
        "id": "Rjl9r4AUI1So",
        "colab_type": "code",
        "colab": {},
        "outputId": "89f791ce-9099-42f5-8f74-2543db07a78a"
      },
      "source": [
        "os.listdir(os.getcwd())"
      ],
      "execution_count": 0,
      "outputs": [
        {
          "output_type": "execute_result",
          "data": {
            "text/plain": [
              "['.bash_history',\n",
              " '.bash_sessions',\n",
              " '.bashrc',\n",
              " '.cache',\n",
              " '.CFUserTextEncoding',\n",
              " '.config',\n",
              " '.DS_Store',\n",
              " '.ipynb_checkpoints',\n",
              " '.ipython',\n",
              " '.jupyter',\n",
              " '.keras',\n",
              " '.lesshst',\n",
              " '.macports',\n",
              " '.matplotlib',\n",
              " '.octave_hist',\n",
              " '.octave_packages',\n",
              " '.oracle_jre_usage',\n",
              " '.plotly',\n",
              " '.profile',\n",
              " '.profile.pysave',\n",
              " '.python_history',\n",
              " '.Rhistory',\n",
              " '.rstudio-desktop',\n",
              " '.subversion',\n",
              " '.Trash',\n",
              " '.viminfo',\n",
              " '.wacom',\n",
              " '1.pdf',\n",
              " '2.pdf',\n",
              " 'AAIC_team.ink2go',\n",
              " 'AAIC_VarmaLaptop',\n",
              " 'Applications',\n",
              " 'Bishop - Pattern Recognition And Machine Learning - Springer  2006.pdf',\n",
              " 'Desktop',\n",
              " 'Documents',\n",
              " 'Downloads',\n",
              " 'Google Drive',\n",
              " 'Google Drive_preethi_listdit',\n",
              " 'iiot_data',\n",
              " 'iris.csv',\n",
              " 'khoj_overview.mp4',\n",
              " 'Library',\n",
              " 'Movies',\n",
              " 'Music',\n",
              " 'nltk_data',\n",
              " 'octave',\n",
              " 'octave-workspace',\n",
              " 'Pictures',\n",
              " 'Public',\n",
              " 'RaudraReg',\n",
              " 'scikit_learn_data',\n",
              " 'untitled folder',\n",
              " 'Untitled.ipynb']"
            ]
          },
          "metadata": {
            "tags": []
          },
          "execution_count": 31
        }
      ]
    },
    {
      "cell_type": "markdown",
      "metadata": {
        "collapsed": true,
        "id": "B9JKosT5I1Sv",
        "colab_type": "text"
      },
      "source": [
        "**Making New Directory**"
      ]
    },
    {
      "cell_type": "markdown",
      "metadata": {
        "id": "Wb4fv1NxI1Sw",
        "colab_type": "text"
      },
      "source": [
        "We can make a new directory using the mkdir() method.\n",
        "\n",
        "This method takes in the path of the new directory. If the full path is not specified, the new directory is created in the current working directory."
      ]
    },
    {
      "cell_type": "code",
      "metadata": {
        "collapsed": true,
        "id": "IbbSE_75I1Sy",
        "colab_type": "code",
        "colab": {}
      },
      "source": [
        "os.mkdir('test')"
      ],
      "execution_count": 0,
      "outputs": []
    },
    {
      "cell_type": "markdown",
      "metadata": {
        "id": "PwJeGuInI1S-",
        "colab_type": "text"
      },
      "source": [
        "However, note that rmdir() method can only remove empty directories.\n",
        "\n",
        "In order to remove a non-empty directory we can use the rmtree() method inside the shutil module."
      ]
    },
    {
      "cell_type": "code",
      "metadata": {
        "scrolled": true,
        "id": "cPXEfwWyI1S_",
        "colab_type": "code",
        "colab": {}
      },
      "source": [
        "os.rmdir('test')"
      ],
      "execution_count": 0,
      "outputs": []
    },
    {
      "cell_type": "code",
      "metadata": {
        "id": "f8YqxJDdI1TJ",
        "colab_type": "code",
        "colab": {},
        "outputId": "beeba7dc-c5c2-4c53-abe6-5198681bcef8"
      },
      "source": [
        "import shutil\n",
        "\n",
        "os.mkdir('test')\n",
        "os.chdir('./test')\n",
        "f = open(\"testfile.txt\",'w')\n",
        "f.write(\"Hello World\")\n",
        "os.chdir(\"../\")\n",
        "os.rmdir('test')\n"
      ],
      "execution_count": 0,
      "outputs": [
        {
          "output_type": "error",
          "ename": "OSError",
          "evalue": "[Errno 66] Directory not empty: 'test'",
          "traceback": [
            "\u001b[0;31m---------------------------------------------------------------------------\u001b[0m",
            "\u001b[0;31mOSError\u001b[0m                                   Traceback (most recent call last)",
            "\u001b[0;32m<ipython-input-39-a990945f349d>\u001b[0m in \u001b[0;36m<module>\u001b[0;34m()\u001b[0m\n\u001b[1;32m      6\u001b[0m \u001b[0mf\u001b[0m\u001b[0;34m.\u001b[0m\u001b[0mwrite\u001b[0m\u001b[0;34m(\u001b[0m\u001b[0;34m\"Hello World\"\u001b[0m\u001b[0;34m)\u001b[0m\u001b[0;34m\u001b[0m\u001b[0m\n\u001b[1;32m      7\u001b[0m \u001b[0mos\u001b[0m\u001b[0;34m.\u001b[0m\u001b[0mchdir\u001b[0m\u001b[0;34m(\u001b[0m\u001b[0;34m\"../\"\u001b[0m\u001b[0;34m)\u001b[0m\u001b[0;34m\u001b[0m\u001b[0m\n\u001b[0;32m----> 8\u001b[0;31m \u001b[0mos\u001b[0m\u001b[0;34m.\u001b[0m\u001b[0mrmdir\u001b[0m\u001b[0;34m(\u001b[0m\u001b[0;34m'test'\u001b[0m\u001b[0;34m)\u001b[0m\u001b[0;34m\u001b[0m\u001b[0m\n\u001b[0m\u001b[1;32m      9\u001b[0m \u001b[0;34m\u001b[0m\u001b[0m\n\u001b[1;32m     10\u001b[0m \u001b[0;34m\u001b[0m\u001b[0m\n",
            "\u001b[0;31mOSError\u001b[0m: [Errno 66] Directory not empty: 'test'"
          ]
        }
      ]
    },
    {
      "cell_type": "code",
      "metadata": {
        "collapsed": true,
        "id": "Ook-tKCrI1TP",
        "colab_type": "code",
        "colab": {}
      },
      "source": [
        "# remove an non-empty directory\n",
        "shutil.rmtree('test')"
      ],
      "execution_count": 0,
      "outputs": []
    },
    {
      "cell_type": "code",
      "metadata": {
        "id": "r05JMmODI1TU",
        "colab_type": "code",
        "colab": {},
        "outputId": "a7b8eddb-cc0a-4ea7-9b48-b904bebe6378"
      },
      "source": [
        "os.getcwd()"
      ],
      "execution_count": 0,
      "outputs": [
        {
          "output_type": "execute_result",
          "data": {
            "text/plain": [
              "'/Users/varma'"
            ]
          },
          "metadata": {
            "tags": []
          },
          "execution_count": 42
        }
      ]
    },
    {
      "cell_type": "code",
      "metadata": {
        "collapsed": true,
        "id": "GVs_SdrCI1Ta",
        "colab_type": "code",
        "colab": {}
      },
      "source": [
        ""
      ],
      "execution_count": 0,
      "outputs": []
    }
  ]
}