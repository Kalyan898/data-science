{
  "nbformat": 4,
  "nbformat_minor": 0,
  "metadata": {
    "kernelspec": {
      "display_name": "Python 3",
      "language": "python",
      "name": "python3"
    },
    "language_info": {
      "codemirror_mode": {
        "name": "ipython",
        "version": 3
      },
      "file_extension": ".py",
      "mimetype": "text/x-python",
      "name": "python",
      "nbconvert_exporter": "python",
      "pygments_lexer": "ipython3",
      "version": "3.6.1"
    },
    "colab": {
      "name": "1_Numpy_array_object-checkpoint.ipynb",
      "version": "0.3.2",
      "provenance": [],
      "include_colab_link": true
    }
  },
  "cells": [
    {
      "cell_type": "markdown",
      "metadata": {
        "id": "view-in-github",
        "colab_type": "text"
      },
      "source": [
        "<a href=\"https://colab.research.google.com/github/Kalyan898/data-science/blob/master/Mod%201%20ML%20Numpy_array_object_checkpoint.ipynb\" target=\"_parent\"><img src=\"https://colab.research.google.com/assets/colab-badge.svg\" alt=\"Open In Colab\"/></a>"
      ]
    },
    {
      "cell_type": "markdown",
      "metadata": {
        "id": "p2Sdx9JW2wkY",
        "colab_type": "text"
      },
      "source": [
        "# The Numpy array object"
      ]
    },
    {
      "cell_type": "markdown",
      "metadata": {
        "id": "mJoa5Tx12wkj",
        "colab_type": "text"
      },
      "source": [
        "# NumPy Arrays"
      ]
    },
    {
      "cell_type": "markdown",
      "metadata": {
        "id": "KPi3QD2X2wkp",
        "colab_type": "text"
      },
      "source": [
        "**python objects:** \n",
        "\n",
        "1. high-level number objects: integers, floating point\n",
        "2. containers: lists (costless insertion and append), dictionaries (fast lookup)"
      ]
    },
    {
      "cell_type": "markdown",
      "metadata": {
        "id": "kbhx9lS52wk1",
        "colab_type": "text"
      },
      "source": [
        "**Numpy provides:**\n",
        "\n",
        "1. extension package to Python for multi-dimensional arrays\n",
        "2. closer to hardware (efficiency)\n",
        "3. designed for scientific computation (convenience)\n",
        "4. Also known as array oriented computing"
      ]
    },
    {
      "cell_type": "code",
      "metadata": {
        "id": "stgB08mX2wlE",
        "colab_type": "code",
        "colab": {},
        "outputId": "c4cea3fb-c38b-4183-d17b-b32929c9fbc6"
      },
      "source": [
        "import numpy as np\n",
        "a = np.array([0, 1, 2, 3])\n",
        "print(a)\n",
        "\n",
        "print(np.arange(10))"
      ],
      "execution_count": 0,
      "outputs": [
        {
          "output_type": "stream",
          "text": [
            "[0 1 2 3]\n",
            "[0 1 2 3 4 5 6 7 8 9]\n"
          ],
          "name": "stdout"
        }
      ]
    },
    {
      "cell_type": "markdown",
      "metadata": {
        "id": "EfNFnPCr2wl_",
        "colab_type": "text"
      },
      "source": [
        "**Why it is useful:** Memory-efficient container that provides fast numerical operations."
      ]
    },
    {
      "cell_type": "code",
      "metadata": {
        "id": "8jdbUJQW2wmE",
        "colab_type": "code",
        "colab": {},
        "outputId": "8a43affa-594f-4979-99a0-cd92a80a8752"
      },
      "source": [
        "#python lists\n",
        "L = range(1000)\n",
        "%timeit [i**2 for i in L]"
      ],
      "execution_count": 0,
      "outputs": [
        {
          "output_type": "stream",
          "text": [
            "307 µs ± 17.6 µs per loop (mean ± std. dev. of 7 runs, 1000 loops each)\n"
          ],
          "name": "stdout"
        }
      ]
    },
    {
      "cell_type": "code",
      "metadata": {
        "id": "WdCwRWNs2wmU",
        "colab_type": "code",
        "colab": {},
        "outputId": "b4901022-4194-4e9e-a767-5e819810068e"
      },
      "source": [
        "a = np.arange(1000)\n",
        "%timeit a**2"
      ],
      "execution_count": 0,
      "outputs": [
        {
          "output_type": "stream",
          "text": [
            "1.35 µs ± 126 ns per loop (mean ± std. dev. of 7 runs, 1000000 loops each)\n"
          ],
          "name": "stdout"
        }
      ]
    },
    {
      "cell_type": "markdown",
      "metadata": {
        "id": "fGo_zh1D2wmu",
        "colab_type": "text"
      },
      "source": [
        "# 1. Creating arrays"
      ]
    },
    {
      "cell_type": "markdown",
      "metadata": {
        "id": "hxI_WWyq2wm2",
        "colab_type": "text"
      },
      "source": [
        "** 1.1.  Manual Construction of arrays**"
      ]
    },
    {
      "cell_type": "code",
      "metadata": {
        "id": "K08h8pwL2wm8",
        "colab_type": "code",
        "colab": {},
        "outputId": "c84583d0-50b5-47d9-cd02-92b86b00e578"
      },
      "source": [
        "#1-D\n",
        "\n",
        "a = np.array([0, 1, 2, 3])\n",
        "\n",
        "a"
      ],
      "execution_count": 0,
      "outputs": [
        {
          "output_type": "execute_result",
          "data": {
            "text/plain": [
              "array([0, 1, 2, 3])"
            ]
          },
          "metadata": {
            "tags": []
          },
          "execution_count": 9
        }
      ]
    },
    {
      "cell_type": "code",
      "metadata": {
        "id": "qBbLYuX42wnP",
        "colab_type": "code",
        "colab": {},
        "outputId": "e9d7b107-03de-49bc-ca6f-0f7ef1b9f193"
      },
      "source": [
        "#print dimensions\n",
        "\n",
        "a.ndim"
      ],
      "execution_count": 0,
      "outputs": [
        {
          "output_type": "execute_result",
          "data": {
            "text/plain": [
              "1"
            ]
          },
          "metadata": {
            "tags": []
          },
          "execution_count": 10
        }
      ]
    },
    {
      "cell_type": "code",
      "metadata": {
        "id": "Iccpr3Gg2wne",
        "colab_type": "code",
        "colab": {},
        "outputId": "0e5c67ae-a0da-4a74-93f8-e539b0deff0f"
      },
      "source": [
        "#shape\n",
        "\n",
        "a.shape"
      ],
      "execution_count": 0,
      "outputs": [
        {
          "output_type": "execute_result",
          "data": {
            "text/plain": [
              "(4,)"
            ]
          },
          "metadata": {
            "tags": []
          },
          "execution_count": 11
        }
      ]
    },
    {
      "cell_type": "code",
      "metadata": {
        "id": "8VdZNYai2wnr",
        "colab_type": "code",
        "colab": {},
        "outputId": "83977d0a-4357-4fd0-85ff-70a31b8a3744"
      },
      "source": [
        "len(a)"
      ],
      "execution_count": 0,
      "outputs": [
        {
          "output_type": "execute_result",
          "data": {
            "text/plain": [
              "4"
            ]
          },
          "metadata": {
            "tags": []
          },
          "execution_count": 12
        }
      ]
    },
    {
      "cell_type": "code",
      "metadata": {
        "id": "R31uygwR2wn4",
        "colab_type": "code",
        "colab": {},
        "outputId": "073b6c2f-c125-4927-e311-dd68fe1a263c"
      },
      "source": [
        "# 2-D, 3-D....\n",
        "\n",
        "b = np.array([[0, 1, 2], [3, 4, 5]])\n",
        "\n",
        "b"
      ],
      "execution_count": 0,
      "outputs": [
        {
          "output_type": "execute_result",
          "data": {
            "text/plain": [
              "array([[0, 1, 2],\n",
              "       [3, 4, 5]])"
            ]
          },
          "metadata": {
            "tags": []
          },
          "execution_count": 13
        }
      ]
    },
    {
      "cell_type": "code",
      "metadata": {
        "id": "9FN9dNTB2woF",
        "colab_type": "code",
        "colab": {},
        "outputId": "3f211666-c78a-4443-b406-41229e6a3bed"
      },
      "source": [
        "b.ndim"
      ],
      "execution_count": 0,
      "outputs": [
        {
          "output_type": "execute_result",
          "data": {
            "text/plain": [
              "2"
            ]
          },
          "metadata": {
            "tags": []
          },
          "execution_count": 14
        }
      ]
    },
    {
      "cell_type": "code",
      "metadata": {
        "id": "xGYAitUN2woR",
        "colab_type": "code",
        "colab": {},
        "outputId": "59f0b963-ebd2-426a-fedd-5bf8c1770cef"
      },
      "source": [
        "b.shape"
      ],
      "execution_count": 0,
      "outputs": [
        {
          "output_type": "execute_result",
          "data": {
            "text/plain": [
              "(2, 3)"
            ]
          },
          "metadata": {
            "tags": []
          },
          "execution_count": 15
        }
      ]
    },
    {
      "cell_type": "code",
      "metadata": {
        "id": "wNy-cUp22woc",
        "colab_type": "code",
        "colab": {},
        "outputId": "6c55e66d-6e89-43fd-ceb1-17aadaf0e5a8"
      },
      "source": [
        "len(b) #returns the size of the first dimention"
      ],
      "execution_count": 0,
      "outputs": [
        {
          "output_type": "execute_result",
          "data": {
            "text/plain": [
              "2"
            ]
          },
          "metadata": {
            "tags": []
          },
          "execution_count": 16
        }
      ]
    },
    {
      "cell_type": "code",
      "metadata": {
        "id": "pbrsV8Cs2wor",
        "colab_type": "code",
        "colab": {},
        "outputId": "7e83cf9e-fb3b-4bb8-bb85-c7f5ec4e9825"
      },
      "source": [
        "c = np.array([[[0, 1], [2, 3]], [[4, 5], [6, 7]]])\n",
        "\n",
        "c"
      ],
      "execution_count": 0,
      "outputs": [
        {
          "output_type": "execute_result",
          "data": {
            "text/plain": [
              "array([[[0, 1],\n",
              "        [2, 3]],\n",
              "\n",
              "       [[4, 5],\n",
              "        [6, 7]]])"
            ]
          },
          "metadata": {
            "tags": []
          },
          "execution_count": 17
        }
      ]
    },
    {
      "cell_type": "code",
      "metadata": {
        "id": "kQ44hu_v2wo5",
        "colab_type": "code",
        "colab": {},
        "outputId": "82f9ba5c-ee6d-4d74-9de2-7b26ea2031c1"
      },
      "source": [
        "c.ndim"
      ],
      "execution_count": 0,
      "outputs": [
        {
          "output_type": "execute_result",
          "data": {
            "text/plain": [
              "3"
            ]
          },
          "metadata": {
            "tags": []
          },
          "execution_count": 18
        }
      ]
    },
    {
      "cell_type": "code",
      "metadata": {
        "id": "fbOZoN1e2wpD",
        "colab_type": "code",
        "colab": {},
        "outputId": "cd1fc5c8-378c-4ddd-b383-f3caa4462f27"
      },
      "source": [
        "c.shape"
      ],
      "execution_count": 0,
      "outputs": [
        {
          "output_type": "execute_result",
          "data": {
            "text/plain": [
              "(2, 2, 2)"
            ]
          },
          "metadata": {
            "tags": []
          },
          "execution_count": 19
        }
      ]
    },
    {
      "cell_type": "markdown",
      "metadata": {
        "id": "etwGtcg02wpM",
        "colab_type": "text"
      },
      "source": [
        "** 1.2  Functions for creating arrays**"
      ]
    },
    {
      "cell_type": "code",
      "metadata": {
        "id": "h7lV_iNj2wpR",
        "colab_type": "code",
        "colab": {},
        "outputId": "053510a2-af25-40e9-c522-f8e62cb93860"
      },
      "source": [
        "#using arrange function\n",
        "\n",
        "# arange is an array-valued version of the built-in Python range function\n",
        "\n",
        "a = np.arange(10) # 0.... n-1\n",
        "a"
      ],
      "execution_count": 0,
      "outputs": [
        {
          "output_type": "execute_result",
          "data": {
            "text/plain": [
              "array([0, 1, 2, 3, 4, 5, 6, 7, 8, 9])"
            ]
          },
          "metadata": {
            "tags": []
          },
          "execution_count": 17
        }
      ]
    },
    {
      "cell_type": "code",
      "metadata": {
        "id": "xI4hOk6-2wpb",
        "colab_type": "code",
        "colab": {},
        "outputId": "91ce8b68-61a6-417e-9c11-49d51c158c1c"
      },
      "source": [
        "b = np.arange(1, 10, 2) #start, end (exclusive), step\n",
        "\n",
        "b"
      ],
      "execution_count": 0,
      "outputs": [
        {
          "output_type": "execute_result",
          "data": {
            "text/plain": [
              "array([1, 3, 5, 7, 9])"
            ]
          },
          "metadata": {
            "tags": []
          },
          "execution_count": 18
        }
      ]
    },
    {
      "cell_type": "code",
      "metadata": {
        "id": "L0ypDyae2wpq",
        "colab_type": "code",
        "colab": {},
        "outputId": "157fe6f6-4fb4-4451-eed8-8ffa00d3f646"
      },
      "source": [
        "#using linspace\n",
        "\n",
        "a = np.linspace(0, 1, 6) #start, end, number of points\n",
        "\n",
        "a"
      ],
      "execution_count": 0,
      "outputs": [
        {
          "output_type": "execute_result",
          "data": {
            "text/plain": [
              "array([ 0. ,  0.2,  0.4,  0.6,  0.8,  1. ])"
            ]
          },
          "metadata": {
            "tags": []
          },
          "execution_count": 19
        }
      ]
    },
    {
      "cell_type": "code",
      "metadata": {
        "id": "tQUfll9j2wp1",
        "colab_type": "code",
        "colab": {},
        "outputId": "2b052b31-1c92-4eaf-9b53-b0ddafbe88b6"
      },
      "source": [
        "#common arrays\n",
        "\n",
        "a = np.ones((3, 3))\n",
        "\n",
        "a"
      ],
      "execution_count": 0,
      "outputs": [
        {
          "output_type": "execute_result",
          "data": {
            "text/plain": [
              "array([[ 1.,  1.,  1.],\n",
              "       [ 1.,  1.,  1.],\n",
              "       [ 1.,  1.,  1.]])"
            ]
          },
          "metadata": {
            "tags": []
          },
          "execution_count": 21
        }
      ]
    },
    {
      "cell_type": "code",
      "metadata": {
        "id": "m2xjmnQJ2wqA",
        "colab_type": "code",
        "colab": {},
        "outputId": "8f5cc5c0-3a60-469c-8ba3-cef724743c9b"
      },
      "source": [
        "b = np.zeros((3, 3))\n",
        "\n",
        "b"
      ],
      "execution_count": 0,
      "outputs": [
        {
          "output_type": "execute_result",
          "data": {
            "text/plain": [
              "array([[ 0.,  0.,  0.],\n",
              "       [ 0.,  0.,  0.],\n",
              "       [ 0.,  0.,  0.]])"
            ]
          },
          "metadata": {
            "tags": []
          },
          "execution_count": 22
        }
      ]
    },
    {
      "cell_type": "code",
      "metadata": {
        "id": "SMV_FLbo2wqM",
        "colab_type": "code",
        "colab": {},
        "outputId": "e27bc558-608b-4657-c072-69646e25ba43"
      },
      "source": [
        "c = np.eye(3)  #Return a 2-D array with ones on the diagonal and zeros elsewhere.\n",
        "\n",
        "c"
      ],
      "execution_count": 0,
      "outputs": [
        {
          "output_type": "execute_result",
          "data": {
            "text/plain": [
              "array([[ 1.,  0.,  0.],\n",
              "       [ 0.,  1.,  0.],\n",
              "       [ 0.,  0.,  1.]])"
            ]
          },
          "metadata": {
            "tags": []
          },
          "execution_count": 23
        }
      ]
    },
    {
      "cell_type": "code",
      "metadata": {
        "id": "aEKi9Z0z2wqS",
        "colab_type": "code",
        "colab": {},
        "outputId": "27a7ca0c-dcda-4c60-db79-0b59bd467d3e"
      },
      "source": [
        "d = np.eye(3, 2) #3 is number of rows, 2 is number of columns, index of diagonal start with 0\n",
        "\n",
        "d"
      ],
      "execution_count": 0,
      "outputs": [
        {
          "output_type": "execute_result",
          "data": {
            "text/plain": [
              "array([[ 1.,  0.],\n",
              "       [ 0.,  1.],\n",
              "       [ 0.,  0.]])"
            ]
          },
          "metadata": {
            "tags": []
          },
          "execution_count": 24
        }
      ]
    },
    {
      "cell_type": "code",
      "metadata": {
        "id": "kRQI0AAu2wql",
        "colab_type": "code",
        "colab": {},
        "outputId": "412bfe82-3f4d-4218-cefc-c6304d8a10b2"
      },
      "source": [
        "#create array using diag function\n",
        "\n",
        "a = np.diag([1, 2, 3, 4]) #construct a diagonal array.\n",
        "\n",
        "a"
      ],
      "execution_count": 0,
      "outputs": [
        {
          "output_type": "execute_result",
          "data": {
            "text/plain": [
              "array([[1, 0, 0, 0],\n",
              "       [0, 2, 0, 0],\n",
              "       [0, 0, 3, 0],\n",
              "       [0, 0, 0, 4]])"
            ]
          },
          "metadata": {
            "tags": []
          },
          "execution_count": 22
        }
      ]
    },
    {
      "cell_type": "code",
      "metadata": {
        "id": "uoFFZ__K2wqs",
        "colab_type": "code",
        "colab": {},
        "outputId": "84f6a57c-101a-4192-946e-bd63cb7da540"
      },
      "source": [
        "np.diag(a)   #Extract diagonal"
      ],
      "execution_count": 0,
      "outputs": [
        {
          "output_type": "execute_result",
          "data": {
            "text/plain": [
              "array([1, 2, 3, 4])"
            ]
          },
          "metadata": {
            "tags": []
          },
          "execution_count": 23
        }
      ]
    },
    {
      "cell_type": "code",
      "metadata": {
        "id": "me2iUYoT2wqz",
        "colab_type": "code",
        "colab": {},
        "outputId": "40796375-696b-46dc-c725-d9ec3b5f781a"
      },
      "source": [
        "#create array using random\n",
        "\n",
        "#Create an array of the given shape and populate it with random samples from a uniform distribution over [0, 1).\n",
        "a = np.random.rand(4) \n",
        "\n",
        "a"
      ],
      "execution_count": 0,
      "outputs": [
        {
          "output_type": "execute_result",
          "data": {
            "text/plain": [
              "array([ 0.85434586,  0.05106692,  0.37337949,  0.32093548])"
            ]
          },
          "metadata": {
            "tags": []
          },
          "execution_count": 24
        }
      ]
    },
    {
      "cell_type": "code",
      "metadata": {
        "id": "kks-nadU2wq-",
        "colab_type": "code",
        "colab": {},
        "outputId": "048cfcee-7ecf-461f-830b-ed016c55e9df"
      },
      "source": [
        "a = np.random.randn(4)#Return a sample (or samples) from the “standard normal” distribution.  ***Gausian***\n",
        "\n",
        "a"
      ],
      "execution_count": 0,
      "outputs": [
        {
          "output_type": "execute_result",
          "data": {
            "text/plain": [
              "array([  1.99407539e+00,  -1.33836224e+00,   3.07395038e-04,\n",
              "         4.73482900e-01])"
            ]
          },
          "metadata": {
            "tags": []
          },
          "execution_count": 26
        }
      ]
    },
    {
      "cell_type": "markdown",
      "metadata": {
        "id": "LsnUCADK2wrE",
        "colab_type": "text"
      },
      "source": [
        "**Note:**\n",
        "    \n",
        "For random samples from N(\\mu, \\sigma^2), use:\n",
        "\n",
        "sigma * np.random.randn(...) + mu\n",
        "\n"
      ]
    },
    {
      "cell_type": "markdown",
      "metadata": {
        "id": "cZSmumDL2wrG",
        "colab_type": "text"
      },
      "source": [
        "# 2. Basic DataTypes"
      ]
    },
    {
      "cell_type": "markdown",
      "metadata": {
        "id": "s8zsjIJO2wrJ",
        "colab_type": "text"
      },
      "source": [
        "You may have noticed that, in some instances, array elements are displayed with a **trailing dot (e.g. 2. vs 2)**. This is due to a difference in the **data-type** used:"
      ]
    },
    {
      "cell_type": "code",
      "metadata": {
        "id": "jP_6zCVc2wrP",
        "colab_type": "code",
        "colab": {},
        "outputId": "2089cdf0-bfbf-4cd7-fad1-c4fd54b1d20f"
      },
      "source": [
        "a = np.arange(10)\n",
        "\n",
        "a.dtype"
      ],
      "execution_count": 0,
      "outputs": [
        {
          "output_type": "execute_result",
          "data": {
            "text/plain": [
              "dtype('int64')"
            ]
          },
          "metadata": {
            "tags": []
          },
          "execution_count": 26
        }
      ]
    },
    {
      "cell_type": "code",
      "metadata": {
        "id": "3NtIQ9lS2wra",
        "colab_type": "code",
        "colab": {},
        "outputId": "9048adc2-7d80-4e85-acad-dd69d99ee870"
      },
      "source": [
        "#You can explicitly specify which data-type you want:\n",
        "\n",
        "a = np.arange(10, dtype='float64')\n",
        "a"
      ],
      "execution_count": 0,
      "outputs": [
        {
          "output_type": "execute_result",
          "data": {
            "text/plain": [
              "array([ 0.,  1.,  2.,  3.,  4.,  5.,  6.,  7.,  8.,  9.])"
            ]
          },
          "metadata": {
            "tags": []
          },
          "execution_count": 27
        }
      ]
    },
    {
      "cell_type": "code",
      "metadata": {
        "id": "EEyMF_YN2wrh",
        "colab_type": "code",
        "colab": {},
        "outputId": "31f8b80e-f9a6-4b2f-c522-d8385806982a"
      },
      "source": [
        "#The default data type is float for zeros and ones function\n",
        "\n",
        "a = np.zeros((3, 3))\n",
        "\n",
        "print(a)\n",
        "\n",
        "a.dtype"
      ],
      "execution_count": 0,
      "outputs": [
        {
          "output_type": "stream",
          "text": [
            "[[ 0.  0.  0.]\n",
            " [ 0.  0.  0.]\n",
            " [ 0.  0.  0.]]\n"
          ],
          "name": "stdout"
        },
        {
          "output_type": "execute_result",
          "data": {
            "text/plain": [
              "dtype('float64')"
            ]
          },
          "metadata": {
            "tags": []
          },
          "execution_count": 28
        }
      ]
    },
    {
      "cell_type": "markdown",
      "metadata": {
        "id": "KMzQJ5Bv2wru",
        "colab_type": "text"
      },
      "source": [
        "**other datatypes**"
      ]
    },
    {
      "cell_type": "code",
      "metadata": {
        "id": "ZoMoNf_32wrx",
        "colab_type": "code",
        "colab": {},
        "outputId": "5d9aa3e7-a605-4b6e-e3d0-ad8eb3ab4364"
      },
      "source": [
        "d = np.array([1+2j, 2+4j])   #Complex datatype\n",
        "\n",
        "print(d.dtype)"
      ],
      "execution_count": 0,
      "outputs": [
        {
          "output_type": "stream",
          "text": [
            "complex128\n"
          ],
          "name": "stdout"
        }
      ]
    },
    {
      "cell_type": "code",
      "metadata": {
        "id": "TnnluxZA2wr2",
        "colab_type": "code",
        "colab": {},
        "outputId": "ed2a22e2-0847-41a1-fd13-6fc78280ddfd"
      },
      "source": [
        "b = np.array([True, False, True, False])  #Boolean datatype\n",
        "\n",
        "print(b.dtype)"
      ],
      "execution_count": 0,
      "outputs": [
        {
          "output_type": "stream",
          "text": [
            "bool\n"
          ],
          "name": "stdout"
        }
      ]
    },
    {
      "cell_type": "code",
      "metadata": {
        "id": "nO76QiS-2wr9",
        "colab_type": "code",
        "colab": {},
        "outputId": "071f326a-53cf-4206-a3a1-0389d6b88d95"
      },
      "source": [
        "s = np.array(['Ram', 'Robert', 'Rahim'])\n",
        "\n",
        "s.dtype"
      ],
      "execution_count": 0,
      "outputs": [
        {
          "output_type": "execute_result",
          "data": {
            "text/plain": [
              "dtype('S6')"
            ]
          },
          "metadata": {
            "tags": []
          },
          "execution_count": 31
        }
      ]
    },
    {
      "cell_type": "markdown",
      "metadata": {
        "id": "XVw74J4Y2wsF",
        "colab_type": "text"
      },
      "source": [
        "**Each built-in data type has a character code that uniquely identifies it.**\n",
        "\n",
        "'b' − boolean\n",
        "\n",
        "'i' − (signed) integer\n",
        "\n",
        "'u' − unsigned integer\n",
        "\n",
        "'f' − floating-point\n",
        "\n",
        "'c' − complex-floating point\n",
        "\n",
        "'m' − timedelta\n",
        "\n",
        "'M' − datetime\n",
        "\n",
        "'O' − (Python) objects\n",
        "\n",
        "'S', 'a' − (byte-)string\n",
        "\n",
        "'U' − Unicode\n",
        "\n",
        "'V' − raw data (void)"
      ]
    },
    {
      "cell_type": "markdown",
      "metadata": {
        "id": "F3OQdJ6M2wsG",
        "colab_type": "text"
      },
      "source": [
        "**For more details**\n",
        "\n",
        "**https://docs.scipy.org/doc/numpy-1.10.1/user/basics.types.html**"
      ]
    },
    {
      "cell_type": "markdown",
      "metadata": {
        "id": "HVmBc1Hp2wsH",
        "colab_type": "text"
      },
      "source": [
        "# 3. Indexing and Slicing"
      ]
    },
    {
      "cell_type": "markdown",
      "metadata": {
        "id": "hsWsaz0B2wsK",
        "colab_type": "text"
      },
      "source": [
        "**3.1 Indexing**"
      ]
    },
    {
      "cell_type": "markdown",
      "metadata": {
        "id": "521WjNS42wsM",
        "colab_type": "text"
      },
      "source": [
        "The items of an array can be accessed and assigned to the same way as other **Python sequences (e.g. lists)**:"
      ]
    },
    {
      "cell_type": "code",
      "metadata": {
        "id": "T94NBQZ_2wsN",
        "colab_type": "code",
        "colab": {},
        "outputId": "9753a073-5316-42ec-b508-e21a9a719381"
      },
      "source": [
        "a = np.arange(10)\n",
        "\n",
        "print(a[5])  #indices begin at 0, like other Python sequences (and C/C++)"
      ],
      "execution_count": 0,
      "outputs": [
        {
          "output_type": "stream",
          "text": [
            "5\n"
          ],
          "name": "stdout"
        }
      ]
    },
    {
      "cell_type": "code",
      "metadata": {
        "id": "lbWRujmZ2wsU",
        "colab_type": "code",
        "colab": {},
        "outputId": "6134d217-5e93-4fc5-fadf-d9fec340f020"
      },
      "source": [
        "# For multidimensional arrays, indexes are tuples of integers:\n",
        "\n",
        "a = np.diag([1, 2, 3])\n",
        "\n",
        "print(a[2, 2])"
      ],
      "execution_count": 0,
      "outputs": [
        {
          "output_type": "stream",
          "text": [
            "3\n"
          ],
          "name": "stdout"
        }
      ]
    },
    {
      "cell_type": "code",
      "metadata": {
        "id": "qcoNIEP72wsa",
        "colab_type": "code",
        "colab": {},
        "outputId": "f0b074ef-12a0-485e-a6ed-ccd92c455e0a"
      },
      "source": [
        "a[2, 1] = 5 #assigning value\n",
        "\n",
        "a"
      ],
      "execution_count": 0,
      "outputs": [
        {
          "output_type": "execute_result",
          "data": {
            "text/plain": [
              "array([[1, 0, 0],\n",
              "       [0, 2, 0],\n",
              "       [0, 5, 3]])"
            ]
          },
          "metadata": {
            "tags": []
          },
          "execution_count": 35
        }
      ]
    },
    {
      "cell_type": "markdown",
      "metadata": {
        "id": "TxP6aFMq2wse",
        "colab_type": "text"
      },
      "source": [
        "**3.2 Slicing**"
      ]
    },
    {
      "cell_type": "code",
      "metadata": {
        "id": "AePURpL22wsh",
        "colab_type": "code",
        "colab": {},
        "outputId": "56aa7b5b-7241-42ee-8480-3d37f2e2ad70"
      },
      "source": [
        "a = np.arange(10)\n",
        "\n",
        "a"
      ],
      "execution_count": 0,
      "outputs": [
        {
          "output_type": "execute_result",
          "data": {
            "text/plain": [
              "array([0, 1, 2, 3, 4, 5, 6, 7, 8, 9])"
            ]
          },
          "metadata": {
            "tags": []
          },
          "execution_count": 36
        }
      ]
    },
    {
      "cell_type": "code",
      "metadata": {
        "id": "BT_Opjss2wsq",
        "colab_type": "code",
        "colab": {},
        "outputId": "6d36e3af-2425-48e0-d825-64092b9f8544"
      },
      "source": [
        "a[1:8:2] # [startindex: endindex(exclusive) : step]"
      ],
      "execution_count": 0,
      "outputs": [
        {
          "output_type": "execute_result",
          "data": {
            "text/plain": [
              "array([1, 3, 5, 7])"
            ]
          },
          "metadata": {
            "tags": []
          },
          "execution_count": 37
        }
      ]
    },
    {
      "cell_type": "code",
      "metadata": {
        "id": "C7WNZlP42wsv",
        "colab_type": "code",
        "colab": {},
        "outputId": "a9500c78-db83-4b29-994c-35acad1e6604"
      },
      "source": [
        "#we can also combine assignment and slicing:\n",
        "\n",
        "a = np.arange(10)\n",
        "a[5:] = 10\n",
        "a"
      ],
      "execution_count": 0,
      "outputs": [
        {
          "output_type": "execute_result",
          "data": {
            "text/plain": [
              "array([ 0,  1,  2,  3,  4, 10, 10, 10, 10, 10])"
            ]
          },
          "metadata": {
            "tags": []
          },
          "execution_count": 39
        }
      ]
    },
    {
      "cell_type": "code",
      "metadata": {
        "id": "JC8aUd7X2ws5",
        "colab_type": "code",
        "colab": {},
        "outputId": "57213525-0403-4dc6-9b60-b50bd6c8c6a3"
      },
      "source": [
        "b = np.arange(5)\n",
        "a[5:] = b[::-1]  #assigning\n",
        "\n",
        "a"
      ],
      "execution_count": 0,
      "outputs": [
        {
          "output_type": "execute_result",
          "data": {
            "text/plain": [
              "array([0, 1, 2, 3, 4, 4, 3, 2, 1, 0])"
            ]
          },
          "metadata": {
            "tags": []
          },
          "execution_count": 40
        }
      ]
    },
    {
      "cell_type": "markdown",
      "metadata": {
        "id": "e1t6qM7v2wtE",
        "colab_type": "text"
      },
      "source": [
        "# 4. Copies and Views"
      ]
    },
    {
      "cell_type": "markdown",
      "metadata": {
        "id": "2MoupSdR2wtH",
        "colab_type": "text"
      },
      "source": [
        "A slicing operation creates a view on the original array, which is just a way of accessing array data. Thus the original array is not copied in memory. You can use **np.may_share_memory()** to check if two arrays share the same memory block. "
      ]
    },
    {
      "cell_type": "markdown",
      "metadata": {
        "id": "VX2wBNjc2wtI",
        "colab_type": "text"
      },
      "source": [
        "**When modifying the view, the original array is modified as well:**"
      ]
    },
    {
      "cell_type": "code",
      "metadata": {
        "id": "IYwNVQjf2wtM",
        "colab_type": "code",
        "colab": {},
        "outputId": "c9f78292-17e7-49cb-f6da-2112b4bf53d6"
      },
      "source": [
        "a = np.arange(10)\n",
        "a"
      ],
      "execution_count": 0,
      "outputs": [
        {
          "output_type": "execute_result",
          "data": {
            "text/plain": [
              "array([0, 1, 2, 3, 4, 5, 6, 7, 8, 9])"
            ]
          },
          "metadata": {
            "tags": []
          },
          "execution_count": 41
        }
      ]
    },
    {
      "cell_type": "code",
      "metadata": {
        "id": "yiuRfpEB2wtQ",
        "colab_type": "code",
        "colab": {},
        "outputId": "f8ba74d0-aa83-474f-b58e-43f3a7166c37"
      },
      "source": [
        "b = a[::2]\n",
        "b"
      ],
      "execution_count": 0,
      "outputs": [
        {
          "output_type": "execute_result",
          "data": {
            "text/plain": [
              "array([0, 2, 4, 6, 8])"
            ]
          },
          "metadata": {
            "tags": []
          },
          "execution_count": 42
        }
      ]
    },
    {
      "cell_type": "code",
      "metadata": {
        "id": "o5O5HNgS2wtW",
        "colab_type": "code",
        "colab": {},
        "outputId": "3ac0b352-f788-4fa7-e774-21ce2b5bb6c9"
      },
      "source": [
        "np.shares_memory(a, b)"
      ],
      "execution_count": 0,
      "outputs": [
        {
          "output_type": "execute_result",
          "data": {
            "text/plain": [
              "True"
            ]
          },
          "metadata": {
            "tags": []
          },
          "execution_count": 43
        }
      ]
    },
    {
      "cell_type": "code",
      "metadata": {
        "id": "yKm_oxSQ2wtf",
        "colab_type": "code",
        "colab": {},
        "outputId": "fb305be5-3e4e-476d-bae2-4ec2f7b931ab"
      },
      "source": [
        "b[0] = 10\n",
        "b"
      ],
      "execution_count": 0,
      "outputs": [
        {
          "output_type": "execute_result",
          "data": {
            "text/plain": [
              "array([10,  2,  4,  6,  8])"
            ]
          },
          "metadata": {
            "tags": []
          },
          "execution_count": 44
        }
      ]
    },
    {
      "cell_type": "code",
      "metadata": {
        "id": "RAprTc_G2wto",
        "colab_type": "code",
        "colab": {},
        "outputId": "8f6c170c-76ed-4c49-ac4b-0a8a4f4dc9ec"
      },
      "source": [
        "a  #eventhough we modified b,  it updated 'a' because both shares same memory"
      ],
      "execution_count": 0,
      "outputs": [
        {
          "output_type": "execute_result",
          "data": {
            "text/plain": [
              "array([10,  1,  2,  3,  4,  5,  6,  7,  8,  9])"
            ]
          },
          "metadata": {
            "tags": []
          },
          "execution_count": 45
        }
      ]
    },
    {
      "cell_type": "code",
      "metadata": {
        "id": "a933PzzF2wtv",
        "colab_type": "code",
        "colab": {},
        "outputId": "bb75a53e-919d-4e27-ea98-c85ae1794b40"
      },
      "source": [
        "\n",
        "\n",
        "a = np.arange(10)\n",
        "\n",
        "c = a[::2].copy()     #force a copy\n",
        "c"
      ],
      "execution_count": 0,
      "outputs": [
        {
          "output_type": "execute_result",
          "data": {
            "text/plain": [
              "array([0, 2, 4, 6, 8])"
            ]
          },
          "metadata": {
            "tags": []
          },
          "execution_count": 46
        }
      ]
    },
    {
      "cell_type": "code",
      "metadata": {
        "id": "oXeTZmkF2wt3",
        "colab_type": "code",
        "colab": {},
        "outputId": "649374dd-e919-4173-ff21-d80a056d8723"
      },
      "source": [
        "np.shares_memory(a, c)"
      ],
      "execution_count": 0,
      "outputs": [
        {
          "output_type": "execute_result",
          "data": {
            "text/plain": [
              "False"
            ]
          },
          "metadata": {
            "tags": []
          },
          "execution_count": 47
        }
      ]
    },
    {
      "cell_type": "code",
      "metadata": {
        "id": "y6MiYFJJ2wt9",
        "colab_type": "code",
        "colab": {},
        "outputId": "b538e0b5-e4c7-4f99-a4bf-7ed44aff61cf"
      },
      "source": [
        "c[0] = 10\n",
        "\n",
        "a"
      ],
      "execution_count": 0,
      "outputs": [
        {
          "output_type": "execute_result",
          "data": {
            "text/plain": [
              "array([0, 1, 2, 3, 4, 5, 6, 7, 8, 9])"
            ]
          },
          "metadata": {
            "tags": []
          },
          "execution_count": 48
        }
      ]
    },
    {
      "cell_type": "markdown",
      "metadata": {
        "id": "nCAthzbb2wuD",
        "colab_type": "text"
      },
      "source": [
        "# 5. Fancy Indexing"
      ]
    },
    {
      "cell_type": "markdown",
      "metadata": {
        "id": "XDzAH3ux2wuG",
        "colab_type": "text"
      },
      "source": [
        "NumPy arrays can be indexed with slices, but also with boolean or integer arrays **(masks)**. This method is called **fancy indexing**. It creates copies not views."
      ]
    },
    {
      "cell_type": "markdown",
      "metadata": {
        "id": "23vgJH-N2wuH",
        "colab_type": "text"
      },
      "source": [
        "**Using Boolean Mask**"
      ]
    },
    {
      "cell_type": "code",
      "metadata": {
        "id": "5PFV-GQf2wuJ",
        "colab_type": "code",
        "colab": {},
        "outputId": "db38cbd4-f37a-41f9-a976-9b92cb0cda20"
      },
      "source": [
        "a = np.random.randint(0, 20, 15)\n",
        "a"
      ],
      "execution_count": 0,
      "outputs": [
        {
          "output_type": "execute_result",
          "data": {
            "text/plain": [
              "array([18, 17,  1, 18,  5, 17,  0, 14, 12, 11,  4, 15, 16,  8,  7])"
            ]
          },
          "metadata": {
            "tags": []
          },
          "execution_count": 49
        }
      ]
    },
    {
      "cell_type": "code",
      "metadata": {
        "collapsed": true,
        "id": "bktoeCsw2wuM",
        "colab_type": "code",
        "colab": {}
      },
      "source": [
        "mask = (a % 2 == 0)"
      ],
      "execution_count": 0,
      "outputs": []
    },
    {
      "cell_type": "code",
      "metadata": {
        "id": "dYPfmIr92wuR",
        "colab_type": "code",
        "colab": {},
        "outputId": "d9759546-e494-4355-89c3-d480ff200d96"
      },
      "source": [
        "extract_from_a = a[mask]\n",
        "\n",
        "extract_from_a"
      ],
      "execution_count": 0,
      "outputs": [
        {
          "output_type": "execute_result",
          "data": {
            "text/plain": [
              "array([18, 18,  0, 14, 12,  4, 16,  8])"
            ]
          },
          "metadata": {
            "tags": []
          },
          "execution_count": 51
        }
      ]
    },
    {
      "cell_type": "markdown",
      "metadata": {
        "id": "nIsSX2wW2wuZ",
        "colab_type": "text"
      },
      "source": [
        "**Indexing with a mask can be very useful to assign a new value to a sub-array:**"
      ]
    },
    {
      "cell_type": "code",
      "metadata": {
        "id": "m8FrDFuv2wuj",
        "colab_type": "code",
        "colab": {},
        "outputId": "c648d665-a996-4f01-f9fc-159e85be7294"
      },
      "source": [
        "a[mask] = -1\n",
        "a"
      ],
      "execution_count": 0,
      "outputs": [
        {
          "output_type": "execute_result",
          "data": {
            "text/plain": [
              "array([-1, 17,  1, -1,  5, 17, -1, -1, -1, 11, -1, 15, -1, -1,  7])"
            ]
          },
          "metadata": {
            "tags": []
          },
          "execution_count": 52
        }
      ]
    },
    {
      "cell_type": "markdown",
      "metadata": {
        "id": "eURC1QOv2wux",
        "colab_type": "text"
      },
      "source": [
        "**Indexing with an array of integers**"
      ]
    },
    {
      "cell_type": "code",
      "metadata": {
        "id": "tbvEqfAl2wu0",
        "colab_type": "code",
        "colab": {},
        "outputId": "9e8cd060-6fea-4f78-ad9c-041303fed6bf"
      },
      "source": [
        "a = np.arange(0, 100, 10)\n",
        "\n",
        "a"
      ],
      "execution_count": 0,
      "outputs": [
        {
          "output_type": "execute_result",
          "data": {
            "text/plain": [
              "array([ 0, 10, 20, 30, 40, 50, 60, 70, 80, 90])"
            ]
          },
          "metadata": {
            "tags": []
          },
          "execution_count": 53
        }
      ]
    },
    {
      "cell_type": "code",
      "metadata": {
        "id": "gvd_Tx1X2wu_",
        "colab_type": "code",
        "colab": {},
        "outputId": "b7c0cb3f-0d6a-4dbc-bbec-55d5285afaaf"
      },
      "source": [
        "#Indexing can be done with an array of integers, where the same index is repeated several time:\n",
        "\n",
        "a[[2, 3, 2, 4, 2]]"
      ],
      "execution_count": 0,
      "outputs": [
        {
          "output_type": "execute_result",
          "data": {
            "text/plain": [
              "array([20, 30, 20, 40, 20])"
            ]
          },
          "metadata": {
            "tags": []
          },
          "execution_count": 54
        }
      ]
    },
    {
      "cell_type": "code",
      "metadata": {
        "id": "bDgbXGyz2wvI",
        "colab_type": "code",
        "colab": {},
        "outputId": "8b3b62f0-647d-4c10-e9ad-86a0bbdcc0bf"
      },
      "source": [
        "# New values can be assigned \n",
        "\n",
        "a[[9, 7]] = -200\n",
        "\n",
        "a"
      ],
      "execution_count": 0,
      "outputs": [
        {
          "output_type": "execute_result",
          "data": {
            "text/plain": [
              "array([   0,   10,   20,   30,   40,   50,   60, -200,   80, -200])"
            ]
          },
          "metadata": {
            "tags": []
          },
          "execution_count": 55
        }
      ]
    }
  ]
}