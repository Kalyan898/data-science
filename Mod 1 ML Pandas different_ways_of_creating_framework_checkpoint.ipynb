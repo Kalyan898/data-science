{
  "nbformat": 4,
  "nbformat_minor": 0,
  "metadata": {
    "kernelspec": {
      "display_name": "Python 3",
      "language": "python",
      "name": "python3"
    },
    "language_info": {
      "codemirror_mode": {
        "name": "ipython",
        "version": 3
      },
      "file_extension": ".py",
      "mimetype": "text/x-python",
      "name": "python",
      "nbconvert_exporter": "python",
      "pygments_lexer": "ipython3",
      "version": "3.6.1"
    },
    "colab": {
      "name": "different_ways_of_creating_framework-checkpoint.ipynb",
      "version": "0.3.2",
      "provenance": [],
      "include_colab_link": true
    }
  },
  "cells": [
    {
      "cell_type": "markdown",
      "metadata": {
        "id": "view-in-github",
        "colab_type": "text"
      },
      "source": [
        "<a href=\"https://colab.research.google.com/github/Kalyan898/data-science/blob/master/Mod%201%20ML%20Pandas%20different_ways_of_creating_framework_checkpoint.ipynb\" target=\"_parent\"><img src=\"https://colab.research.google.com/assets/colab-badge.svg\" alt=\"Open In Colab\"/></a>"
      ]
    },
    {
      "cell_type": "markdown",
      "metadata": {
        "id": "FoDDjGzq-MBT",
        "colab_type": "text"
      },
      "source": [
        "# Read and write CSV and XLS files"
      ]
    },
    {
      "cell_type": "code",
      "metadata": {
        "id": "LMe8_WpT-MBd",
        "colab_type": "code",
        "colab": {},
        "outputId": "6ed9f152-dafa-44d7-869e-3aa75cecd804"
      },
      "source": [
        "import pandas as pd\n",
        "df = pd.read_csv('weather_data.csv'df.to_csv('new.csv') )\n",
        "df"
      ],
      "execution_count": 0,
      "outputs": [
        {
          "output_type": "execute_result",
          "data": {
            "text/html": [
              "<div>\n",
              "<style>\n",
              "    .dataframe thead tr:only-child th {\n",
              "        text-align: right;\n",
              "    }\n",
              "\n",
              "    .dataframe thead th {\n",
              "        text-align: left;\n",
              "    }\n",
              "\n",
              "    .dataframe tbody tr th {\n",
              "        vertical-align: top;\n",
              "    }\n",
              "</style>\n",
              "<table border=\"1\" class=\"dataframe\">\n",
              "  <thead>\n",
              "    <tr style=\"text-align: right;\">\n",
              "      <th></th>\n",
              "      <th>day</th>\n",
              "      <th>temperature</th>\n",
              "      <th>windspeed</th>\n",
              "      <th>event</th>\n",
              "    </tr>\n",
              "  </thead>\n",
              "  <tbody>\n",
              "    <tr>\n",
              "      <th>0</th>\n",
              "      <td>1/1/2017</td>\n",
              "      <td>32</td>\n",
              "      <td>6</td>\n",
              "      <td>Rain</td>\n",
              "    </tr>\n",
              "    <tr>\n",
              "      <th>1</th>\n",
              "      <td>1/2/2017</td>\n",
              "      <td>35</td>\n",
              "      <td>7</td>\n",
              "      <td>Sunny</td>\n",
              "    </tr>\n",
              "    <tr>\n",
              "      <th>2</th>\n",
              "      <td>1/3/2017</td>\n",
              "      <td>28</td>\n",
              "      <td>2</td>\n",
              "      <td>Snow</td>\n",
              "    </tr>\n",
              "    <tr>\n",
              "      <th>3</th>\n",
              "      <td>1/4/2017</td>\n",
              "      <td>24</td>\n",
              "      <td>7</td>\n",
              "      <td>Snow</td>\n",
              "    </tr>\n",
              "    <tr>\n",
              "      <th>4</th>\n",
              "      <td>1/5/2017</td>\n",
              "      <td>32</td>\n",
              "      <td>4</td>\n",
              "      <td>Rain</td>\n",
              "    </tr>\n",
              "    <tr>\n",
              "      <th>5</th>\n",
              "      <td>1/6/2017</td>\n",
              "      <td>31</td>\n",
              "      <td>2</td>\n",
              "      <td>Sunny</td>\n",
              "    </tr>\n",
              "  </tbody>\n",
              "</table>\n",
              "</div>"
            ],
            "text/plain": [
              "        day  temperature  windspeed  event\n",
              "0  1/1/2017           32          6   Rain\n",
              "1  1/2/2017           35          7  Sunny\n",
              "2  1/3/2017           28          2   Snow\n",
              "3  1/4/2017           24          7   Snow\n",
              "4  1/5/2017           32          4   Rain\n",
              "5  1/6/2017           31          2  Sunny"
            ]
          },
          "metadata": {
            "tags": []
          },
          "execution_count": 9
        }
      ]
    },
    {
      "cell_type": "code",
      "metadata": {
        "id": "4fTGNZgk-MB_",
        "colab_type": "code",
        "colab": {},
        "outputId": "572c5270-b01e-482e-fd5c-69a3ee0dad6b"
      },
      "source": [
        "#INSTALL: pip3 install xlrd\n",
        "\n",
        "#read excel file \n",
        "df = pd.read_excel('weather_data.xlsx')\n",
        "df"
      ],
      "execution_count": 0,
      "outputs": [
        {
          "output_type": "execute_result",
          "data": {
            "text/html": [
              "<div>\n",
              "<style>\n",
              "    .dataframe thead tr:only-child th {\n",
              "        text-align: right;\n",
              "    }\n",
              "\n",
              "    .dataframe thead th {\n",
              "        text-align: left;\n",
              "    }\n",
              "\n",
              "    .dataframe tbody tr th {\n",
              "        vertical-align: top;\n",
              "    }\n",
              "</style>\n",
              "<table border=\"1\" class=\"dataframe\">\n",
              "  <thead>\n",
              "    <tr style=\"text-align: right;\">\n",
              "      <th></th>\n",
              "      <th>day</th>\n",
              "      <th>temperature</th>\n",
              "      <th>windspeed</th>\n",
              "      <th>event</th>\n",
              "    </tr>\n",
              "  </thead>\n",
              "  <tbody>\n",
              "    <tr>\n",
              "      <th>0</th>\n",
              "      <td>1/1/2017</td>\n",
              "      <td>32</td>\n",
              "      <td>6</td>\n",
              "      <td>Rain</td>\n",
              "    </tr>\n",
              "    <tr>\n",
              "      <th>1</th>\n",
              "      <td>1/2/2017</td>\n",
              "      <td>35</td>\n",
              "      <td>7</td>\n",
              "      <td>Sunny</td>\n",
              "    </tr>\n",
              "    <tr>\n",
              "      <th>2</th>\n",
              "      <td>1/3/2017</td>\n",
              "      <td>28</td>\n",
              "      <td>2</td>\n",
              "      <td>Snow</td>\n",
              "    </tr>\n",
              "    <tr>\n",
              "      <th>3</th>\n",
              "      <td>1/4/2017</td>\n",
              "      <td>24</td>\n",
              "      <td>7</td>\n",
              "      <td>Snow</td>\n",
              "    </tr>\n",
              "    <tr>\n",
              "      <th>4</th>\n",
              "      <td>1/5/2017</td>\n",
              "      <td>32</td>\n",
              "      <td>4</td>\n",
              "      <td>Rain</td>\n",
              "    </tr>\n",
              "    <tr>\n",
              "      <th>5</th>\n",
              "      <td>1/6/2017</td>\n",
              "      <td>31</td>\n",
              "      <td>2</td>\n",
              "      <td>Sunny</td>\n",
              "    </tr>\n",
              "  </tbody>\n",
              "</table>\n",
              "</div>"
            ],
            "text/plain": [
              "        day  temperature  windspeed  event\n",
              "0  1/1/2017           32          6   Rain\n",
              "1  1/2/2017           35          7  Sunny\n",
              "2  1/3/2017           28          2   Snow\n",
              "3  1/4/2017           24          7   Snow\n",
              "4  1/5/2017           32          4   Rain\n",
              "5  1/6/2017           31          2  Sunny"
            ]
          },
          "metadata": {
            "tags": []
          },
          "execution_count": 3
        }
      ]
    },
    {
      "cell_type": "code",
      "metadata": {
        "collapsed": true,
        "id": "v2aFrF8a-MCV",
        "colab_type": "code",
        "colab": {}
      },
      "source": [
        "#write DF to csv\n",
        "df.to_csv('new.csv') \n",
        "df.to_csv('new_noIndex.csv', index=False)"
      ],
      "execution_count": 0,
      "outputs": []
    },
    {
      "cell_type": "code",
      "metadata": {
        "id": "VboLoi8C-MCo",
        "colab_type": "code",
        "colab": {}
      },
      "source": [
        "# INSTALL: pip3 install openpyxl\n",
        "\n",
        "#write DF to Excel\n",
        "df.to_excel('new.xlsx', sheet_name='weather_data')"
      ],
      "execution_count": 0,
      "outputs": []
    },
    {
      "cell_type": "markdown",
      "metadata": {
        "id": "wzv464co-MC7",
        "colab_type": "text"
      },
      "source": [
        "# GROUP-BY"
      ]
    },
    {
      "cell_type": "code",
      "metadata": {
        "id": "iN4CxAma-MDA",
        "colab_type": "code",
        "colab": {},
        "outputId": "cbe5adb9-212f-48cb-871f-bec7f8d870ca"
      },
      "source": [
        "import pandas as pd\n",
        "df = pd.read_csv('weather_data_cities.csv')\n",
        "df #weather by cities"
      ],
      "execution_count": 0,
      "outputs": [
        {
          "output_type": "execute_result",
          "data": {
            "text/html": [
              "<div>\n",
              "<style>\n",
              "    .dataframe thead tr:only-child th {\n",
              "        text-align: right;\n",
              "    }\n",
              "\n",
              "    .dataframe thead th {\n",
              "        text-align: left;\n",
              "    }\n",
              "\n",
              "    .dataframe tbody tr th {\n",
              "        vertical-align: top;\n",
              "    }\n",
              "</style>\n",
              "<table border=\"1\" class=\"dataframe\">\n",
              "  <thead>\n",
              "    <tr style=\"text-align: right;\">\n",
              "      <th></th>\n",
              "      <th>day</th>\n",
              "      <th>city</th>\n",
              "      <th>temperature</th>\n",
              "      <th>windspeed</th>\n",
              "      <th>event</th>\n",
              "    </tr>\n",
              "  </thead>\n",
              "  <tbody>\n",
              "    <tr>\n",
              "      <th>0</th>\n",
              "      <td>1/1/2017</td>\n",
              "      <td>new york</td>\n",
              "      <td>32</td>\n",
              "      <td>6</td>\n",
              "      <td>Rain</td>\n",
              "    </tr>\n",
              "    <tr>\n",
              "      <th>1</th>\n",
              "      <td>1/2/2017</td>\n",
              "      <td>new york</td>\n",
              "      <td>36</td>\n",
              "      <td>7</td>\n",
              "      <td>Sunny</td>\n",
              "    </tr>\n",
              "    <tr>\n",
              "      <th>2</th>\n",
              "      <td>1/3/2017</td>\n",
              "      <td>new york</td>\n",
              "      <td>28</td>\n",
              "      <td>12</td>\n",
              "      <td>Snow</td>\n",
              "    </tr>\n",
              "    <tr>\n",
              "      <th>3</th>\n",
              "      <td>1/4/2017</td>\n",
              "      <td>new york</td>\n",
              "      <td>33</td>\n",
              "      <td>7</td>\n",
              "      <td>Sunny</td>\n",
              "    </tr>\n",
              "    <tr>\n",
              "      <th>4</th>\n",
              "      <td>1/1/2017</td>\n",
              "      <td>mumbai</td>\n",
              "      <td>90</td>\n",
              "      <td>5</td>\n",
              "      <td>Sunny</td>\n",
              "    </tr>\n",
              "    <tr>\n",
              "      <th>5</th>\n",
              "      <td>1/2/2017</td>\n",
              "      <td>mumbai</td>\n",
              "      <td>85</td>\n",
              "      <td>12</td>\n",
              "      <td>Fog</td>\n",
              "    </tr>\n",
              "    <tr>\n",
              "      <th>6</th>\n",
              "      <td>1/3/2017</td>\n",
              "      <td>mumbai</td>\n",
              "      <td>87</td>\n",
              "      <td>15</td>\n",
              "      <td>Fog</td>\n",
              "    </tr>\n",
              "    <tr>\n",
              "      <th>7</th>\n",
              "      <td>1/4/2017</td>\n",
              "      <td>mumbai</td>\n",
              "      <td>92</td>\n",
              "      <td>5</td>\n",
              "      <td>Rain</td>\n",
              "    </tr>\n",
              "    <tr>\n",
              "      <th>8</th>\n",
              "      <td>1/1/2017</td>\n",
              "      <td>paris</td>\n",
              "      <td>45</td>\n",
              "      <td>20</td>\n",
              "      <td>Sunny</td>\n",
              "    </tr>\n",
              "    <tr>\n",
              "      <th>9</th>\n",
              "      <td>1/2/2017</td>\n",
              "      <td>paris</td>\n",
              "      <td>50</td>\n",
              "      <td>13</td>\n",
              "      <td>Cloudy</td>\n",
              "    </tr>\n",
              "    <tr>\n",
              "      <th>10</th>\n",
              "      <td>1/3/2017</td>\n",
              "      <td>paris</td>\n",
              "      <td>54</td>\n",
              "      <td>8</td>\n",
              "      <td>Cloudy</td>\n",
              "    </tr>\n",
              "    <tr>\n",
              "      <th>11</th>\n",
              "      <td>1/4/2017</td>\n",
              "      <td>paris</td>\n",
              "      <td>42</td>\n",
              "      <td>10</td>\n",
              "      <td>Cloudy</td>\n",
              "    </tr>\n",
              "  </tbody>\n",
              "</table>\n",
              "</div>"
            ],
            "text/plain": [
              "         day      city  temperature  windspeed   event\n",
              "0   1/1/2017  new york           32          6    Rain\n",
              "1   1/2/2017  new york           36          7   Sunny\n",
              "2   1/3/2017  new york           28         12    Snow\n",
              "3   1/4/2017  new york           33          7   Sunny\n",
              "4   1/1/2017    mumbai           90          5   Sunny\n",
              "5   1/2/2017    mumbai           85         12     Fog\n",
              "6   1/3/2017    mumbai           87         15     Fog\n",
              "7   1/4/2017    mumbai           92          5    Rain\n",
              "8   1/1/2017     paris           45         20   Sunny\n",
              "9   1/2/2017     paris           50         13  Cloudy\n",
              "10  1/3/2017     paris           54          8  Cloudy\n",
              "11  1/4/2017     paris           42         10  Cloudy"
            ]
          },
          "metadata": {
            "tags": []
          },
          "execution_count": 14
        }
      ]
    },
    {
      "cell_type": "code",
      "metadata": {
        "id": "JGWjWzpt-MDP",
        "colab_type": "code",
        "colab": {},
        "outputId": "9237fb2a-95e5-4463-8769-58ff540a4949"
      },
      "source": [
        "g = df.groupby('city')\n",
        "g"
      ],
      "execution_count": 0,
      "outputs": [
        {
          "output_type": "execute_result",
          "data": {
            "text/plain": [
              "<pandas.core.groupby.DataFrameGroupBy object at 0x106d495f8>"
            ]
          },
          "metadata": {
            "tags": []
          },
          "execution_count": 15
        }
      ]
    },
    {
      "cell_type": "code",
      "metadata": {
        "id": "w0DZuEjU-MDg",
        "colab_type": "code",
        "colab": {},
        "outputId": "87a86747-fbd9-477f-c47e-524f021d536e"
      },
      "source": [
        "for city, city_df in g:\n",
        "    print(city)\n",
        "    print(city_df)"
      ],
      "execution_count": 0,
      "outputs": [
        {
          "output_type": "stream",
          "text": [
            "mumbai\n",
            "        day    city  temperature  windspeed  event\n",
            "4  1/1/2017  mumbai           90          5  Sunny\n",
            "5  1/2/2017  mumbai           85         12    Fog\n",
            "6  1/3/2017  mumbai           87         15    Fog\n",
            "7  1/4/2017  mumbai           92          5   Rain\n",
            "new york\n",
            "        day      city  temperature  windspeed  event\n",
            "0  1/1/2017  new york           32          6   Rain\n",
            "1  1/2/2017  new york           36          7  Sunny\n",
            "2  1/3/2017  new york           28         12   Snow\n",
            "3  1/4/2017  new york           33          7  Sunny\n",
            "paris\n",
            "         day   city  temperature  windspeed   event\n",
            "8   1/1/2017  paris           45         20   Sunny\n",
            "9   1/2/2017  paris           50         13  Cloudy\n",
            "10  1/3/2017  paris           54          8  Cloudy\n",
            "11  1/4/2017  paris           42         10  Cloudy\n"
          ],
          "name": "stdout"
        }
      ]
    },
    {
      "cell_type": "code",
      "metadata": {
        "id": "KRXaRCMv-MDw",
        "colab_type": "code",
        "colab": {},
        "outputId": "a1e6caac-ada5-4bcb-ed70-fe664f7ccf98"
      },
      "source": [
        "#or to get specific group\n",
        "g.get_group('new york')\n"
      ],
      "execution_count": 0,
      "outputs": [
        {
          "output_type": "execute_result",
          "data": {
            "text/html": [
              "<div>\n",
              "<style>\n",
              "    .dataframe thead tr:only-child th {\n",
              "        text-align: right;\n",
              "    }\n",
              "\n",
              "    .dataframe thead th {\n",
              "        text-align: left;\n",
              "    }\n",
              "\n",
              "    .dataframe tbody tr th {\n",
              "        vertical-align: top;\n",
              "    }\n",
              "</style>\n",
              "<table border=\"1\" class=\"dataframe\">\n",
              "  <thead>\n",
              "    <tr style=\"text-align: right;\">\n",
              "      <th></th>\n",
              "      <th>day</th>\n",
              "      <th>city</th>\n",
              "      <th>temperature</th>\n",
              "      <th>windspeed</th>\n",
              "      <th>event</th>\n",
              "    </tr>\n",
              "  </thead>\n",
              "  <tbody>\n",
              "    <tr>\n",
              "      <th>0</th>\n",
              "      <td>1/1/2017</td>\n",
              "      <td>new york</td>\n",
              "      <td>32</td>\n",
              "      <td>6</td>\n",
              "      <td>Rain</td>\n",
              "    </tr>\n",
              "    <tr>\n",
              "      <th>1</th>\n",
              "      <td>1/2/2017</td>\n",
              "      <td>new york</td>\n",
              "      <td>36</td>\n",
              "      <td>7</td>\n",
              "      <td>Sunny</td>\n",
              "    </tr>\n",
              "    <tr>\n",
              "      <th>2</th>\n",
              "      <td>1/3/2017</td>\n",
              "      <td>new york</td>\n",
              "      <td>28</td>\n",
              "      <td>12</td>\n",
              "      <td>Snow</td>\n",
              "    </tr>\n",
              "    <tr>\n",
              "      <th>3</th>\n",
              "      <td>1/4/2017</td>\n",
              "      <td>new york</td>\n",
              "      <td>33</td>\n",
              "      <td>7</td>\n",
              "      <td>Sunny</td>\n",
              "    </tr>\n",
              "  </tbody>\n",
              "</table>\n",
              "</div>"
            ],
            "text/plain": [
              "        day      city  temperature  windspeed  event\n",
              "0  1/1/2017  new york           32          6   Rain\n",
              "1  1/2/2017  new york           36          7  Sunny\n",
              "2  1/3/2017  new york           28         12   Snow\n",
              "3  1/4/2017  new york           33          7  Sunny"
            ]
          },
          "metadata": {
            "tags": []
          },
          "execution_count": 18
        }
      ]
    },
    {
      "cell_type": "code",
      "metadata": {
        "id": "ZcWEuRWH-MEC",
        "colab_type": "code",
        "colab": {},
        "outputId": "056d97b8-60e0-49ff-94a0-f3b9d3e2a258"
      },
      "source": [
        "#Find maximum temperature in each of the cities\n",
        "print(g.max())"
      ],
      "execution_count": 0,
      "outputs": [
        {
          "output_type": "stream",
          "text": [
            "               day  temperature  windspeed  event\n",
            "city                                             \n",
            "mumbai    1/4/2017           92         15  Sunny\n",
            "new york  1/4/2017           36         12  Sunny\n",
            "paris     1/4/2017           54         20  Sunny\n"
          ],
          "name": "stdout"
        }
      ]
    },
    {
      "cell_type": "code",
      "metadata": {
        "id": "DowK_U66-MET",
        "colab_type": "code",
        "colab": {},
        "outputId": "6497b123-bf2d-4735-a0f0-1f9c8418c808"
      },
      "source": [
        "print(g.mean())\n"
      ],
      "execution_count": 0,
      "outputs": [
        {
          "output_type": "stream",
          "text": [
            "          temperature  windspeed\n",
            "city                            \n",
            "mumbai          88.50       9.25\n",
            "new york        32.25       8.00\n",
            "paris           47.75      12.75\n"
          ],
          "name": "stdout"
        }
      ]
    },
    {
      "cell_type": "code",
      "metadata": {
        "id": "Mkm9zy5b-MEl",
        "colab_type": "code",
        "colab": {},
        "outputId": "33f771dc-98cb-44d1-fde8-6ec9c5fcea98"
      },
      "source": [
        "print(g.describe())"
      ],
      "execution_count": 0,
      "outputs": [
        {
          "output_type": "stream",
          "text": [
            "         temperature                                                   \\\n",
            "               count   mean       std   min    25%   50%    75%   max   \n",
            "city                                                                    \n",
            "mumbai           4.0  88.50  3.109126  85.0  86.50  88.5  90.50  92.0   \n",
            "new york         4.0  32.25  3.304038  28.0  31.00  32.5  33.75  36.0   \n",
            "paris            4.0  47.75  5.315073  42.0  44.25  47.5  51.00  54.0   \n",
            "\n",
            "         windspeed                                                 \n",
            "             count   mean       std  min   25%   50%    75%   max  \n",
            "city                                                               \n",
            "mumbai         4.0   9.25  5.057997  5.0  5.00   8.5  12.75  15.0  \n",
            "new york       4.0   8.00  2.708013  6.0  6.75   7.0   8.25  12.0  \n",
            "paris          4.0  12.75  5.251984  8.0  9.50  11.5  14.75  20.0  \n"
          ],
          "name": "stdout"
        }
      ]
    },
    {
      "cell_type": "markdown",
      "metadata": {
        "id": "8Ta22Nh3-MFA",
        "colab_type": "text"
      },
      "source": [
        "# Concatinate Data Frames"
      ]
    },
    {
      "cell_type": "code",
      "metadata": {
        "id": "AIAub5bg-MFF",
        "colab_type": "code",
        "colab": {},
        "outputId": "324c0b3d-f06b-4399-95e7-fdfd4e275a5a"
      },
      "source": [
        "import pandas as pd\n",
        "india_weather = pd.DataFrame({\n",
        "    \"city\": [\"mumbai\",\"delhi\",\"banglore\"],\n",
        "    \"temperature\": [32,45,30],\n",
        "    \"humidity\": [80, 60, 78]\n",
        "})\n",
        "\n",
        "india_weather"
      ],
      "execution_count": 0,
      "outputs": [
        {
          "output_type": "execute_result",
          "data": {
            "text/html": [
              "<div>\n",
              "<style>\n",
              "    .dataframe thead tr:only-child th {\n",
              "        text-align: right;\n",
              "    }\n",
              "\n",
              "    .dataframe thead th {\n",
              "        text-align: left;\n",
              "    }\n",
              "\n",
              "    .dataframe tbody tr th {\n",
              "        vertical-align: top;\n",
              "    }\n",
              "</style>\n",
              "<table border=\"1\" class=\"dataframe\">\n",
              "  <thead>\n",
              "    <tr style=\"text-align: right;\">\n",
              "      <th></th>\n",
              "      <th>city</th>\n",
              "      <th>humidity</th>\n",
              "      <th>temperature</th>\n",
              "    </tr>\n",
              "  </thead>\n",
              "  <tbody>\n",
              "    <tr>\n",
              "      <th>0</th>\n",
              "      <td>mumbai</td>\n",
              "      <td>80</td>\n",
              "      <td>32</td>\n",
              "    </tr>\n",
              "    <tr>\n",
              "      <th>1</th>\n",
              "      <td>delhi</td>\n",
              "      <td>60</td>\n",
              "      <td>45</td>\n",
              "    </tr>\n",
              "    <tr>\n",
              "      <th>2</th>\n",
              "      <td>banglore</td>\n",
              "      <td>78</td>\n",
              "      <td>30</td>\n",
              "    </tr>\n",
              "  </tbody>\n",
              "</table>\n",
              "</div>"
            ],
            "text/plain": [
              "       city  humidity  temperature\n",
              "0    mumbai        80           32\n",
              "1     delhi        60           45\n",
              "2  banglore        78           30"
            ]
          },
          "metadata": {
            "tags": []
          },
          "execution_count": 26
        }
      ]
    },
    {
      "cell_type": "code",
      "metadata": {
        "id": "jg21P49s-MFS",
        "colab_type": "code",
        "colab": {},
        "outputId": "0ddf5111-51ef-414b-9516-4d7e5f98a8db"
      },
      "source": [
        "us_weather = pd.DataFrame({\n",
        "    \"city\": [\"new york\",\"chicago\",\"orlando\"],\n",
        "    \"temperature\": [21,14,35],\n",
        "    \"humidity\": [68, 65, 75]\n",
        "})\n",
        "us_weather"
      ],
      "execution_count": 0,
      "outputs": [
        {
          "output_type": "execute_result",
          "data": {
            "text/html": [
              "<div>\n",
              "<style>\n",
              "    .dataframe thead tr:only-child th {\n",
              "        text-align: right;\n",
              "    }\n",
              "\n",
              "    .dataframe thead th {\n",
              "        text-align: left;\n",
              "    }\n",
              "\n",
              "    .dataframe tbody tr th {\n",
              "        vertical-align: top;\n",
              "    }\n",
              "</style>\n",
              "<table border=\"1\" class=\"dataframe\">\n",
              "  <thead>\n",
              "    <tr style=\"text-align: right;\">\n",
              "      <th></th>\n",
              "      <th>city</th>\n",
              "      <th>humidity</th>\n",
              "      <th>temperature</th>\n",
              "    </tr>\n",
              "  </thead>\n",
              "  <tbody>\n",
              "    <tr>\n",
              "      <th>0</th>\n",
              "      <td>new york</td>\n",
              "      <td>68</td>\n",
              "      <td>21</td>\n",
              "    </tr>\n",
              "    <tr>\n",
              "      <th>1</th>\n",
              "      <td>chicago</td>\n",
              "      <td>65</td>\n",
              "      <td>14</td>\n",
              "    </tr>\n",
              "    <tr>\n",
              "      <th>2</th>\n",
              "      <td>orlando</td>\n",
              "      <td>75</td>\n",
              "      <td>35</td>\n",
              "    </tr>\n",
              "  </tbody>\n",
              "</table>\n",
              "</div>"
            ],
            "text/plain": [
              "       city  humidity  temperature\n",
              "0  new york        68           21\n",
              "1   chicago        65           14\n",
              "2   orlando        75           35"
            ]
          },
          "metadata": {
            "tags": []
          },
          "execution_count": 27
        }
      ]
    },
    {
      "cell_type": "code",
      "metadata": {
        "id": "L_Ibfsqv-MFd",
        "colab_type": "code",
        "colab": {},
        "outputId": "f30d1aac-d577-4a0c-a149-6c31c5588abf"
      },
      "source": [
        "#concate two dataframes\n",
        "df = pd.concat([india_weather, us_weather])\n",
        "df"
      ],
      "execution_count": 0,
      "outputs": [
        {
          "output_type": "execute_result",
          "data": {
            "text/html": [
              "<div>\n",
              "<style>\n",
              "    .dataframe thead tr:only-child th {\n",
              "        text-align: right;\n",
              "    }\n",
              "\n",
              "    .dataframe thead th {\n",
              "        text-align: left;\n",
              "    }\n",
              "\n",
              "    .dataframe tbody tr th {\n",
              "        vertical-align: top;\n",
              "    }\n",
              "</style>\n",
              "<table border=\"1\" class=\"dataframe\">\n",
              "  <thead>\n",
              "    <tr style=\"text-align: right;\">\n",
              "      <th></th>\n",
              "      <th>city</th>\n",
              "      <th>humidity</th>\n",
              "      <th>temperature</th>\n",
              "    </tr>\n",
              "  </thead>\n",
              "  <tbody>\n",
              "    <tr>\n",
              "      <th>0</th>\n",
              "      <td>mumbai</td>\n",
              "      <td>80</td>\n",
              "      <td>32</td>\n",
              "    </tr>\n",
              "    <tr>\n",
              "      <th>1</th>\n",
              "      <td>delhi</td>\n",
              "      <td>60</td>\n",
              "      <td>45</td>\n",
              "    </tr>\n",
              "    <tr>\n",
              "      <th>2</th>\n",
              "      <td>banglore</td>\n",
              "      <td>78</td>\n",
              "      <td>30</td>\n",
              "    </tr>\n",
              "    <tr>\n",
              "      <th>0</th>\n",
              "      <td>new york</td>\n",
              "      <td>68</td>\n",
              "      <td>21</td>\n",
              "    </tr>\n",
              "    <tr>\n",
              "      <th>1</th>\n",
              "      <td>chicago</td>\n",
              "      <td>65</td>\n",
              "      <td>14</td>\n",
              "    </tr>\n",
              "    <tr>\n",
              "      <th>2</th>\n",
              "      <td>orlando</td>\n",
              "      <td>75</td>\n",
              "      <td>35</td>\n",
              "    </tr>\n",
              "  </tbody>\n",
              "</table>\n",
              "</div>"
            ],
            "text/plain": [
              "       city  humidity  temperature\n",
              "0    mumbai        80           32\n",
              "1     delhi        60           45\n",
              "2  banglore        78           30\n",
              "0  new york        68           21\n",
              "1   chicago        65           14\n",
              "2   orlando        75           35"
            ]
          },
          "metadata": {
            "tags": []
          },
          "execution_count": 28
        }
      ]
    },
    {
      "cell_type": "code",
      "metadata": {
        "id": "cTiedkUC-MFm",
        "colab_type": "code",
        "colab": {},
        "outputId": "b5fc1a2c-d5c8-46e0-a35d-b7a43f2cbef8"
      },
      "source": [
        "#if you want continuous index\n",
        "df = pd.concat([india_weather, us_weather], ignore_index=True)\n",
        "df"
      ],
      "execution_count": 0,
      "outputs": [
        {
          "output_type": "execute_result",
          "data": {
            "text/html": [
              "<div>\n",
              "<style>\n",
              "    .dataframe thead tr:only-child th {\n",
              "        text-align: right;\n",
              "    }\n",
              "\n",
              "    .dataframe thead th {\n",
              "        text-align: left;\n",
              "    }\n",
              "\n",
              "    .dataframe tbody tr th {\n",
              "        vertical-align: top;\n",
              "    }\n",
              "</style>\n",
              "<table border=\"1\" class=\"dataframe\">\n",
              "  <thead>\n",
              "    <tr style=\"text-align: right;\">\n",
              "      <th></th>\n",
              "      <th>city</th>\n",
              "      <th>humidity</th>\n",
              "      <th>temperature</th>\n",
              "    </tr>\n",
              "  </thead>\n",
              "  <tbody>\n",
              "    <tr>\n",
              "      <th>0</th>\n",
              "      <td>mumbai</td>\n",
              "      <td>80</td>\n",
              "      <td>32</td>\n",
              "    </tr>\n",
              "    <tr>\n",
              "      <th>1</th>\n",
              "      <td>delhi</td>\n",
              "      <td>60</td>\n",
              "      <td>45</td>\n",
              "    </tr>\n",
              "    <tr>\n",
              "      <th>2</th>\n",
              "      <td>banglore</td>\n",
              "      <td>78</td>\n",
              "      <td>30</td>\n",
              "    </tr>\n",
              "    <tr>\n",
              "      <th>3</th>\n",
              "      <td>new york</td>\n",
              "      <td>68</td>\n",
              "      <td>21</td>\n",
              "    </tr>\n",
              "    <tr>\n",
              "      <th>4</th>\n",
              "      <td>chicago</td>\n",
              "      <td>65</td>\n",
              "      <td>14</td>\n",
              "    </tr>\n",
              "    <tr>\n",
              "      <th>5</th>\n",
              "      <td>orlando</td>\n",
              "      <td>75</td>\n",
              "      <td>35</td>\n",
              "    </tr>\n",
              "  </tbody>\n",
              "</table>\n",
              "</div>"
            ],
            "text/plain": [
              "       city  humidity  temperature\n",
              "0    mumbai        80           32\n",
              "1     delhi        60           45\n",
              "2  banglore        78           30\n",
              "3  new york        68           21\n",
              "4   chicago        65           14\n",
              "5   orlando        75           35"
            ]
          },
          "metadata": {
            "tags": []
          },
          "execution_count": 29
        }
      ]
    },
    {
      "cell_type": "code",
      "metadata": {
        "id": "Bcj567Cl-MFu",
        "colab_type": "code",
        "colab": {},
        "outputId": "7ec2b82a-6447-4e0e-ae65-9ba39a3b33b8"
      },
      "source": [
        "df = pd.concat([india_weather, us_weather],axis=1)\n",
        "df"
      ],
      "execution_count": 0,
      "outputs": [
        {
          "output_type": "execute_result",
          "data": {
            "text/html": [
              "<div>\n",
              "<style>\n",
              "    .dataframe thead tr:only-child th {\n",
              "        text-align: right;\n",
              "    }\n",
              "\n",
              "    .dataframe thead th {\n",
              "        text-align: left;\n",
              "    }\n",
              "\n",
              "    .dataframe tbody tr th {\n",
              "        vertical-align: top;\n",
              "    }\n",
              "</style>\n",
              "<table border=\"1\" class=\"dataframe\">\n",
              "  <thead>\n",
              "    <tr style=\"text-align: right;\">\n",
              "      <th></th>\n",
              "      <th>city</th>\n",
              "      <th>humidity</th>\n",
              "      <th>temperature</th>\n",
              "      <th>city</th>\n",
              "      <th>humidity</th>\n",
              "      <th>temperature</th>\n",
              "    </tr>\n",
              "  </thead>\n",
              "  <tbody>\n",
              "    <tr>\n",
              "      <th>0</th>\n",
              "      <td>mumbai</td>\n",
              "      <td>80</td>\n",
              "      <td>32</td>\n",
              "      <td>new york</td>\n",
              "      <td>68</td>\n",
              "      <td>21</td>\n",
              "    </tr>\n",
              "    <tr>\n",
              "      <th>1</th>\n",
              "      <td>delhi</td>\n",
              "      <td>60</td>\n",
              "      <td>45</td>\n",
              "      <td>chicago</td>\n",
              "      <td>65</td>\n",
              "      <td>14</td>\n",
              "    </tr>\n",
              "    <tr>\n",
              "      <th>2</th>\n",
              "      <td>banglore</td>\n",
              "      <td>78</td>\n",
              "      <td>30</td>\n",
              "      <td>orlando</td>\n",
              "      <td>75</td>\n",
              "      <td>35</td>\n",
              "    </tr>\n",
              "  </tbody>\n",
              "</table>\n",
              "</div>"
            ],
            "text/plain": [
              "       city  humidity  temperature      city  humidity  temperature\n",
              "0    mumbai        80           32  new york        68           21\n",
              "1     delhi        60           45   chicago        65           14\n",
              "2  banglore        78           30   orlando        75           35"
            ]
          },
          "metadata": {
            "tags": []
          },
          "execution_count": 30
        }
      ]
    },
    {
      "cell_type": "markdown",
      "metadata": {
        "id": "6NAjlYvs-MF8",
        "colab_type": "text"
      },
      "source": [
        "# Merge DataFrames"
      ]
    },
    {
      "cell_type": "code",
      "metadata": {
        "id": "6AY5z2_O-MF-",
        "colab_type": "code",
        "colab": {},
        "outputId": "a66576d7-1520-4da2-e625-698bdaa377f4"
      },
      "source": [
        "temperature_df = pd.DataFrame({\n",
        "    \"city\": [\"mumbai\",\"delhi\",\"banglore\", 'hyderabad'],\n",
        "    \"temperature\": [32,45,30,40]})\n",
        "temperature_df"
      ],
      "execution_count": 0,
      "outputs": [
        {
          "output_type": "execute_result",
          "data": {
            "text/html": [
              "<div>\n",
              "<style>\n",
              "    .dataframe thead tr:only-child th {\n",
              "        text-align: right;\n",
              "    }\n",
              "\n",
              "    .dataframe thead th {\n",
              "        text-align: left;\n",
              "    }\n",
              "\n",
              "    .dataframe tbody tr th {\n",
              "        vertical-align: top;\n",
              "    }\n",
              "</style>\n",
              "<table border=\"1\" class=\"dataframe\">\n",
              "  <thead>\n",
              "    <tr style=\"text-align: right;\">\n",
              "      <th></th>\n",
              "      <th>city</th>\n",
              "      <th>temperature</th>\n",
              "    </tr>\n",
              "  </thead>\n",
              "  <tbody>\n",
              "    <tr>\n",
              "      <th>0</th>\n",
              "      <td>mumbai</td>\n",
              "      <td>32</td>\n",
              "    </tr>\n",
              "    <tr>\n",
              "      <th>1</th>\n",
              "      <td>delhi</td>\n",
              "      <td>45</td>\n",
              "    </tr>\n",
              "    <tr>\n",
              "      <th>2</th>\n",
              "      <td>banglore</td>\n",
              "      <td>30</td>\n",
              "    </tr>\n",
              "    <tr>\n",
              "      <th>3</th>\n",
              "      <td>hyderabad</td>\n",
              "      <td>40</td>\n",
              "    </tr>\n",
              "  </tbody>\n",
              "</table>\n",
              "</div>"
            ],
            "text/plain": [
              "        city  temperature\n",
              "0     mumbai           32\n",
              "1      delhi           45\n",
              "2   banglore           30\n",
              "3  hyderabad           40"
            ]
          },
          "metadata": {
            "tags": []
          },
          "execution_count": 34
        }
      ]
    },
    {
      "cell_type": "code",
      "metadata": {
        "id": "fMzwFZAR-MGH",
        "colab_type": "code",
        "colab": {},
        "outputId": "f4fead04-a9db-4c49-941c-80252c829548"
      },
      "source": [
        "humidity_df = pd.DataFrame({\n",
        "    \"city\": [\"delhi\",\"mumbai\",\"banglore\"],\n",
        "    \"humidity\": [68, 65, 75]})\n",
        "humidity_df"
      ],
      "execution_count": 0,
      "outputs": [
        {
          "output_type": "execute_result",
          "data": {
            "text/html": [
              "<div>\n",
              "<style>\n",
              "    .dataframe thead tr:only-child th {\n",
              "        text-align: right;\n",
              "    }\n",
              "\n",
              "    .dataframe thead th {\n",
              "        text-align: left;\n",
              "    }\n",
              "\n",
              "    .dataframe tbody tr th {\n",
              "        vertical-align: top;\n",
              "    }\n",
              "</style>\n",
              "<table border=\"1\" class=\"dataframe\">\n",
              "  <thead>\n",
              "    <tr style=\"text-align: right;\">\n",
              "      <th></th>\n",
              "      <th>city</th>\n",
              "      <th>humidity</th>\n",
              "    </tr>\n",
              "  </thead>\n",
              "  <tbody>\n",
              "    <tr>\n",
              "      <th>0</th>\n",
              "      <td>delhi</td>\n",
              "      <td>68</td>\n",
              "    </tr>\n",
              "    <tr>\n",
              "      <th>1</th>\n",
              "      <td>mumbai</td>\n",
              "      <td>65</td>\n",
              "    </tr>\n",
              "    <tr>\n",
              "      <th>2</th>\n",
              "      <td>banglore</td>\n",
              "      <td>75</td>\n",
              "    </tr>\n",
              "  </tbody>\n",
              "</table>\n",
              "</div>"
            ],
            "text/plain": [
              "       city  humidity\n",
              "0     delhi        68\n",
              "1    mumbai        65\n",
              "2  banglore        75"
            ]
          },
          "metadata": {
            "tags": []
          },
          "execution_count": 35
        }
      ]
    },
    {
      "cell_type": "code",
      "metadata": {
        "id": "x1E7fKxX-MGS",
        "colab_type": "code",
        "colab": {},
        "outputId": "e3165444-0331-436e-845d-f25df00e32a5"
      },
      "source": [
        "#merge two dataframes with out explicitly mention index\n",
        "df = pd.merge(temperature_df, humidity_df, on='city')\n",
        "df"
      ],
      "execution_count": 0,
      "outputs": [
        {
          "output_type": "execute_result",
          "data": {
            "text/html": [
              "<div>\n",
              "<style>\n",
              "    .dataframe thead tr:only-child th {\n",
              "        text-align: right;\n",
              "    }\n",
              "\n",
              "    .dataframe thead th {\n",
              "        text-align: left;\n",
              "    }\n",
              "\n",
              "    .dataframe tbody tr th {\n",
              "        vertical-align: top;\n",
              "    }\n",
              "</style>\n",
              "<table border=\"1\" class=\"dataframe\">\n",
              "  <thead>\n",
              "    <tr style=\"text-align: right;\">\n",
              "      <th></th>\n",
              "      <th>city</th>\n",
              "      <th>temperature</th>\n",
              "      <th>humidity</th>\n",
              "    </tr>\n",
              "  </thead>\n",
              "  <tbody>\n",
              "    <tr>\n",
              "      <th>0</th>\n",
              "      <td>mumbai</td>\n",
              "      <td>32</td>\n",
              "      <td>65</td>\n",
              "    </tr>\n",
              "    <tr>\n",
              "      <th>1</th>\n",
              "      <td>delhi</td>\n",
              "      <td>45</td>\n",
              "      <td>68</td>\n",
              "    </tr>\n",
              "    <tr>\n",
              "      <th>2</th>\n",
              "      <td>banglore</td>\n",
              "      <td>30</td>\n",
              "      <td>75</td>\n",
              "    </tr>\n",
              "  </tbody>\n",
              "</table>\n",
              "</div>"
            ],
            "text/plain": [
              "       city  temperature  humidity\n",
              "0    mumbai           32        65\n",
              "1     delhi           45        68\n",
              "2  banglore           30        75"
            ]
          },
          "metadata": {
            "tags": []
          },
          "execution_count": 36
        }
      ]
    },
    {
      "cell_type": "code",
      "metadata": {
        "id": "ddXrAz2C-MGZ",
        "colab_type": "code",
        "colab": {},
        "outputId": "d3c460e6-65c3-499f-9751-87e35bcb91bf"
      },
      "source": [
        "#OUTER-JOIN\n",
        "df = pd.merge(temperature_df, humidity_df, on='city', how='outer')\n",
        "df"
      ],
      "execution_count": 0,
      "outputs": [
        {
          "output_type": "execute_result",
          "data": {
            "text/html": [
              "<div>\n",
              "<style>\n",
              "    .dataframe thead tr:only-child th {\n",
              "        text-align: right;\n",
              "    }\n",
              "\n",
              "    .dataframe thead th {\n",
              "        text-align: left;\n",
              "    }\n",
              "\n",
              "    .dataframe tbody tr th {\n",
              "        vertical-align: top;\n",
              "    }\n",
              "</style>\n",
              "<table border=\"1\" class=\"dataframe\">\n",
              "  <thead>\n",
              "    <tr style=\"text-align: right;\">\n",
              "      <th></th>\n",
              "      <th>city</th>\n",
              "      <th>temperature</th>\n",
              "      <th>humidity</th>\n",
              "    </tr>\n",
              "  </thead>\n",
              "  <tbody>\n",
              "    <tr>\n",
              "      <th>0</th>\n",
              "      <td>mumbai</td>\n",
              "      <td>32</td>\n",
              "      <td>65.0</td>\n",
              "    </tr>\n",
              "    <tr>\n",
              "      <th>1</th>\n",
              "      <td>delhi</td>\n",
              "      <td>45</td>\n",
              "      <td>68.0</td>\n",
              "    </tr>\n",
              "    <tr>\n",
              "      <th>2</th>\n",
              "      <td>banglore</td>\n",
              "      <td>30</td>\n",
              "      <td>75.0</td>\n",
              "    </tr>\n",
              "    <tr>\n",
              "      <th>3</th>\n",
              "      <td>hyderabad</td>\n",
              "      <td>40</td>\n",
              "      <td>NaN</td>\n",
              "    </tr>\n",
              "  </tbody>\n",
              "</table>\n",
              "</div>"
            ],
            "text/plain": [
              "        city  temperature  humidity\n",
              "0     mumbai           32      65.0\n",
              "1      delhi           45      68.0\n",
              "2   banglore           30      75.0\n",
              "3  hyderabad           40       NaN"
            ]
          },
          "metadata": {
            "tags": []
          },
          "execution_count": 38
        }
      ]
    },
    {
      "cell_type": "code",
      "metadata": {
        "collapsed": true,
        "id": "CyY_0Z_y-MGl",
        "colab_type": "code",
        "colab": {}
      },
      "source": [
        ""
      ],
      "execution_count": 0,
      "outputs": []
    }
  ]
}