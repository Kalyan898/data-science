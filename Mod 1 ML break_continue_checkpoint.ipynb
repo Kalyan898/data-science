{
  "nbformat": 4,
  "nbformat_minor": 0,
  "metadata": {
    "kernelspec": {
      "display_name": "Python 3",
      "language": "python",
      "name": "python3"
    },
    "language_info": {
      "codemirror_mode": {
        "name": "ipython",
        "version": 3
      },
      "file_extension": ".py",
      "mimetype": "text/x-python",
      "name": "python",
      "nbconvert_exporter": "python",
      "pygments_lexer": "ipython3",
      "version": "3.6.1"
    },
    "colab": {
      "name": "break_continue-checkpoint.ipynb",
      "version": "0.3.2",
      "provenance": [],
      "include_colab_link": true
    }
  },
  "cells": [
    {
      "cell_type": "markdown",
      "metadata": {
        "id": "view-in-github",
        "colab_type": "text"
      },
      "source": [
        "<a href=\"https://colab.research.google.com/github/Kalyan898/data-science/blob/master/Mod%201%20ML%20break_continue_checkpoint.ipynb\" target=\"_parent\"><img src=\"https://colab.research.google.com/assets/colab-badge.svg\" alt=\"Open In Colab\"/></a>"
      ]
    },
    {
      "cell_type": "markdown",
      "metadata": {
        "id": "2K-xbDPD-9L7",
        "colab_type": "text"
      },
      "source": [
        "# Python break and continue Statements"
      ]
    },
    {
      "cell_type": "markdown",
      "metadata": {
        "id": "21nOkiX6-9ME",
        "colab_type": "text"
      },
      "source": [
        "In Python, break and continue statements can alter the flow of a normal loop.\n",
        "\n",
        "Loops iterate over a block of code until test expression is false, but sometimes we wish to terminate the current iteration or even the whole loop without cheking test expression.\n",
        "\n",
        "The break and continue statements are used in these cases."
      ]
    },
    {
      "cell_type": "markdown",
      "metadata": {
        "id": "ck4BgIKw-9MJ",
        "colab_type": "text"
      },
      "source": [
        "# Python break Statement"
      ]
    },
    {
      "cell_type": "markdown",
      "metadata": {
        "id": "C2gEXONF-9MQ",
        "colab_type": "text"
      },
      "source": [
        "Syntax:\n",
        "    \n",
        "    break"
      ]
    },
    {
      "cell_type": "markdown",
      "metadata": {
        "id": "a8VermLe-9MU",
        "colab_type": "text"
      },
      "source": [
        "![title](break.jpg)"
      ]
    },
    {
      "cell_type": "markdown",
      "metadata": {
        "id": "2xmROZM4-9Mc",
        "colab_type": "text"
      },
      "source": [
        "![title](break_works.jpg)"
      ]
    },
    {
      "cell_type": "markdown",
      "metadata": {
        "id": "4r_vrIRm-9Mi",
        "colab_type": "text"
      },
      "source": [
        "# Example"
      ]
    },
    {
      "cell_type": "code",
      "metadata": {
        "id": "GXTWmPwS-9Mo",
        "colab_type": "code",
        "colab": {},
        "outputId": "9fe3ec34-1e3e-4391-bcb5-8ed6ef841f4f"
      },
      "source": [
        "numbers = [1, 2, 3, 4]\n",
        "for num in numbers:          #iterating over list\n",
        "    if num == 4:\n",
        "        break\n",
        "    print(num)\n",
        "else:\n",
        "    print(\"in the else-block\")\n",
        "print(\"Outside of for loop\")"
      ],
      "execution_count": 0,
      "outputs": [
        {
          "output_type": "stream",
          "text": [
            "1\n",
            "2\n",
            "3\n",
            "Outside of for loop\n"
          ],
          "name": "stdout"
        }
      ]
    },
    {
      "cell_type": "markdown",
      "metadata": {
        "id": "NlzaL3p9-9M6",
        "colab_type": "text"
      },
      "source": [
        "# Python Program to check given number is Prime number or not (using break)\n"
      ]
    },
    {
      "cell_type": "code",
      "metadata": {
        "id": "mSyqmgZz-9M9",
        "colab_type": "code",
        "colab": {},
        "outputId": "6d6f63be-92d0-4553-cfa3-5f1260a9edb0"
      },
      "source": [
        "num = int(input(\"Enter a number: \"))        #convert string to int\n",
        "\n",
        "\n",
        "isDivisible = False;\n",
        "\n",
        "i=2;\n",
        "while i < num:\n",
        "    if num % i == 0:\n",
        "        isDivisible = True;\n",
        "        print (\"{} is divisible by {}\".format(num,i) )\n",
        "        break; # this line is the only addition.\n",
        "    i += 1;\n",
        "    \n",
        "if isDivisible:\n",
        "    print(\"{} is NOT a Prime number\".format(num))\n",
        "else:\n",
        "    print(\"{} is a Prime number\".format(num))"
      ],
      "execution_count": 0,
      "outputs": [
        {
          "output_type": "stream",
          "text": [
            "Enter a number: 19\n",
            "19 is a Prime number\n"
          ],
          "name": "stdout"
        }
      ]
    },
    {
      "cell_type": "markdown",
      "metadata": {
        "id": "85PObFTr-9NQ",
        "colab_type": "text"
      },
      "source": [
        "# Python Continue Statement"
      ]
    },
    {
      "cell_type": "markdown",
      "metadata": {
        "id": "TqccoV5k-9NU",
        "colab_type": "text"
      },
      "source": [
        "syntax:\n",
        "    \n",
        "    continue"
      ]
    },
    {
      "cell_type": "markdown",
      "metadata": {
        "id": "juEISc0x-9NY",
        "colab_type": "text"
      },
      "source": [
        "# Flow Chart"
      ]
    },
    {
      "cell_type": "markdown",
      "metadata": {
        "id": "Sm9NLYLU-9Na",
        "colab_type": "text"
      },
      "source": [
        "![title](continue.jpg)"
      ]
    },
    {
      "cell_type": "markdown",
      "metadata": {
        "id": "ZsjpQdWE-9Ng",
        "colab_type": "text"
      },
      "source": [
        "![title](continue_works.jpg)"
      ]
    },
    {
      "cell_type": "markdown",
      "metadata": {
        "id": "IPsUWXtv-9Ni",
        "colab_type": "text"
      },
      "source": [
        "# Example"
      ]
    },
    {
      "cell_type": "code",
      "metadata": {
        "id": "PHGAMWow-9Nl",
        "colab_type": "code",
        "colab": {},
        "outputId": "081de91f-8e20-4915-c1dd-75a27b7086fc"
      },
      "source": [
        "#print odd numbers present in a list\n",
        "numbers = [1, 2, 3, 4, 5]\n",
        "\n",
        "for num in numbers:\n",
        "    if num % 2 == 0:\n",
        "        continue\n",
        "    print(num)\n",
        "else:\n",
        "    print(\"else-block\")"
      ],
      "execution_count": 0,
      "outputs": [
        {
          "output_type": "stream",
          "text": [
            "1\n",
            "3\n",
            "5\n",
            "else-block\n"
          ],
          "name": "stdout"
        }
      ]
    },
    {
      "cell_type": "code",
      "metadata": {
        "collapsed": true,
        "id": "HO0Om-_A-9N1",
        "colab_type": "code",
        "colab": {}
      },
      "source": [
        ""
      ],
      "execution_count": 0,
      "outputs": []
    }
  ]
}