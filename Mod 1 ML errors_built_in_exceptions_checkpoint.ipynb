{
  "nbformat": 4,
  "nbformat_minor": 0,
  "metadata": {
    "kernelspec": {
      "display_name": "Python 3",
      "language": "python",
      "name": "python3"
    },
    "language_info": {
      "codemirror_mode": {
        "name": "ipython",
        "version": 3
      },
      "file_extension": ".py",
      "mimetype": "text/x-python",
      "name": "python",
      "nbconvert_exporter": "python",
      "pygments_lexer": "ipython3",
      "version": "3.6.1"
    },
    "colab": {
      "name": "errors_built_in_exceptions-checkpoint.ipynb",
      "version": "0.3.2",
      "provenance": [],
      "include_colab_link": true
    }
  },
  "cells": [
    {
      "cell_type": "markdown",
      "metadata": {
        "id": "view-in-github",
        "colab_type": "text"
      },
      "source": [
        "<a href=\"https://colab.research.google.com/github/Kalyan898/data-science/blob/master/Mod%201%20ML%20errors_built_in_exceptions_checkpoint.ipynb\" target=\"_parent\"><img src=\"https://colab.research.google.com/assets/colab-badge.svg\" alt=\"Open In Colab\"/></a>"
      ]
    },
    {
      "cell_type": "markdown",
      "metadata": {
        "id": "WvDJ-GJLLAY7",
        "colab_type": "text"
      },
      "source": [
        "# Python Errors and Built-in-Exceptions"
      ]
    },
    {
      "cell_type": "markdown",
      "metadata": {
        "id": "nSCTWZqhLAZF",
        "colab_type": "text"
      },
      "source": [
        "When writing a program, we, more often than not, will encounter errors.\n",
        "\n",
        "Error caused by not following the proper structure (syntax) of the language is called syntax error or parsing error."
      ]
    },
    {
      "cell_type": "code",
      "metadata": {
        "id": "EcMQwAujLAZK",
        "colab_type": "code",
        "colab": {},
        "outputId": "777fe17a-81e4-4127-d5e7-62e607010a42"
      },
      "source": [
        "if a < 3"
      ],
      "execution_count": 0,
      "outputs": [
        {
          "output_type": "error",
          "ename": "SyntaxError",
          "evalue": "invalid syntax (<ipython-input-2-8625009197cc>, line 1)",
          "traceback": [
            "\u001b[0;36m  File \u001b[0;32m\"<ipython-input-2-8625009197cc>\"\u001b[0;36m, line \u001b[0;32m1\u001b[0m\n\u001b[0;31m    if a < 3\u001b[0m\n\u001b[0m            ^\u001b[0m\n\u001b[0;31mSyntaxError\u001b[0m\u001b[0;31m:\u001b[0m invalid syntax\n"
          ]
        }
      ]
    },
    {
      "cell_type": "markdown",
      "metadata": {
        "id": "dDQeQB3BLAZe",
        "colab_type": "text"
      },
      "source": [
        "Errors can also occur at runtime and these are called exceptions. \n",
        "\n",
        "They occur, for example, when a file we try to open does not exist (FileNotFoundError), dividing a number by zero (ZeroDivisionError), module we try to import is not found (ImportError) etc."
      ]
    },
    {
      "cell_type": "markdown",
      "metadata": {
        "id": "3gQMWQoYLAZi",
        "colab_type": "text"
      },
      "source": [
        "Whenever these type of runtime error occur, Python creates an exception object. If not handled properly, it prints a traceback to that error along with some details about why that error occurred."
      ]
    },
    {
      "cell_type": "code",
      "metadata": {
        "id": "kCs8Ou7jLAZl",
        "colab_type": "code",
        "colab": {},
        "outputId": "d86d585f-d974-41d5-fd5e-7be3712db942"
      },
      "source": [
        "1 / 0"
      ],
      "execution_count": 0,
      "outputs": [
        {
          "output_type": "error",
          "ename": "ZeroDivisionError",
          "evalue": "integer division or modulo by zero",
          "traceback": [
            "\u001b[0;31m---------------------------------------------------------------------------\u001b[0m",
            "\u001b[0;31mZeroDivisionError\u001b[0m                         Traceback (most recent call last)",
            "\u001b[0;32m<ipython-input-3-b710d87c980c>\u001b[0m in \u001b[0;36m<module>\u001b[0;34m()\u001b[0m\n\u001b[0;32m----> 1\u001b[0;31m \u001b[0;36m1\u001b[0m \u001b[0;34m/\u001b[0m \u001b[0;36m0\u001b[0m\u001b[0;34m\u001b[0m\u001b[0m\n\u001b[0m",
            "\u001b[0;31mZeroDivisionError\u001b[0m: integer division or modulo by zero"
          ]
        }
      ]
    },
    {
      "cell_type": "code",
      "metadata": {
        "id": "LzzBqG73LAZv",
        "colab_type": "code",
        "colab": {},
        "outputId": "2729a7b8-ca65-4786-9684-3fb37c5c936b"
      },
      "source": [
        "open('test.txt')"
      ],
      "execution_count": 0,
      "outputs": [
        {
          "output_type": "error",
          "ename": "IOError",
          "evalue": "[Errno 2] No such file or directory: 'test.txt'",
          "traceback": [
            "\u001b[0;31m---------------------------------------------------------------------------\u001b[0m",
            "\u001b[0;31mIOError\u001b[0m                                   Traceback (most recent call last)",
            "\u001b[0;32m<ipython-input-4-46a2b0c9e87f>\u001b[0m in \u001b[0;36m<module>\u001b[0;34m()\u001b[0m\n\u001b[0;32m----> 1\u001b[0;31m \u001b[0mopen\u001b[0m\u001b[0;34m(\u001b[0m\u001b[0;34m'test.txt'\u001b[0m\u001b[0;34m)\u001b[0m\u001b[0;34m\u001b[0m\u001b[0m\n\u001b[0m",
            "\u001b[0;31mIOError\u001b[0m: [Errno 2] No such file or directory: 'test.txt'"
          ]
        }
      ]
    },
    {
      "cell_type": "markdown",
      "metadata": {
        "id": "n923O7mcLAZ2",
        "colab_type": "text"
      },
      "source": [
        "# Python Built-in Exceptions"
      ]
    },
    {
      "cell_type": "code",
      "metadata": {
        "id": "4KP-Fo1fLAZ5",
        "colab_type": "code",
        "colab": {},
        "outputId": "cd1e75c2-e9d4-4050-ce83-2a9804b01812"
      },
      "source": [
        "dir(__builtins__)"
      ],
      "execution_count": 0,
      "outputs": [
        {
          "output_type": "execute_result",
          "data": {
            "text/plain": [
              "['ArithmeticError',\n",
              " 'AssertionError',\n",
              " 'AttributeError',\n",
              " 'BaseException',\n",
              " 'BlockingIOError',\n",
              " 'BrokenPipeError',\n",
              " 'BufferError',\n",
              " 'BytesWarning',\n",
              " 'ChildProcessError',\n",
              " 'ConnectionAbortedError',\n",
              " 'ConnectionError',\n",
              " 'ConnectionRefusedError',\n",
              " 'ConnectionResetError',\n",
              " 'DeprecationWarning',\n",
              " 'EOFError',\n",
              " 'Ellipsis',\n",
              " 'EnvironmentError',\n",
              " 'Exception',\n",
              " 'False',\n",
              " 'FileExistsError',\n",
              " 'FileNotFoundError',\n",
              " 'FloatingPointError',\n",
              " 'FutureWarning',\n",
              " 'GeneratorExit',\n",
              " 'IOError',\n",
              " 'ImportError',\n",
              " 'ImportWarning',\n",
              " 'IndentationError',\n",
              " 'IndexError',\n",
              " 'InterruptedError',\n",
              " 'IsADirectoryError',\n",
              " 'KeyError',\n",
              " 'KeyboardInterrupt',\n",
              " 'LookupError',\n",
              " 'MemoryError',\n",
              " 'ModuleNotFoundError',\n",
              " 'NameError',\n",
              " 'None',\n",
              " 'NotADirectoryError',\n",
              " 'NotImplemented',\n",
              " 'NotImplementedError',\n",
              " 'OSError',\n",
              " 'OverflowError',\n",
              " 'PendingDeprecationWarning',\n",
              " 'PermissionError',\n",
              " 'ProcessLookupError',\n",
              " 'RecursionError',\n",
              " 'ReferenceError',\n",
              " 'ResourceWarning',\n",
              " 'RuntimeError',\n",
              " 'RuntimeWarning',\n",
              " 'StopAsyncIteration',\n",
              " 'StopIteration',\n",
              " 'SyntaxError',\n",
              " 'SyntaxWarning',\n",
              " 'SystemError',\n",
              " 'SystemExit',\n",
              " 'TabError',\n",
              " 'TimeoutError',\n",
              " 'True',\n",
              " 'TypeError',\n",
              " 'UnboundLocalError',\n",
              " 'UnicodeDecodeError',\n",
              " 'UnicodeEncodeError',\n",
              " 'UnicodeError',\n",
              " 'UnicodeTranslateError',\n",
              " 'UnicodeWarning',\n",
              " 'UserWarning',\n",
              " 'ValueError',\n",
              " 'Warning',\n",
              " 'ZeroDivisionError',\n",
              " '__IPYTHON__',\n",
              " '__build_class__',\n",
              " '__debug__',\n",
              " '__doc__',\n",
              " '__import__',\n",
              " '__loader__',\n",
              " '__name__',\n",
              " '__package__',\n",
              " '__spec__',\n",
              " 'abs',\n",
              " 'all',\n",
              " 'any',\n",
              " 'ascii',\n",
              " 'bin',\n",
              " 'bool',\n",
              " 'bytearray',\n",
              " 'bytes',\n",
              " 'callable',\n",
              " 'chr',\n",
              " 'classmethod',\n",
              " 'compile',\n",
              " 'complex',\n",
              " 'copyright',\n",
              " 'credits',\n",
              " 'delattr',\n",
              " 'dict',\n",
              " 'dir',\n",
              " 'display',\n",
              " 'divmod',\n",
              " 'enumerate',\n",
              " 'eval',\n",
              " 'exec',\n",
              " 'filter',\n",
              " 'float',\n",
              " 'format',\n",
              " 'frozenset',\n",
              " 'get_ipython',\n",
              " 'getattr',\n",
              " 'globals',\n",
              " 'hasattr',\n",
              " 'hash',\n",
              " 'help',\n",
              " 'hex',\n",
              " 'id',\n",
              " 'input',\n",
              " 'int',\n",
              " 'isinstance',\n",
              " 'issubclass',\n",
              " 'iter',\n",
              " 'len',\n",
              " 'license',\n",
              " 'list',\n",
              " 'locals',\n",
              " 'map',\n",
              " 'max',\n",
              " 'memoryview',\n",
              " 'min',\n",
              " 'next',\n",
              " 'object',\n",
              " 'oct',\n",
              " 'open',\n",
              " 'ord',\n",
              " 'pow',\n",
              " 'print',\n",
              " 'property',\n",
              " 'range',\n",
              " 'repr',\n",
              " 'reversed',\n",
              " 'round',\n",
              " 'set',\n",
              " 'setattr',\n",
              " 'slice',\n",
              " 'sorted',\n",
              " 'staticmethod',\n",
              " 'str',\n",
              " 'sum',\n",
              " 'super',\n",
              " 'tuple',\n",
              " 'type',\n",
              " 'vars',\n",
              " 'zip']"
            ]
          },
          "metadata": {
            "tags": []
          },
          "execution_count": 1
        }
      ]
    },
    {
      "cell_type": "markdown",
      "metadata": {
        "id": "XnXIoXeaLAaD",
        "colab_type": "text"
      },
      "source": [
        "# Python Exception Handling - Try, Except and Finally"
      ]
    },
    {
      "cell_type": "markdown",
      "metadata": {
        "id": "wKG0dLx4LAaH",
        "colab_type": "text"
      },
      "source": [
        "Python has many built-in exceptions which forces your program to output an error when something in it goes wrong.\n",
        "\n",
        "When these exceptions occur, it causes the current process to stop and passes it to the calling process until it is handled. If not handled, our program will crash.\n",
        "\n",
        "For example, if function A calls function B which in turn calls function C and an exception occurs in function C. If it is not handled in C, the exception passes to B and then to A.\n",
        "\n",
        "If never handled, an error message is spit out and our program come to a sudden, unexpected halt."
      ]
    },
    {
      "cell_type": "markdown",
      "metadata": {
        "id": "Utsn-WulLAaK",
        "colab_type": "text"
      },
      "source": [
        "# Catching Exceptions in Python"
      ]
    },
    {
      "cell_type": "markdown",
      "metadata": {
        "id": "py1lqgL5LAaM",
        "colab_type": "text"
      },
      "source": [
        "In Python, exceptions can be handled using a try statement.\n",
        "\n",
        "A critical operation which can raise exception is placed inside the try clause and the code that handles exception is written in except clause."
      ]
    },
    {
      "cell_type": "code",
      "metadata": {
        "id": "zWmswt0sLAaO",
        "colab_type": "code",
        "colab": {},
        "outputId": "521714ad-dee9-4a7b-941e-fb98af9f36c7"
      },
      "source": [
        "# import module sys to get the type of exception\n",
        "import sys\n",
        "\n",
        "lst = ['b', 0, 2]\n",
        "\n",
        "for entry in lst:\n",
        "    try:\n",
        "        print(\"The entry is\", entry)\n",
        "        r = 1 / int(entry)\n",
        "    except:\n",
        "        print(\"Oops!\", sys.exc_info()[0],\"occured.\")\n",
        "        print(\"Next entry.\")\n",
        "        print(\"***************************\")\n",
        "print(\"The reciprocal of\", entry, \"is\", r)"
      ],
      "execution_count": 0,
      "outputs": [
        {
          "output_type": "stream",
          "text": [
            "The entry is b\n",
            "Oops! <class 'ValueError'> occured.\n",
            "Next entry.\n",
            "***************************\n",
            "The entry is 0\n",
            "Oops! <class 'ZeroDivisionError'> occured.\n",
            "Next entry.\n",
            "***************************\n",
            "The entry is 2\n",
            "The reciprocal of 2 is 0.5\n"
          ],
          "name": "stdout"
        }
      ]
    },
    {
      "cell_type": "markdown",
      "metadata": {
        "id": "ZCXRFARnLAaW",
        "colab_type": "text"
      },
      "source": [
        "# Catching Specific Exceptions in Python"
      ]
    },
    {
      "cell_type": "markdown",
      "metadata": {
        "id": "akEiFNdHLAaZ",
        "colab_type": "text"
      },
      "source": [
        "In the above example, we did not mention any exception in the except clause.\n",
        "\n",
        "This is not a good programming practice as it will catch all exceptions and handle every case in the same way. We can specify which exceptions an except clause will catch.\n",
        "\n",
        "A try clause can have any number of except clause to handle them differently but only one will be executed in case an exception occurs."
      ]
    },
    {
      "cell_type": "code",
      "metadata": {
        "id": "dunc1lVJLAac",
        "colab_type": "code",
        "colab": {},
        "outputId": "4933b505-fb38-41cb-c59e-86bffc23cda1"
      },
      "source": [
        "import sys\n",
        "\n",
        "lst = ['b', 0, 2]\n",
        "\n",
        "for entry in lst:\n",
        "    try:\n",
        "        print(\"****************************\")\n",
        "        print(\"The entry is\", entry)\n",
        "        r = 1 / int(entry)\n",
        "    except(ValueError):\n",
        "        print(\"This is a ValueError.\")\n",
        "    except(ZeroDivisionError):\n",
        "        print(\"This is a ZeroError.\")\n",
        "    except:\n",
        "        print(\"Some other error\")\n",
        "print(\"The reciprocal of\", entry, \"is\", r)"
      ],
      "execution_count": 0,
      "outputs": [
        {
          "output_type": "stream",
          "text": [
            "****************************\n",
            "The entry is b\n",
            "This is a ValueError.\n",
            "****************************\n",
            "The entry is 0\n",
            "This is a ZeroError.\n",
            "****************************\n",
            "The entry is 2\n",
            "The reciprocal of 2 is 0.5\n"
          ],
          "name": "stdout"
        }
      ]
    },
    {
      "cell_type": "markdown",
      "metadata": {
        "id": "K4-rz9p5LAak",
        "colab_type": "text"
      },
      "source": [
        "# Raising Exceptions"
      ]
    },
    {
      "cell_type": "markdown",
      "metadata": {
        "id": "9SVvzRqlLAam",
        "colab_type": "text"
      },
      "source": [
        "In Python programming, exceptions are raised when corresponding errors occur at run time, but we can forcefully raise it using the keyword raise.\n",
        "\n",
        "We can also optionally pass in value to the exception to clarify why that exception was raised."
      ]
    },
    {
      "cell_type": "code",
      "metadata": {
        "id": "KgPx34cZLAaq",
        "colab_type": "code",
        "colab": {},
        "outputId": "6a05bfff-5491-4881-c072-6acc124b4192"
      },
      "source": [
        "raise KeyboardInterrupt"
      ],
      "execution_count": 0,
      "outputs": [
        {
          "output_type": "error",
          "ename": "KeyboardInterrupt",
          "evalue": "",
          "traceback": [
            "\u001b[0;31m---------------------------------------------------------------------------\u001b[0m",
            "\u001b[0;31mKeyboardInterrupt\u001b[0m                         Traceback (most recent call last)",
            "\u001b[0;32m<ipython-input-15-7d145351408f>\u001b[0m in \u001b[0;36m<module>\u001b[0;34m()\u001b[0m\n\u001b[0;32m----> 1\u001b[0;31m \u001b[0;32mraise\u001b[0m \u001b[0mKeyboardInterrupt\u001b[0m\u001b[0;34m\u001b[0m\u001b[0m\n\u001b[0m",
            "\u001b[0;31mKeyboardInterrupt\u001b[0m: "
          ]
        }
      ]
    },
    {
      "cell_type": "code",
      "metadata": {
        "id": "E5Yv-ZcvLAaz",
        "colab_type": "code",
        "colab": {},
        "outputId": "bef1027d-2a30-44d8-ebd1-7391cab48d07"
      },
      "source": [
        "raise MemoryError(\"This is memory Error\")"
      ],
      "execution_count": 0,
      "outputs": [
        {
          "output_type": "error",
          "ename": "MemoryError",
          "evalue": "This is memory Error",
          "traceback": [
            "\u001b[0;31m---------------------------------------------------------------------------\u001b[0m",
            "\u001b[0;31mMemoryError\u001b[0m                               Traceback (most recent call last)",
            "\u001b[0;32m<ipython-input-16-0ce8140e6e3c>\u001b[0m in \u001b[0;36m<module>\u001b[0;34m()\u001b[0m\n\u001b[0;32m----> 1\u001b[0;31m \u001b[0;32mraise\u001b[0m \u001b[0mMemoryError\u001b[0m\u001b[0;34m(\u001b[0m\u001b[0;34m\"This is memory Error\"\u001b[0m\u001b[0;34m)\u001b[0m\u001b[0;34m\u001b[0m\u001b[0m\n\u001b[0m",
            "\u001b[0;31mMemoryError\u001b[0m: This is memory Error"
          ]
        }
      ]
    },
    {
      "cell_type": "code",
      "metadata": {
        "id": "4KoYrdyuLAa5",
        "colab_type": "code",
        "colab": {},
        "outputId": "a8b1102b-9823-479a-c5b5-903bc4e46d94"
      },
      "source": [
        "try:\n",
        "    num = int(input(\"Enter a positive integer:\"))\n",
        "    if num <= 0:\n",
        "        raise ValueError(\"Error:Entered negative number\")\n",
        "except ValueError as e:\n",
        "    print(e)"
      ],
      "execution_count": 0,
      "outputs": [
        {
          "output_type": "stream",
          "text": [
            "Enter a positive integer:-10\n",
            "Error:Entered negative number\n"
          ],
          "name": "stdout"
        }
      ]
    },
    {
      "cell_type": "markdown",
      "metadata": {
        "id": "H7EFQV6YLAbD",
        "colab_type": "text"
      },
      "source": [
        "# try ... finally"
      ]
    },
    {
      "cell_type": "markdown",
      "metadata": {
        "id": "2NnApAY6LAbG",
        "colab_type": "text"
      },
      "source": [
        "The try statement in Python can have an optional finally clause. This clause is executed no matter what, and is generally used to release external resources."
      ]
    },
    {
      "cell_type": "code",
      "metadata": {
        "collapsed": true,
        "id": "O6gP9Lb9LAbJ",
        "colab_type": "code",
        "colab": {}
      },
      "source": [
        "try:\n",
        "    f = open('sample.txt')\n",
        "    #perform file operations\n",
        "    \n",
        "finally:\n",
        "    f.close()"
      ],
      "execution_count": 0,
      "outputs": []
    }
  ]
}