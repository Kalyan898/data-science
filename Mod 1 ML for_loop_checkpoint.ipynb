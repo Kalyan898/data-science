{
  "nbformat": 4,
  "nbformat_minor": 0,
  "metadata": {
    "kernelspec": {
      "display_name": "Python 3",
      "language": "python",
      "name": "python3"
    },
    "language_info": {
      "codemirror_mode": {
        "name": "ipython",
        "version": 3
      },
      "file_extension": ".py",
      "mimetype": "text/x-python",
      "name": "python",
      "nbconvert_exporter": "python",
      "pygments_lexer": "ipython3",
      "version": "3.6.1"
    },
    "colab": {
      "name": "for_loop-checkpoint.ipynb",
      "version": "0.3.2",
      "provenance": [],
      "include_colab_link": true
    }
  },
  "cells": [
    {
      "cell_type": "markdown",
      "metadata": {
        "id": "view-in-github",
        "colab_type": "text"
      },
      "source": [
        "<a href=\"https://colab.research.google.com/github/Kalyan898/data-science/blob/master/Mod%201%20ML%20for_loop_checkpoint.ipynb\" target=\"_parent\"><img src=\"https://colab.research.google.com/assets/colab-badge.svg\" alt=\"Open In Colab\"/></a>"
      ]
    },
    {
      "cell_type": "markdown",
      "metadata": {
        "id": "dv6JqQ75-B2o",
        "colab_type": "text"
      },
      "source": [
        "# Python for Loop"
      ]
    },
    {
      "cell_type": "markdown",
      "metadata": {
        "id": "FLD5Lyza-B25",
        "colab_type": "text"
      },
      "source": [
        "The for loop in Python is used to iterate over a sequence (list, tuple, string) or other iterable objects. \n",
        "    \n",
        "Iterating over a sequence is called traversal."
      ]
    },
    {
      "cell_type": "markdown",
      "metadata": {
        "id": "79vERMWb-B2-",
        "colab_type": "text"
      },
      "source": [
        "# Syntax:"
      ]
    },
    {
      "cell_type": "markdown",
      "metadata": {
        "id": "nsQCNJu--B3P",
        "colab_type": "text"
      },
      "source": [
        "    for element in sequence :\n",
        "\n",
        "        Body of for"
      ]
    },
    {
      "cell_type": "markdown",
      "metadata": {
        "id": "9mjt7cNV-B3c",
        "colab_type": "text"
      },
      "source": [
        "Here, element is the variable that takes the value of the item inside the sequence on each iteration.\n",
        "\n",
        "Loop continues until we reach the last item in the sequence. "
      ]
    },
    {
      "cell_type": "markdown",
      "metadata": {
        "id": "O9ycDeRo-B3u",
        "colab_type": "text"
      },
      "source": [
        "# Flow Chart"
      ]
    },
    {
      "cell_type": "markdown",
      "metadata": {
        "id": "8SuKa-yH-B33",
        "colab_type": "text"
      },
      "source": [
        "![title](forLoop.jpg)"
      ]
    },
    {
      "cell_type": "markdown",
      "metadata": {
        "id": "unNmD-fX-B4H",
        "colab_type": "text"
      },
      "source": [
        "# Example"
      ]
    },
    {
      "cell_type": "code",
      "metadata": {
        "id": "DoJRX43b-B4R",
        "colab_type": "code",
        "colab": {},
        "outputId": "5e18dce4-9fb4-4a05-f4a2-ef807531d61c"
      },
      "source": [
        "#Find product of all numbers present in a list\n",
        "\n",
        "lst = [10, 20, 30, 40, 50]\n",
        "\n",
        "product = 1\n",
        "#iterating over the list\n",
        "for ele in lst:\n",
        "    product *= ele\n",
        "\n",
        "print(\"Product is: {}\".format(product))"
      ],
      "execution_count": 0,
      "outputs": [
        {
          "output_type": "stream",
          "text": [
            "Product is: 12000000\n"
          ],
          "name": "stdout"
        }
      ]
    },
    {
      "cell_type": "markdown",
      "metadata": {
        "id": "6kcdKIrQ-B46",
        "colab_type": "text"
      },
      "source": [
        "# range() function"
      ]
    },
    {
      "cell_type": "markdown",
      "metadata": {
        "id": "Z70eNTQA-B5I",
        "colab_type": "text"
      },
      "source": [
        "We can generate a sequence of numbers using range() function. range(10) will generate numbers from 0 to 9 (10 numbers).\n",
        "\n",
        "We can also define the start, stop and step size as range(start,stop,step size). step size defaults to 1 if not provided.\n",
        "\n",
        "This function does not store all the values in memory, it would be inefficient. So it remembers the start, stop, step size and generates the next number on the go."
      ]
    },
    {
      "cell_type": "code",
      "metadata": {
        "id": "yH89vQr6-B5N",
        "colab_type": "code",
        "colab": {},
        "outputId": "20e42dc7-fa9e-43b5-ad3e-4922c9dfcd5b"
      },
      "source": [
        "#print range of 10\n",
        "for i in range(10):\n",
        "    print(i)"
      ],
      "execution_count": 0,
      "outputs": [
        {
          "output_type": "stream",
          "text": [
            "0\n",
            "1\n",
            "2\n",
            "3\n",
            "4\n",
            "5\n",
            "6\n",
            "7\n",
            "8\n",
            "9\n"
          ],
          "name": "stdout"
        }
      ]
    },
    {
      "cell_type": "code",
      "metadata": {
        "id": "FItUklF9-B5j",
        "colab_type": "code",
        "colab": {},
        "outputId": "48e63510-aed7-4b32-9c49-a99cc6aa3fe0"
      },
      "source": [
        "#print range of numbers from 1 to 20 with step size of 2\n",
        "for i in range(1, 20, 2):\n",
        "    print(i)"
      ],
      "execution_count": 0,
      "outputs": [
        {
          "output_type": "stream",
          "text": [
            "1\n",
            "3\n",
            "5\n",
            "7\n",
            "9\n",
            "11\n",
            "13\n",
            "15\n",
            "17\n",
            "19\n"
          ],
          "name": "stdout"
        }
      ]
    },
    {
      "cell_type": "code",
      "metadata": {
        "id": "P6WLqCEV-B5u",
        "colab_type": "code",
        "colab": {},
        "outputId": "ab08fada-772a-420a-c093-7566858da55b"
      },
      "source": [
        "lst = [\"satish\", \"srinu\", \"murali\", \"naveen\", \"bramha\"]\n",
        "\n",
        "#iterate over the list using index\n",
        "for index in range(len(lst)):\n",
        "    print(lst[index])"
      ],
      "execution_count": 0,
      "outputs": [
        {
          "output_type": "stream",
          "text": [
            "satish\n",
            "srinu\n",
            "murali\n",
            "naveen\n",
            "bramha\n"
          ],
          "name": "stdout"
        }
      ]
    },
    {
      "cell_type": "markdown",
      "metadata": {
        "id": "H7Z9VDzg-B57",
        "colab_type": "text"
      },
      "source": [
        "# for loop with else"
      ]
    },
    {
      "cell_type": "markdown",
      "metadata": {
        "id": "6mtT943M-B6A",
        "colab_type": "text"
      },
      "source": [
        "A for loop can have an optional else block as well. The else part is executed if the items in the sequence used in for loop exhausts.\n",
        "\n",
        "break statement can be used to stop a for loop. In such case, the else part is ignored.\n",
        "\n",
        "Hence, a for loop's else part runs if no break occurs."
      ]
    },
    {
      "cell_type": "code",
      "metadata": {
        "id": "bGmdm3Oh-B6E",
        "colab_type": "code",
        "colab": {},
        "outputId": "b04afe2a-21d5-487e-a39b-f887015fac8b"
      },
      "source": [
        "numbers = [1, 2, 3]\n",
        "\n",
        "#iterating over the list\n",
        "for item in numbers:\n",
        "    print(item)\n",
        "else:\n",
        "    print(\"no item left in the list\")"
      ],
      "execution_count": 0,
      "outputs": [
        {
          "output_type": "stream",
          "text": [
            "1\n",
            "2\n",
            "3\n",
            "no item left in the list\n"
          ],
          "name": "stdout"
        }
      ]
    },
    {
      "cell_type": "code",
      "metadata": {
        "id": "mqnYNgUt-B6X",
        "colab_type": "code",
        "colab": {},
        "outputId": "cea7da58-34b5-4788-d14e-be35592d9e79"
      },
      "source": [
        "for item in numbers:\n",
        "    print(item)\n",
        "    if item % 2 == 0:\n",
        "        break\n",
        "else:\n",
        "    print(\"no item left in the list\")"
      ],
      "execution_count": 0,
      "outputs": [
        {
          "output_type": "stream",
          "text": [
            "1\n",
            "2\n"
          ],
          "name": "stdout"
        }
      ]
    },
    {
      "cell_type": "markdown",
      "metadata": {
        "id": "iZSkrLZa-B6k",
        "colab_type": "text"
      },
      "source": [
        "# Python Program to display all prime numbers within an interval"
      ]
    },
    {
      "cell_type": "code",
      "metadata": {
        "id": "dQcCXbi5-B6o",
        "colab_type": "code",
        "colab": {},
        "outputId": "9a01ea04-a83a-451b-93bc-933b5e0db2d5"
      },
      "source": [
        "index1 = 10\n",
        "index2 = 50\n",
        "\n",
        "print(\"Prime numbers between {0} and {1} are :\".format(index1, index2))\n",
        "\n",
        "for num in range(index1, index2+1):      #default step size is 1\n",
        "    if num > 1:\n",
        "        isDivisible = False;\n",
        "        for index in range(2, num):\n",
        "            if num % index == 0:\n",
        "                isDivisible = True;\n",
        "        if not isDivisible:        \n",
        "            print(num);\n",
        "    "
      ],
      "execution_count": 0,
      "outputs": [
        {
          "output_type": "stream",
          "text": [
            "Prime numbers between 10 and 50 are :\n",
            "11\n",
            "13\n",
            "17\n",
            "19\n",
            "23\n",
            "29\n",
            "31\n",
            "37\n",
            "41\n",
            "43\n",
            "47\n"
          ],
          "name": "stdout"
        }
      ]
    },
    {
      "cell_type": "code",
      "metadata": {
        "collapsed": true,
        "id": "Xfc7-fsO-B64",
        "colab_type": "code",
        "colab": {}
      },
      "source": [
        ""
      ],
      "execution_count": 0,
      "outputs": []
    }
  ]
}