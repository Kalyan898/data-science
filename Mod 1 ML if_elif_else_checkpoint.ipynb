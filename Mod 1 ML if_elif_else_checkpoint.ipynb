{
  "nbformat": 4,
  "nbformat_minor": 0,
  "metadata": {
    "kernelspec": {
      "display_name": "Python 3",
      "language": "python",
      "name": "python3"
    },
    "language_info": {
      "codemirror_mode": {
        "name": "ipython",
        "version": 3
      },
      "file_extension": ".py",
      "mimetype": "text/x-python",
      "name": "python",
      "nbconvert_exporter": "python",
      "pygments_lexer": "ipython3",
      "version": "3.6.1"
    },
    "colab": {
      "name": "if-elif-else-checkpoint.ipynb",
      "version": "0.3.2",
      "provenance": [],
      "include_colab_link": true
    }
  },
  "cells": [
    {
      "cell_type": "markdown",
      "metadata": {
        "id": "view-in-github",
        "colab_type": "text"
      },
      "source": [
        "<a href=\"https://colab.research.google.com/github/Kalyan898/data-science/blob/master/Mod%201%20ML%20if_elif_else_checkpoint.ipynb\" target=\"_parent\"><img src=\"https://colab.research.google.com/assets/colab-badge.svg\" alt=\"Open In Colab\"/></a>"
      ]
    },
    {
      "cell_type": "markdown",
      "metadata": {
        "collapsed": true,
        "id": "l6osz9rF7Tq2",
        "colab_type": "text"
      },
      "source": [
        "# Python if ... else Statement"
      ]
    },
    {
      "cell_type": "markdown",
      "metadata": {
        "id": "5Y_E_gpn7TrC",
        "colab_type": "text"
      },
      "source": [
        "The **if…elif…else** statement is used in Python for decision making."
      ]
    },
    {
      "cell_type": "markdown",
      "metadata": {
        "id": "Fdyo3iGo7TrH",
        "colab_type": "text"
      },
      "source": [
        "# if statement syntax"
      ]
    },
    {
      "cell_type": "markdown",
      "metadata": {
        "id": "OoDTZWie7TrL",
        "colab_type": "text"
      },
      "source": [
        "    if test expression:\n",
        "\n",
        "        statement(s)"
      ]
    },
    {
      "cell_type": "markdown",
      "metadata": {
        "id": "WR-ALdYb7TrT",
        "colab_type": "text"
      },
      "source": [
        "The program evaluates the test expression and will execute statement(s) only if the text expression is True.\n",
        "\n",
        "If the text expression is False, the statement(s) is not executed."
      ]
    },
    {
      "cell_type": "markdown",
      "metadata": {
        "id": "6G41EnxN7Trb",
        "colab_type": "text"
      },
      "source": [
        "Python interprets non-zero values as True. None and 0 are interpreted as False."
      ]
    },
    {
      "cell_type": "markdown",
      "metadata": {
        "id": "cGtylxuh7Trf",
        "colab_type": "text"
      },
      "source": [
        "# Flow Chart"
      ]
    },
    {
      "cell_type": "markdown",
      "metadata": {
        "id": "Uwf1XuAi7Trl",
        "colab_type": "text"
      },
      "source": [
        "![title](Python_if_statement.jpg)"
      ]
    },
    {
      "cell_type": "markdown",
      "metadata": {
        "id": "XTZjQB257Trp",
        "colab_type": "text"
      },
      "source": [
        "# Example"
      ]
    },
    {
      "cell_type": "code",
      "metadata": {
        "id": "ECZCid8L7Tru",
        "colab_type": "code",
        "colab": {},
        "outputId": "465c6ad5-412e-4beb-b36e-4215355b2516"
      },
      "source": [
        "num = 10\n",
        "\n",
        "# try 0, -1 and None\n",
        "if num > 10:\n",
        "    print(\"Number is positive\")\n",
        "print(\"This will print always\")      #This print statement always print\n",
        "\n",
        "#change number \n"
      ],
      "execution_count": 0,
      "outputs": [
        {
          "output_type": "stream",
          "text": [
            "This will print always\n"
          ],
          "name": "stdout"
        }
      ]
    },
    {
      "cell_type": "markdown",
      "metadata": {
        "id": "4plQrAdY7TsH",
        "colab_type": "text"
      },
      "source": [
        "# if ... else Statement"
      ]
    },
    {
      "cell_type": "markdown",
      "metadata": {
        "id": "KTM0JvDJ7TsN",
        "colab_type": "text"
      },
      "source": [
        "# Syntax:"
      ]
    },
    {
      "cell_type": "markdown",
      "metadata": {
        "id": "dFVCsRXj7TsR",
        "colab_type": "text"
      },
      "source": [
        "    if test expression:\n",
        "    \n",
        "        Body of if\n",
        "\n",
        "    else: \n",
        "    \n",
        "        Body of else"
      ]
    },
    {
      "cell_type": "markdown",
      "metadata": {
        "id": "iwXWH-Uz7TsS",
        "colab_type": "text"
      },
      "source": [
        "# Flow Chart"
      ]
    },
    {
      "cell_type": "markdown",
      "metadata": {
        "id": "2N4oFpQb7TsW",
        "colab_type": "text"
      },
      "source": [
        "![title](Python_if_else_statement.jpg)"
      ]
    },
    {
      "cell_type": "markdown",
      "metadata": {
        "id": "6T0vVaSF7TsY",
        "colab_type": "text"
      },
      "source": [
        "# Example"
      ]
    },
    {
      "cell_type": "code",
      "metadata": {
        "id": "xjSoCkIE7Tsb",
        "colab_type": "code",
        "colab": {},
        "outputId": "177d4803-2017-4e8a-d6f1-9c58053c531c"
      },
      "source": [
        "num = 10\n",
        "if num > 0:\n",
        "    print(\"Positive number\")\n",
        "else:\n",
        "    print(\"Negative Number\")"
      ],
      "execution_count": 0,
      "outputs": [
        {
          "output_type": "stream",
          "text": [
            "Positive number\n"
          ],
          "name": "stdout"
        }
      ]
    },
    {
      "cell_type": "markdown",
      "metadata": {
        "id": "K4UBqXJV7Tsm",
        "colab_type": "text"
      },
      "source": [
        "# if...elif...else Statement"
      ]
    },
    {
      "cell_type": "markdown",
      "metadata": {
        "id": "wYhmhcnW7Tso",
        "colab_type": "text"
      },
      "source": [
        "# Syntax:"
      ]
    },
    {
      "cell_type": "markdown",
      "metadata": {
        "id": "yAXLV6-f7Tst",
        "colab_type": "text"
      },
      "source": [
        "    if test expression:\n",
        "\n",
        "        Body of if\n",
        "    elif test expression:\n",
        "    \n",
        "        Body of elif\n",
        "    else: \n",
        "    \n",
        "        Body of else"
      ]
    },
    {
      "cell_type": "markdown",
      "metadata": {
        "id": "rc8EK7jK7Tsx",
        "colab_type": "text"
      },
      "source": [
        "# Flow Chart"
      ]
    },
    {
      "cell_type": "markdown",
      "metadata": {
        "id": "TAhAb3qm7Ts0",
        "colab_type": "text"
      },
      "source": [
        "![title](Python_if_elif_else_statement.jpg)"
      ]
    },
    {
      "cell_type": "markdown",
      "metadata": {
        "id": "pKuJJqQR7Ts4",
        "colab_type": "text"
      },
      "source": [
        "# Example:"
      ]
    },
    {
      "cell_type": "code",
      "metadata": {
        "id": "JawwmPR17Ts-",
        "colab_type": "code",
        "colab": {},
        "outputId": "4cee3815-07dc-4854-90b0-566cb1106da6"
      },
      "source": [
        "num = 10.5\n",
        "\n",
        "if num > 0:\n",
        "    print(\"Positive number\")\n",
        "elif num == 0:\n",
        "    print(\"ZERO\")\n",
        "else:\n",
        "    print(\"Negative Number\")"
      ],
      "execution_count": 0,
      "outputs": [
        {
          "output_type": "stream",
          "text": [
            "Positive number\n"
          ],
          "name": "stdout"
        }
      ]
    },
    {
      "cell_type": "markdown",
      "metadata": {
        "id": "RMQK2x3a7TtL",
        "colab_type": "text"
      },
      "source": [
        "# Nested if Statements"
      ]
    },
    {
      "cell_type": "markdown",
      "metadata": {
        "id": "LjY7ihmy7TtN",
        "colab_type": "text"
      },
      "source": [
        "We can have a if...elif...else statement inside another if...elif...else statement. This is called nesting in computer programming."
      ]
    },
    {
      "cell_type": "markdown",
      "metadata": {
        "id": "MWobXpjH7TtR",
        "colab_type": "text"
      },
      "source": [
        "# Example:"
      ]
    },
    {
      "cell_type": "code",
      "metadata": {
        "id": "eNgMfha47TtS",
        "colab_type": "code",
        "colab": {},
        "outputId": "09810a1a-a085-4f3b-8bdc-06f06887766d"
      },
      "source": [
        "num = 10.5\n",
        "\n",
        "if num >= 0:\n",
        "    if num == 0:\n",
        "        print(\"Zero\")\n",
        "    else:\n",
        "        print(\"Positive number\")\n",
        "else:\n",
        "    print(\"Negative Number\")"
      ],
      "execution_count": 0,
      "outputs": [
        {
          "output_type": "stream",
          "text": [
            "Positive number\n"
          ],
          "name": "stdout"
        }
      ]
    },
    {
      "cell_type": "markdown",
      "metadata": {
        "id": "a9psewKj7Ttf",
        "colab_type": "text"
      },
      "source": [
        "# Python program to find the largest element among three Numbers"
      ]
    },
    {
      "cell_type": "code",
      "metadata": {
        "id": "mmlRuVtN7Tti",
        "colab_type": "code",
        "colab": {},
        "outputId": "9bf671c8-8647-4aec-97ee-c80f0b7ed3a1"
      },
      "source": [
        "num1 = 10\n",
        "num2 = 50\n",
        "num3 = 15\n",
        "\n",
        "if (num1 >= num2) and (num1 >= num3):           #logical operator   and\n",
        "    largest = num1\n",
        "elif (num2 >= num1) and (num2 >= num3):\n",
        "    largest = num2\n",
        "else:\n",
        "    largest = num3\n",
        "print(\"Largest element among three numbers is: {}\".format(largest))"
      ],
      "execution_count": 0,
      "outputs": [
        {
          "output_type": "stream",
          "text": [
            "Largest element among three numbers is: 50\n"
          ],
          "name": "stdout"
        }
      ]
    }
  ]
}