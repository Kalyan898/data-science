{
  "nbformat": 4,
  "nbformat_minor": 0,
  "metadata": {
    "kernelspec": {
      "display_name": "Python 3",
      "language": "python",
      "name": "python3"
    },
    "language_info": {
      "codemirror_mode": {
        "name": "ipython",
        "version": 3
      },
      "file_extension": ".py",
      "mimetype": "text/x-python",
      "name": "python",
      "nbconvert_exporter": "python",
      "pygments_lexer": "ipython3",
      "version": "3.6.1"
    },
    "colab": {
      "name": "numerical_operations_on_array-checkpoint.ipynb",
      "version": "0.3.2",
      "provenance": [],
      "include_colab_link": true
    }
  },
  "cells": [
    {
      "cell_type": "markdown",
      "metadata": {
        "id": "view-in-github",
        "colab_type": "text"
      },
      "source": [
        "<a href=\"https://colab.research.google.com/github/Kalyan898/data-science/blob/master/Mod%201%20ML%20numerical_operations_on_array_checkpoint.ipynb\" target=\"_parent\"><img src=\"https://colab.research.google.com/assets/colab-badge.svg\" alt=\"Open In Colab\"/></a>"
      ]
    },
    {
      "cell_type": "code",
      "metadata": {
        "collapsed": true,
        "id": "ALsuVR4ZM4AF",
        "colab_type": "code",
        "colab": {}
      },
      "source": [
        "import numpy as np"
      ],
      "execution_count": 0,
      "outputs": []
    },
    {
      "cell_type": "markdown",
      "metadata": {
        "id": "J3gTdJaDM4Ad",
        "colab_type": "text"
      },
      "source": [
        "# Elementwise Operations"
      ]
    },
    {
      "cell_type": "markdown",
      "metadata": {
        "id": "SfmEUPhEM4Af",
        "colab_type": "text"
      },
      "source": [
        "**1. Basic Operations**"
      ]
    },
    {
      "cell_type": "markdown",
      "metadata": {
        "id": "dfTnp7cLM4Aj",
        "colab_type": "text"
      },
      "source": [
        "**with scalars**"
      ]
    },
    {
      "cell_type": "code",
      "metadata": {
        "id": "JHKk9EgwM4Am",
        "colab_type": "code",
        "colab": {},
        "outputId": "86f05af9-a95e-484c-e6ed-2883ddca7f87"
      },
      "source": [
        "a = np.array([1, 2, 3, 4]) #create an array\n",
        "\n",
        "a + 1"
      ],
      "execution_count": 0,
      "outputs": [
        {
          "output_type": "execute_result",
          "data": {
            "text/plain": [
              "array([2, 3, 4, 5])"
            ]
          },
          "metadata": {
            "tags": []
          },
          "execution_count": 2
        }
      ]
    },
    {
      "cell_type": "code",
      "metadata": {
        "id": "kPDKESl-M4Az",
        "colab_type": "code",
        "colab": {},
        "outputId": "17948033-591b-44e8-bdac-eac781f11946"
      },
      "source": [
        "a ** 2"
      ],
      "execution_count": 0,
      "outputs": [
        {
          "output_type": "execute_result",
          "data": {
            "text/plain": [
              "array([ 1,  4,  9, 16])"
            ]
          },
          "metadata": {
            "tags": []
          },
          "execution_count": 3
        }
      ]
    },
    {
      "cell_type": "markdown",
      "metadata": {
        "id": "TmHTjqJXM4A7",
        "colab_type": "text"
      },
      "source": [
        "**All arithmetic operates elementwise**"
      ]
    },
    {
      "cell_type": "code",
      "metadata": {
        "id": "V20XYbWQM4A_",
        "colab_type": "code",
        "colab": {},
        "outputId": "2409d747-2fd5-4e05-9d7c-43ded7cdae30"
      },
      "source": [
        "b = np.ones(4) + 1\n",
        "\n",
        "a - b"
      ],
      "execution_count": 0,
      "outputs": [
        {
          "output_type": "execute_result",
          "data": {
            "text/plain": [
              "array([-1.,  0.,  1.,  2.])"
            ]
          },
          "metadata": {
            "tags": []
          },
          "execution_count": 4
        }
      ]
    },
    {
      "cell_type": "code",
      "metadata": {
        "id": "ox-SG8O6M4BL",
        "colab_type": "code",
        "colab": {},
        "outputId": "84bd1d10-6da6-465a-8111-d3d6a567ef26"
      },
      "source": [
        "a * b"
      ],
      "execution_count": 0,
      "outputs": [
        {
          "output_type": "execute_result",
          "data": {
            "text/plain": [
              "array([ 2.,  4.,  6.,  8.])"
            ]
          },
          "metadata": {
            "tags": []
          },
          "execution_count": 5
        }
      ]
    },
    {
      "cell_type": "code",
      "metadata": {
        "id": "xiDo1ZuvM4Bf",
        "colab_type": "code",
        "colab": {},
        "outputId": "6575d9b8-2153-41b9-9543-f23771663931"
      },
      "source": [
        "# Matrix multiplication\n",
        "\n",
        "c = np.diag([1, 2, 3, 4])\n",
        "\n",
        "print(c * c)\n",
        "print(\"*****************\")\n",
        "print(c.dot(c))"
      ],
      "execution_count": 0,
      "outputs": [
        {
          "output_type": "stream",
          "text": [
            "[[ 1  0  0  0]\n",
            " [ 0  4  0  0]\n",
            " [ 0  0  9  0]\n",
            " [ 0  0  0 16]]\n",
            "*****************\n",
            "[[ 1  0  0  0]\n",
            " [ 0  4  0  0]\n",
            " [ 0  0  9  0]\n",
            " [ 0  0  0 16]]\n"
          ],
          "name": "stdout"
        }
      ]
    },
    {
      "cell_type": "markdown",
      "metadata": {
        "id": "8KVi6Hl9M4Bx",
        "colab_type": "text"
      },
      "source": [
        "**comparisions**"
      ]
    },
    {
      "cell_type": "code",
      "metadata": {
        "id": "CQ0FEy6PM4B1",
        "colab_type": "code",
        "colab": {},
        "outputId": "c861436a-502e-4c6d-9523-9122869c760f"
      },
      "source": [
        "a = np.array([1, 2, 3, 4])\n",
        "b = np.array([5, 2, 2, 4])\n",
        "a == b"
      ],
      "execution_count": 0,
      "outputs": [
        {
          "output_type": "execute_result",
          "data": {
            "text/plain": [
              "array([False,  True, False,  True], dtype=bool)"
            ]
          },
          "metadata": {
            "tags": []
          },
          "execution_count": 10
        }
      ]
    },
    {
      "cell_type": "code",
      "metadata": {
        "id": "UTy3nuzLM4CE",
        "colab_type": "code",
        "colab": {},
        "outputId": "e18b14ac-675e-4c37-a745-90d54a7e1c84"
      },
      "source": [
        "a > b"
      ],
      "execution_count": 0,
      "outputs": [
        {
          "output_type": "execute_result",
          "data": {
            "text/plain": [
              "array([False, False,  True, False], dtype=bool)"
            ]
          },
          "metadata": {
            "tags": []
          },
          "execution_count": 11
        }
      ]
    },
    {
      "cell_type": "code",
      "metadata": {
        "id": "6G3KgpeHM4CL",
        "colab_type": "code",
        "colab": {},
        "outputId": "16614150-0af9-4fb6-d964-7dce5394ef39"
      },
      "source": [
        "#array-wise comparisions\n",
        "a = np.array([1, 2, 3, 4])\n",
        "b = np.array([5, 2, 2, 4])\n",
        "c = np.array([1, 2, 3, 4])\n",
        "\n",
        "np.array_equal(a, b)"
      ],
      "execution_count": 0,
      "outputs": [
        {
          "output_type": "execute_result",
          "data": {
            "text/plain": [
              "False"
            ]
          },
          "metadata": {
            "tags": []
          },
          "execution_count": 12
        }
      ]
    },
    {
      "cell_type": "code",
      "metadata": {
        "id": "M2EFeYatM4CX",
        "colab_type": "code",
        "colab": {},
        "outputId": "ce28eb3f-4ef4-47ba-befd-219be692be02"
      },
      "source": [
        "np.array_equal(a, c)"
      ],
      "execution_count": 0,
      "outputs": [
        {
          "output_type": "execute_result",
          "data": {
            "text/plain": [
              "True"
            ]
          },
          "metadata": {
            "tags": []
          },
          "execution_count": 13
        }
      ]
    },
    {
      "cell_type": "markdown",
      "metadata": {
        "id": "lh3u-K1sM4Ce",
        "colab_type": "text"
      },
      "source": [
        "**Logical Operations**"
      ]
    },
    {
      "cell_type": "code",
      "metadata": {
        "id": "sNwCB1iuM4Cf",
        "colab_type": "code",
        "colab": {},
        "outputId": "1295f4c6-c5a7-42e3-de7e-5a5cfebaf187"
      },
      "source": [
        "a = np.array([1, 1, 0, 0], dtype=bool)\n",
        "b = np.array([1, 0, 1, 0], dtype=bool)\n",
        "\n",
        "np.logical_or(a, b)"
      ],
      "execution_count": 0,
      "outputs": [
        {
          "output_type": "execute_result",
          "data": {
            "text/plain": [
              "array([ True,  True,  True, False], dtype=bool)"
            ]
          },
          "metadata": {
            "tags": []
          },
          "execution_count": 14
        }
      ]
    },
    {
      "cell_type": "code",
      "metadata": {
        "id": "BUIf04QFM4Co",
        "colab_type": "code",
        "colab": {},
        "outputId": "1f5e9aee-cf79-478b-92e2-ee558f712754"
      },
      "source": [
        "np.logical_and(a, b)"
      ],
      "execution_count": 0,
      "outputs": [
        {
          "output_type": "execute_result",
          "data": {
            "text/plain": [
              "array([ True, False, False, False], dtype=bool)"
            ]
          },
          "metadata": {
            "tags": []
          },
          "execution_count": 15
        }
      ]
    },
    {
      "cell_type": "markdown",
      "metadata": {
        "id": "JYgSxtoCM4Cw",
        "colab_type": "text"
      },
      "source": [
        "**Transcendental functions:**"
      ]
    },
    {
      "cell_type": "code",
      "metadata": {
        "id": "yiOVe5fHM4Cz",
        "colab_type": "code",
        "colab": {},
        "outputId": "2688012a-0cd5-4755-9c15-305451da1f7e"
      },
      "source": [
        "a = np.arange(5)\n",
        "\n",
        "np.sin(a)   "
      ],
      "execution_count": 0,
      "outputs": [
        {
          "output_type": "execute_result",
          "data": {
            "text/plain": [
              "array([ 0.        ,  0.84147098,  0.90929743,  0.14112001, -0.7568025 ])"
            ]
          },
          "metadata": {
            "tags": []
          },
          "execution_count": 16
        }
      ]
    },
    {
      "cell_type": "code",
      "metadata": {
        "id": "RVvbN7o9M4C8",
        "colab_type": "code",
        "colab": {},
        "outputId": "982ce587-9ab3-49ab-fdc8-5c3f33744763"
      },
      "source": [
        "np.log(a)"
      ],
      "execution_count": 0,
      "outputs": [
        {
          "output_type": "stream",
          "text": [
            "/Users/satishatcha/.virtualenvs/course/lib/python2.7/site-packages/ipykernel_launcher.py:1: RuntimeWarning: divide by zero encountered in log\n",
            "  \"\"\"Entry point for launching an IPython kernel.\n"
          ],
          "name": "stderr"
        },
        {
          "output_type": "execute_result",
          "data": {
            "text/plain": [
              "array([       -inf,  0.        ,  0.69314718,  1.09861229,  1.38629436])"
            ]
          },
          "metadata": {
            "tags": []
          },
          "execution_count": 17
        }
      ]
    },
    {
      "cell_type": "code",
      "metadata": {
        "id": "v7yKInYNM4DB",
        "colab_type": "code",
        "colab": {},
        "outputId": "8b25f312-e332-4cb3-f00b-b266559378e7"
      },
      "source": [
        "np.exp(a)   #evaluates e^x for each element in a given input"
      ],
      "execution_count": 0,
      "outputs": [
        {
          "output_type": "execute_result",
          "data": {
            "text/plain": [
              "array([  1.        ,   2.71828183,   7.3890561 ,  20.08553692,  54.59815003])"
            ]
          },
          "metadata": {
            "tags": []
          },
          "execution_count": 18
        }
      ]
    },
    {
      "cell_type": "markdown",
      "metadata": {
        "id": "eEUMOHV2M4DK",
        "colab_type": "text"
      },
      "source": [
        "**Shape Mismatch**"
      ]
    },
    {
      "cell_type": "code",
      "metadata": {
        "id": "_IFn7DiZM4DP",
        "colab_type": "code",
        "colab": {},
        "outputId": "28a9b21b-1c09-415d-eb19-4a8efe6c9ca7"
      },
      "source": [
        "a = np.arange(4)\n",
        "\n",
        "a + np.array([1, 2])"
      ],
      "execution_count": 0,
      "outputs": [
        {
          "output_type": "error",
          "ename": "ValueError",
          "evalue": "operands could not be broadcast together with shapes (4,) (2,) ",
          "traceback": [
            "\u001b[0;31m---------------------------------------------------------------------------\u001b[0m",
            "\u001b[0;31mValueError\u001b[0m                                Traceback (most recent call last)",
            "\u001b[0;32m<ipython-input-19-f4d5ac434765>\u001b[0m in \u001b[0;36m<module>\u001b[0;34m()\u001b[0m\n\u001b[1;32m      1\u001b[0m \u001b[0ma\u001b[0m \u001b[0;34m=\u001b[0m \u001b[0mnp\u001b[0m\u001b[0;34m.\u001b[0m\u001b[0marange\u001b[0m\u001b[0;34m(\u001b[0m\u001b[0;36m4\u001b[0m\u001b[0;34m)\u001b[0m\u001b[0;34m\u001b[0m\u001b[0m\n\u001b[1;32m      2\u001b[0m \u001b[0;34m\u001b[0m\u001b[0m\n\u001b[0;32m----> 3\u001b[0;31m \u001b[0ma\u001b[0m \u001b[0;34m+\u001b[0m \u001b[0mnp\u001b[0m\u001b[0;34m.\u001b[0m\u001b[0marray\u001b[0m\u001b[0;34m(\u001b[0m\u001b[0;34m[\u001b[0m\u001b[0;36m1\u001b[0m\u001b[0;34m,\u001b[0m \u001b[0;36m2\u001b[0m\u001b[0;34m]\u001b[0m\u001b[0;34m)\u001b[0m\u001b[0;34m\u001b[0m\u001b[0m\n\u001b[0m",
            "\u001b[0;31mValueError\u001b[0m: operands could not be broadcast together with shapes (4,) (2,) "
          ]
        }
      ]
    },
    {
      "cell_type": "markdown",
      "metadata": {
        "id": "V7cLSC8NM4DW",
        "colab_type": "text"
      },
      "source": [
        "# Basic Reductions"
      ]
    },
    {
      "cell_type": "markdown",
      "metadata": {
        "id": "YiSO1B5UM4DZ",
        "colab_type": "text"
      },
      "source": [
        "**computing sums**"
      ]
    },
    {
      "cell_type": "code",
      "metadata": {
        "id": "qsdFLitgM4Da",
        "colab_type": "code",
        "colab": {},
        "outputId": "beb1c169-d8da-4b05-ee6b-14d2836c3232"
      },
      "source": [
        "x = np.array([1, 2, 3, 4])\n",
        "np.sum(x)"
      ],
      "execution_count": 0,
      "outputs": [
        {
          "output_type": "execute_result",
          "data": {
            "text/plain": [
              "10"
            ]
          },
          "metadata": {
            "tags": []
          },
          "execution_count": 4
        }
      ]
    },
    {
      "cell_type": "code",
      "metadata": {
        "id": "rrq4pjWcM4Dj",
        "colab_type": "code",
        "colab": {},
        "outputId": "f00fbbc2-7e49-4bf5-ffcb-67dfe114c817"
      },
      "source": [
        "#sum by rows and by columns\n",
        "\n",
        "x = np.array([[1, 1], [2, 2]])\n",
        "x"
      ],
      "execution_count": 0,
      "outputs": [
        {
          "output_type": "execute_result",
          "data": {
            "text/plain": [
              "array([[1, 1],\n",
              "       [2, 2]])"
            ]
          },
          "metadata": {
            "tags": []
          },
          "execution_count": 5
        }
      ]
    },
    {
      "cell_type": "code",
      "metadata": {
        "id": "gzeT-4tcM4Ds",
        "colab_type": "code",
        "colab": {},
        "outputId": "f607fd2b-70bc-4c21-fa0f-b5173c791187"
      },
      "source": [
        "x.sum(axis=0)   #columns first dimension"
      ],
      "execution_count": 0,
      "outputs": [
        {
          "output_type": "execute_result",
          "data": {
            "text/plain": [
              "array([3, 3])"
            ]
          },
          "metadata": {
            "tags": []
          },
          "execution_count": 6
        }
      ]
    },
    {
      "cell_type": "code",
      "metadata": {
        "id": "5OTFqrT7M4Dx",
        "colab_type": "code",
        "colab": {},
        "outputId": "1ca824d1-9183-468c-cf0a-911a50fc8a02"
      },
      "source": [
        "x.sum(axis=1)  #rows (second dimension)"
      ],
      "execution_count": 0,
      "outputs": [
        {
          "output_type": "execute_result",
          "data": {
            "text/plain": [
              "array([2, 4])"
            ]
          },
          "metadata": {
            "tags": []
          },
          "execution_count": 7
        }
      ]
    },
    {
      "cell_type": "markdown",
      "metadata": {
        "id": "cDGpLeWUM4D6",
        "colab_type": "text"
      },
      "source": [
        "**Other reductions**"
      ]
    },
    {
      "cell_type": "code",
      "metadata": {
        "id": "QLZz7eKpM4D9",
        "colab_type": "code",
        "colab": {},
        "outputId": "cb32a71f-4521-44f1-a21d-100334a1ad26"
      },
      "source": [
        "x = np.array([1, 3, 2])\n",
        "x.min()"
      ],
      "execution_count": 0,
      "outputs": [
        {
          "output_type": "execute_result",
          "data": {
            "text/plain": [
              "1"
            ]
          },
          "metadata": {
            "tags": []
          },
          "execution_count": 8
        }
      ]
    },
    {
      "cell_type": "code",
      "metadata": {
        "id": "uYKSb-gjM4EC",
        "colab_type": "code",
        "colab": {},
        "outputId": "b4389835-9f37-4507-9c28-38810b6135b4"
      },
      "source": [
        "x.max()"
      ],
      "execution_count": 0,
      "outputs": [
        {
          "output_type": "execute_result",
          "data": {
            "text/plain": [
              "3"
            ]
          },
          "metadata": {
            "tags": []
          },
          "execution_count": 9
        }
      ]
    },
    {
      "cell_type": "code",
      "metadata": {
        "id": "azWdKoCbM4EL",
        "colab_type": "code",
        "colab": {},
        "outputId": "6404d028-746f-491c-925c-e7e0668a93ae"
      },
      "source": [
        "x.argmin()# index of minimum element"
      ],
      "execution_count": 0,
      "outputs": [
        {
          "output_type": "execute_result",
          "data": {
            "text/plain": [
              "0"
            ]
          },
          "metadata": {
            "tags": []
          },
          "execution_count": 10
        }
      ]
    },
    {
      "cell_type": "code",
      "metadata": {
        "id": "eBYAwoQ9M4ES",
        "colab_type": "code",
        "colab": {},
        "outputId": "2b4360cb-e325-4470-9eea-f3dce68df751"
      },
      "source": [
        "x.argmax()# index of maximum element"
      ],
      "execution_count": 0,
      "outputs": [
        {
          "output_type": "execute_result",
          "data": {
            "text/plain": [
              "1"
            ]
          },
          "metadata": {
            "tags": []
          },
          "execution_count": 11
        }
      ]
    },
    {
      "cell_type": "markdown",
      "metadata": {
        "id": "M5BfcnnlM4EW",
        "colab_type": "text"
      },
      "source": [
        "**Logical Operations**"
      ]
    },
    {
      "cell_type": "code",
      "metadata": {
        "id": "dUqQhlIJM4EX",
        "colab_type": "code",
        "colab": {},
        "outputId": "ec01e482-223b-49d0-90ed-a511fb4dee9d"
      },
      "source": [
        "np.all([True, True, False])"
      ],
      "execution_count": 0,
      "outputs": [
        {
          "output_type": "execute_result",
          "data": {
            "text/plain": [
              "False"
            ]
          },
          "metadata": {
            "tags": []
          },
          "execution_count": 12
        }
      ]
    },
    {
      "cell_type": "code",
      "metadata": {
        "id": "2U80tQWWM4Eh",
        "colab_type": "code",
        "colab": {},
        "outputId": "905da438-007e-4d4c-e557-1cef952ce80d"
      },
      "source": [
        "np.any([True, False, False])"
      ],
      "execution_count": 0,
      "outputs": [
        {
          "output_type": "execute_result",
          "data": {
            "text/plain": [
              "True"
            ]
          },
          "metadata": {
            "tags": []
          },
          "execution_count": 13
        }
      ]
    },
    {
      "cell_type": "code",
      "metadata": {
        "id": "gJNZ0vYLM4Em",
        "colab_type": "code",
        "colab": {},
        "outputId": "c4538efd-ccd7-4c03-95f3-8852c7c08081"
      },
      "source": [
        "#Note: can be used for array comparisions\n",
        "a = np.zeros((50, 50))\n",
        "np.any(a != 0)"
      ],
      "execution_count": 0,
      "outputs": [
        {
          "output_type": "execute_result",
          "data": {
            "text/plain": [
              "False"
            ]
          },
          "metadata": {
            "tags": []
          },
          "execution_count": 14
        }
      ]
    },
    {
      "cell_type": "code",
      "metadata": {
        "id": "3GBvId-vM4Es",
        "colab_type": "code",
        "colab": {},
        "outputId": "2eb32643-8d12-41f2-bfe0-0e57e0803b7f"
      },
      "source": [
        "np.all(a == a)"
      ],
      "execution_count": 0,
      "outputs": [
        {
          "output_type": "execute_result",
          "data": {
            "text/plain": [
              "True"
            ]
          },
          "metadata": {
            "tags": []
          },
          "execution_count": 15
        }
      ]
    },
    {
      "cell_type": "code",
      "metadata": {
        "id": "eUYO0kXwM4Ex",
        "colab_type": "code",
        "colab": {},
        "outputId": "30cb924e-6a87-4831-ff9a-893be9a8b3f1"
      },
      "source": [
        "a = np.array([1, 2, 3, 2])\n",
        "b = np.array([2, 2, 3, 2])\n",
        "c = np.array([6, 4, 4, 5])\n",
        "((a <= b) & (b <= c)).all()"
      ],
      "execution_count": 0,
      "outputs": [
        {
          "output_type": "execute_result",
          "data": {
            "text/plain": [
              "True"
            ]
          },
          "metadata": {
            "tags": []
          },
          "execution_count": 16
        }
      ]
    },
    {
      "cell_type": "markdown",
      "metadata": {
        "id": "7UluzT9rM4E2",
        "colab_type": "text"
      },
      "source": [
        "**Statistics**"
      ]
    },
    {
      "cell_type": "code",
      "metadata": {
        "id": "wEEJHC9WM4E3",
        "colab_type": "code",
        "colab": {},
        "outputId": "c51f5e50-54fa-4737-e972-63e370a4f14e"
      },
      "source": [
        "x = np.array([1, 2, 3, 1])\n",
        "y = np.array([[1, 2, 3], [5, 6, 1]])\n",
        "x.mean()"
      ],
      "execution_count": 0,
      "outputs": [
        {
          "output_type": "execute_result",
          "data": {
            "text/plain": [
              "1.75"
            ]
          },
          "metadata": {
            "tags": []
          },
          "execution_count": 23
        }
      ]
    },
    {
      "cell_type": "code",
      "metadata": {
        "id": "I8l13wW6M4E6",
        "colab_type": "code",
        "colab": {},
        "outputId": "171f1988-74fe-42f4-9c86-40b9725e102e"
      },
      "source": [
        "np.median(x)"
      ],
      "execution_count": 0,
      "outputs": [
        {
          "output_type": "execute_result",
          "data": {
            "text/plain": [
              "1.5"
            ]
          },
          "metadata": {
            "tags": []
          },
          "execution_count": 24
        }
      ]
    },
    {
      "cell_type": "code",
      "metadata": {
        "id": "YAGAEIOJM4FA",
        "colab_type": "code",
        "colab": {},
        "outputId": "63fa5da6-5939-4ff6-d1ab-24321115aafc"
      },
      "source": [
        "np.median(y, axis=-1) # last axis"
      ],
      "execution_count": 0,
      "outputs": [
        {
          "output_type": "execute_result",
          "data": {
            "text/plain": [
              "array([ 2.,  5.])"
            ]
          },
          "metadata": {
            "tags": []
          },
          "execution_count": 25
        }
      ]
    },
    {
      "cell_type": "code",
      "metadata": {
        "id": "bfpRZa18M4FD",
        "colab_type": "code",
        "colab": {},
        "outputId": "c76e17b4-aee7-49e3-c0c7-d1ca86ce81ed"
      },
      "source": [
        "x.std()          # full population standard dev."
      ],
      "execution_count": 0,
      "outputs": [
        {
          "output_type": "execute_result",
          "data": {
            "text/plain": [
              "0.82915619758884995"
            ]
          },
          "metadata": {
            "tags": []
          },
          "execution_count": 26
        }
      ]
    },
    {
      "cell_type": "markdown",
      "metadata": {
        "id": "_5kDK2Q3M4FJ",
        "colab_type": "text"
      },
      "source": [
        "**Example:**"
      ]
    },
    {
      "cell_type": "markdown",
      "metadata": {
        "id": "8V7CluvxM4FJ",
        "colab_type": "text"
      },
      "source": [
        "Data in populations.txt describes the populations of hares and lynxes (and carrots) in northern Canada during 20 years.\n"
      ]
    },
    {
      "cell_type": "code",
      "metadata": {
        "collapsed": true,
        "id": "g7btobDTM4FK",
        "colab_type": "code",
        "colab": {}
      },
      "source": [
        "#load data into numpy array object\n",
        "data = np.loadtxt('populations.txt')"
      ],
      "execution_count": 0,
      "outputs": []
    },
    {
      "cell_type": "code",
      "metadata": {
        "id": "escikNUFM4FP",
        "colab_type": "code",
        "colab": {},
        "outputId": "d626ae92-104a-43ba-dae0-5689ee73e0ad"
      },
      "source": [
        "data"
      ],
      "execution_count": 0,
      "outputs": [
        {
          "output_type": "execute_result",
          "data": {
            "text/plain": [
              "array([[  1900.,  30000.,   4000.,  48300.],\n",
              "       [  1901.,  47200.,   6100.,  48200.],\n",
              "       [  1902.,  70200.,   9800.,  41500.],\n",
              "       [  1903.,  77400.,  35200.,  38200.],\n",
              "       [  1904.,  36300.,  59400.,  40600.],\n",
              "       [  1905.,  20600.,  41700.,  39800.],\n",
              "       [  1906.,  18100.,  19000.,  38600.],\n",
              "       [  1907.,  21400.,  13000.,  42300.],\n",
              "       [  1908.,  22000.,   8300.,  44500.],\n",
              "       [  1909.,  25400.,   9100.,  42100.],\n",
              "       [  1910.,  27100.,   7400.,  46000.],\n",
              "       [  1911.,  40300.,   8000.,  46800.],\n",
              "       [  1912.,  57000.,  12300.,  43800.],\n",
              "       [  1913.,  76600.,  19500.,  40900.],\n",
              "       [  1914.,  52300.,  45700.,  39400.],\n",
              "       [  1915.,  19500.,  51100.,  39000.],\n",
              "       [  1916.,  11200.,  29700.,  36700.],\n",
              "       [  1917.,   7600.,  15800.,  41800.],\n",
              "       [  1918.,  14600.,   9700.,  43300.],\n",
              "       [  1919.,  16200.,  10100.,  41300.],\n",
              "       [  1920.,  24700.,   8600.,  47300.]])"
            ]
          },
          "metadata": {
            "tags": []
          },
          "execution_count": 18
        }
      ]
    },
    {
      "cell_type": "code",
      "metadata": {
        "id": "rvv45HNAM4FS",
        "colab_type": "code",
        "colab": {},
        "outputId": "80e57417-c2e9-4ffc-fb64-ee7e9170bc60"
      },
      "source": [
        "year, hares, lynxes, carrots = data.T #columns to variables\n",
        "print(year)"
      ],
      "execution_count": 0,
      "outputs": [
        {
          "output_type": "stream",
          "text": [
            "[ 1900.  1901.  1902.  1903.  1904.  1905.  1906.  1907.  1908.  1909.\n",
            "  1910.  1911.  1912.  1913.  1914.  1915.  1916.  1917.  1918.  1919.\n",
            "  1920.]\n"
          ],
          "name": "stdout"
        }
      ]
    },
    {
      "cell_type": "code",
      "metadata": {
        "id": "9jVMywl_M4Fd",
        "colab_type": "code",
        "colab": {},
        "outputId": "ef19f357-7516-4eef-c0a6-5a09f03ed07e"
      },
      "source": [
        "#The mean population over time\n",
        "populations = data[:, 1:]\n",
        "populations"
      ],
      "execution_count": 0,
      "outputs": [
        {
          "output_type": "execute_result",
          "data": {
            "text/plain": [
              "array([[ 30000.,   4000.,  48300.],\n",
              "       [ 47200.,   6100.,  48200.],\n",
              "       [ 70200.,   9800.,  41500.],\n",
              "       [ 77400.,  35200.,  38200.],\n",
              "       [ 36300.,  59400.,  40600.],\n",
              "       [ 20600.,  41700.,  39800.],\n",
              "       [ 18100.,  19000.,  38600.],\n",
              "       [ 21400.,  13000.,  42300.],\n",
              "       [ 22000.,   8300.,  44500.],\n",
              "       [ 25400.,   9100.,  42100.],\n",
              "       [ 27100.,   7400.,  46000.],\n",
              "       [ 40300.,   8000.,  46800.],\n",
              "       [ 57000.,  12300.,  43800.],\n",
              "       [ 76600.,  19500.,  40900.],\n",
              "       [ 52300.,  45700.,  39400.],\n",
              "       [ 19500.,  51100.,  39000.],\n",
              "       [ 11200.,  29700.,  36700.],\n",
              "       [  7600.,  15800.,  41800.],\n",
              "       [ 14600.,   9700.,  43300.],\n",
              "       [ 16200.,  10100.,  41300.],\n",
              "       [ 24700.,   8600.,  47300.]])"
            ]
          },
          "metadata": {
            "tags": []
          },
          "execution_count": 21
        }
      ]
    },
    {
      "cell_type": "code",
      "metadata": {
        "id": "_I5Qt399M4Fi",
        "colab_type": "code",
        "colab": {},
        "outputId": "d46aca3e-dbc9-406d-e0f4-9b54d62fb076"
      },
      "source": [
        "#sample standard deviations\n",
        "populations.std(axis=0)"
      ],
      "execution_count": 0,
      "outputs": [
        {
          "output_type": "execute_result",
          "data": {
            "text/plain": [
              "array([ 20897.90645809,  16254.59153691,   3322.50622558])"
            ]
          },
          "metadata": {
            "tags": []
          },
          "execution_count": 22
        }
      ]
    },
    {
      "cell_type": "code",
      "metadata": {
        "id": "gkwgJS0lM4F8",
        "colab_type": "code",
        "colab": {},
        "outputId": "a81f6982-9fd7-457e-b781-e9401d3a8d5a"
      },
      "source": [
        "#which species has the highest population each year?\n",
        "\n",
        "np.argmax(populations, axis=1)"
      ],
      "execution_count": 0,
      "outputs": [
        {
          "output_type": "execute_result",
          "data": {
            "text/plain": [
              "array([2, 2, 0, 0, 1, 1, 2, 2, 2, 2, 2, 2, 0, 0, 0, 1, 2, 2, 2, 2, 2])"
            ]
          },
          "metadata": {
            "tags": []
          },
          "execution_count": 23
        }
      ]
    },
    {
      "cell_type": "markdown",
      "metadata": {
        "id": "trukSEWBM4GE",
        "colab_type": "text"
      },
      "source": [
        "# Broadcasting"
      ]
    },
    {
      "cell_type": "markdown",
      "metadata": {
        "id": "X0_gO8lpM4GF",
        "colab_type": "text"
      },
      "source": [
        "Basic operations on numpy arrays (addition, etc.) are elementwise\n",
        "\n",
        "This works on arrays of the same size.\n",
        "    Nevertheless, It’s also possible to do operations on arrays of different sizes if NumPy can transform these arrays     so that they all have the same size: this conversion is called broadcasting.\n",
        "\n",
        "The image below gives an example of broadcasting:"
      ]
    },
    {
      "cell_type": "markdown",
      "metadata": {
        "id": "FKwmbK04M4GG",
        "colab_type": "text"
      },
      "source": [
        "![title](broadcasting.png)"
      ]
    },
    {
      "cell_type": "code",
      "metadata": {
        "id": "d8udCPLBM4GH",
        "colab_type": "code",
        "colab": {},
        "outputId": "20989630-9d64-4c62-e78d-05c6554d0cd2"
      },
      "source": [
        "a = np.tile(np.arange(0, 40, 10), (3,1))\n",
        "print(a)\n",
        "\n",
        "print(\"*************\")\n",
        "a=a.T\n",
        "print(a)"
      ],
      "execution_count": 0,
      "outputs": [
        {
          "output_type": "stream",
          "text": [
            "[[ 0 10 20 30]\n",
            " [ 0 10 20 30]\n",
            " [ 0 10 20 30]]\n",
            "*************\n",
            "[[ 0  0  0]\n",
            " [10 10 10]\n",
            " [20 20 20]\n",
            " [30 30 30]]\n"
          ],
          "name": "stdout"
        }
      ]
    },
    {
      "cell_type": "code",
      "metadata": {
        "id": "qgXVY2MoM4GK",
        "colab_type": "code",
        "colab": {},
        "outputId": "22fd27e4-e9b9-480d-8433-991b863f071d"
      },
      "source": [
        "\n",
        "b = np.array([0, 1, 2])\n",
        "b"
      ],
      "execution_count": 0,
      "outputs": [
        {
          "output_type": "execute_result",
          "data": {
            "text/plain": [
              "array([0, 1, 2])"
            ]
          },
          "metadata": {
            "tags": []
          },
          "execution_count": 35
        }
      ]
    },
    {
      "cell_type": "code",
      "metadata": {
        "id": "UZRkA-JuM4GO",
        "colab_type": "code",
        "colab": {},
        "outputId": "ef1b7308-f326-422c-cfc5-cd40f78a000c"
      },
      "source": [
        "\n",
        "a + b"
      ],
      "execution_count": 0,
      "outputs": [
        {
          "output_type": "execute_result",
          "data": {
            "text/plain": [
              "array([[ 0,  1,  2],\n",
              "       [10, 11, 12],\n",
              "       [20, 21, 22],\n",
              "       [30, 31, 32]])"
            ]
          },
          "metadata": {
            "tags": []
          },
          "execution_count": 36
        }
      ]
    },
    {
      "cell_type": "code",
      "metadata": {
        "id": "-fAXqor4M4GW",
        "colab_type": "code",
        "colab": {},
        "outputId": "b000281f-bb4b-446f-e165-8e93cd287612"
      },
      "source": [
        "a = np.arange(0, 40, 10)\n",
        "a.shape\n"
      ],
      "execution_count": 0,
      "outputs": [
        {
          "output_type": "execute_result",
          "data": {
            "text/plain": [
              "(4,)"
            ]
          },
          "metadata": {
            "tags": []
          },
          "execution_count": 45
        }
      ]
    },
    {
      "cell_type": "code",
      "metadata": {
        "id": "K38J16D6M4GZ",
        "colab_type": "code",
        "colab": {},
        "outputId": "46fdbd49-d5af-483d-d359-44c388db36e0"
      },
      "source": [
        "a = a[:, np.newaxis]  # adds a new axis -> 2D array\n",
        "a.shape"
      ],
      "execution_count": 0,
      "outputs": [
        {
          "output_type": "execute_result",
          "data": {
            "text/plain": [
              "(4, 1)"
            ]
          },
          "metadata": {
            "tags": []
          },
          "execution_count": 42
        }
      ]
    },
    {
      "cell_type": "code",
      "metadata": {
        "id": "nUptWlFBM4Gd",
        "colab_type": "code",
        "colab": {},
        "outputId": "1749e246-589d-408f-ca76-e2a61d288bf2"
      },
      "source": [
        "a"
      ],
      "execution_count": 0,
      "outputs": [
        {
          "output_type": "execute_result",
          "data": {
            "text/plain": [
              "array([[ 0],\n",
              "       [10],\n",
              "       [20],\n",
              "       [30]])"
            ]
          },
          "metadata": {
            "tags": []
          },
          "execution_count": 43
        }
      ]
    },
    {
      "cell_type": "code",
      "metadata": {
        "id": "7w1TzxOpM4Gh",
        "colab_type": "code",
        "colab": {},
        "outputId": "c04851cd-6aca-4ab9-aa7b-930e04747e0c"
      },
      "source": [
        "a + b"
      ],
      "execution_count": 0,
      "outputs": [
        {
          "output_type": "execute_result",
          "data": {
            "text/plain": [
              "array([[ 0,  1,  2],\n",
              "       [10, 11, 12],\n",
              "       [20, 21, 22],\n",
              "       [30, 31, 32]])"
            ]
          },
          "metadata": {
            "tags": []
          },
          "execution_count": 58
        }
      ]
    },
    {
      "cell_type": "markdown",
      "metadata": {
        "id": "XhNXC0j-M4Gl",
        "colab_type": "text"
      },
      "source": [
        "# Array Shape Manipulation"
      ]
    },
    {
      "cell_type": "markdown",
      "metadata": {
        "id": "gZzKZpkNM4Gn",
        "colab_type": "text"
      },
      "source": [
        "**Flattening**"
      ]
    },
    {
      "cell_type": "code",
      "metadata": {
        "id": "FXx3FGe6M4Gp",
        "colab_type": "code",
        "colab": {},
        "outputId": "90d7226d-4d5c-43cb-f571-798fd4fc92e0"
      },
      "source": [
        "a = np.array([[1, 2, 3], [4, 5, 6]])\n",
        "a.ravel() #Return a contiguous flattened array. A 1-D array, containing the elements of the input, is returned. A copy is made only if needed."
      ],
      "execution_count": 0,
      "outputs": [
        {
          "output_type": "execute_result",
          "data": {
            "text/plain": [
              "array([1, 2, 3, 4, 5, 6])"
            ]
          },
          "metadata": {
            "tags": []
          },
          "execution_count": 52
        }
      ]
    },
    {
      "cell_type": "code",
      "metadata": {
        "id": "ORoOBo9EM4Gr",
        "colab_type": "code",
        "colab": {},
        "outputId": "dd01d9aa-84bb-4f7c-e01b-288f7c2a17d9"
      },
      "source": [
        "a.T #Transpose"
      ],
      "execution_count": 0,
      "outputs": [
        {
          "output_type": "execute_result",
          "data": {
            "text/plain": [
              "array([[1, 4],\n",
              "       [2, 5],\n",
              "       [3, 6]])"
            ]
          },
          "metadata": {
            "tags": []
          },
          "execution_count": 53
        }
      ]
    },
    {
      "cell_type": "code",
      "metadata": {
        "id": "N_y-ROzEM4Gu",
        "colab_type": "code",
        "colab": {},
        "outputId": "09e53f8e-fbcc-442b-eda5-9dd63d2ea928"
      },
      "source": [
        "a.T.ravel()"
      ],
      "execution_count": 0,
      "outputs": [
        {
          "output_type": "execute_result",
          "data": {
            "text/plain": [
              "array([1, 4, 2, 5, 3, 6])"
            ]
          },
          "metadata": {
            "tags": []
          },
          "execution_count": 54
        }
      ]
    },
    {
      "cell_type": "markdown",
      "metadata": {
        "id": "79PAmRzCM4Gx",
        "colab_type": "text"
      },
      "source": [
        "**Reshaping**"
      ]
    },
    {
      "cell_type": "markdown",
      "metadata": {
        "id": "ugN3wUHnM4G0",
        "colab_type": "text"
      },
      "source": [
        "The inverse operation to flattening:"
      ]
    },
    {
      "cell_type": "code",
      "metadata": {
        "id": "BIZdvBSfM4G0",
        "colab_type": "code",
        "colab": {},
        "outputId": "70959a57-fde9-434c-fd71-3a9989059ea7"
      },
      "source": [
        "print(a.shape)\n",
        "print(a)"
      ],
      "execution_count": 0,
      "outputs": [
        {
          "output_type": "stream",
          "text": [
            "(2, 3)\n",
            "[[1 2 3]\n",
            " [4 5 6]]\n"
          ],
          "name": "stdout"
        }
      ]
    },
    {
      "cell_type": "code",
      "metadata": {
        "id": "LDYfZpz0M4G9",
        "colab_type": "code",
        "colab": {},
        "outputId": "bbce6c88-97e3-4116-892a-4ceed5f50c5e"
      },
      "source": [
        "b = a.ravel()\n",
        "print(b)"
      ],
      "execution_count": 0,
      "outputs": [
        {
          "output_type": "stream",
          "text": [
            "[1 2 3 4 5 6]\n"
          ],
          "name": "stdout"
        }
      ]
    },
    {
      "cell_type": "code",
      "metadata": {
        "id": "f6kF4hKMM4HE",
        "colab_type": "code",
        "colab": {},
        "outputId": "a9f42cf8-89d6-4996-e9d0-82761ce22ba5"
      },
      "source": [
        "b = b.reshape((2, 3))\n",
        "b"
      ],
      "execution_count": 0,
      "outputs": [
        {
          "output_type": "execute_result",
          "data": {
            "text/plain": [
              "array([[1, 2, 3],\n",
              "       [4, 5, 6]])"
            ]
          },
          "metadata": {
            "tags": []
          },
          "execution_count": 57
        }
      ]
    },
    {
      "cell_type": "code",
      "metadata": {
        "id": "dskMLJ6bM4HH",
        "colab_type": "code",
        "colab": {},
        "outputId": "be9d705f-694b-4ac5-9ef0-462fecfccf33"
      },
      "source": [
        "b[0, 0] = 100\n",
        "a"
      ],
      "execution_count": 0,
      "outputs": [
        {
          "output_type": "execute_result",
          "data": {
            "text/plain": [
              "array([[100,   2,   3],\n",
              "       [  4,   5,   6]])"
            ]
          },
          "metadata": {
            "tags": []
          },
          "execution_count": 59
        }
      ]
    },
    {
      "cell_type": "markdown",
      "metadata": {
        "id": "bFZhH708M4HO",
        "colab_type": "text"
      },
      "source": [
        "**Note and       Beware: reshape may also return a copy!:**"
      ]
    },
    {
      "cell_type": "code",
      "metadata": {
        "id": "xD1HGXxgM4HU",
        "colab_type": "code",
        "colab": {},
        "outputId": "d71c652b-5614-4e0b-f7ed-a3d4a5b3c10d"
      },
      "source": [
        "a = np.zeros((3, 2))\n",
        "b = a.T.reshape(3*2)\n",
        "b[0] = 50\n",
        "a"
      ],
      "execution_count": 0,
      "outputs": [
        {
          "output_type": "execute_result",
          "data": {
            "text/plain": [
              "array([[ 0.,  0.],\n",
              "       [ 0.,  0.],\n",
              "       [ 0.,  0.]])"
            ]
          },
          "metadata": {
            "tags": []
          },
          "execution_count": 60
        }
      ]
    },
    {
      "cell_type": "markdown",
      "metadata": {
        "id": "ON6JBbKPM4HY",
        "colab_type": "text"
      },
      "source": [
        "**Adding a Dimension**"
      ]
    },
    {
      "cell_type": "markdown",
      "metadata": {
        "id": "xjybZjefM4HZ",
        "colab_type": "text"
      },
      "source": [
        "Indexing with the np.newaxis object allows us to add an axis to an array"
      ]
    },
    {
      "cell_type": "markdown",
      "metadata": {
        "id": "Sb646xydM4Ha",
        "colab_type": "text"
      },
      "source": [
        "newaxis is used to increase the dimension of the existing array by one more dimension, when used once. Thus,\n",
        "\n",
        "1D array will become 2D array\n",
        "\n",
        "2D array will become 3D array\n",
        "\n",
        "3D array will become 4D array and so on"
      ]
    },
    {
      "cell_type": "code",
      "metadata": {
        "id": "pL6CJRw9M4Ha",
        "colab_type": "code",
        "colab": {},
        "outputId": "f3a378c4-46e6-4cf9-cfa8-4db01747d8b5"
      },
      "source": [
        "z = np.array([1, 2, 3])\n",
        "z"
      ],
      "execution_count": 0,
      "outputs": [
        {
          "output_type": "execute_result",
          "data": {
            "text/plain": [
              "array([1, 2, 3])"
            ]
          },
          "metadata": {
            "tags": []
          },
          "execution_count": 61
        }
      ]
    },
    {
      "cell_type": "code",
      "metadata": {
        "id": "PS5rfLD5M4He",
        "colab_type": "code",
        "colab": {},
        "outputId": "6006282f-6e27-4318-f787-0e6f9aef9736"
      },
      "source": [
        "z[:, np.newaxis]"
      ],
      "execution_count": 0,
      "outputs": [
        {
          "output_type": "execute_result",
          "data": {
            "text/plain": [
              "array([[1],\n",
              "       [2],\n",
              "       [3]])"
            ]
          },
          "metadata": {
            "tags": []
          },
          "execution_count": 62
        }
      ]
    },
    {
      "cell_type": "markdown",
      "metadata": {
        "id": "1KuxoLNAM4Hj",
        "colab_type": "text"
      },
      "source": [
        "**Dimension Shuffling**"
      ]
    },
    {
      "cell_type": "code",
      "metadata": {
        "id": "9MavFvhGM4Hl",
        "colab_type": "code",
        "colab": {},
        "outputId": "e6130511-1583-4255-cc2c-e040a10c47c2"
      },
      "source": [
        "a = np.arange(4*3*2).reshape(4, 3, 2)\n",
        "a.shape"
      ],
      "execution_count": 0,
      "outputs": [
        {
          "output_type": "execute_result",
          "data": {
            "text/plain": [
              "(4, 3, 2)"
            ]
          },
          "metadata": {
            "tags": []
          },
          "execution_count": 63
        }
      ]
    },
    {
      "cell_type": "code",
      "metadata": {
        "id": "JjIDCTOaM4Hq",
        "colab_type": "code",
        "colab": {},
        "outputId": "56ac0fd1-5223-47ea-b5fd-8717b826b1aa"
      },
      "source": [
        "a"
      ],
      "execution_count": 0,
      "outputs": [
        {
          "output_type": "execute_result",
          "data": {
            "text/plain": [
              "array([[[ 0,  1],\n",
              "        [ 2,  3],\n",
              "        [ 4,  5]],\n",
              "\n",
              "       [[ 6,  7],\n",
              "        [ 8,  9],\n",
              "        [10, 11]],\n",
              "\n",
              "       [[12, 13],\n",
              "        [14, 15],\n",
              "        [16, 17]],\n",
              "\n",
              "       [[18, 19],\n",
              "        [20, 21],\n",
              "        [22, 23]]])"
            ]
          },
          "metadata": {
            "tags": []
          },
          "execution_count": 77
        }
      ]
    },
    {
      "cell_type": "code",
      "metadata": {
        "id": "h15BtGJ3M4Hv",
        "colab_type": "code",
        "colab": {},
        "outputId": "df2fc30b-5418-4c2b-ec7d-b1b665f055e2"
      },
      "source": [
        "a[0, 2, 1]"
      ],
      "execution_count": 0,
      "outputs": [
        {
          "output_type": "execute_result",
          "data": {
            "text/plain": [
              "5"
            ]
          },
          "metadata": {
            "tags": []
          },
          "execution_count": 64
        }
      ]
    },
    {
      "cell_type": "markdown",
      "metadata": {
        "id": "Y_EB_QjyM4H-",
        "colab_type": "text"
      },
      "source": [
        "**Resizing**"
      ]
    },
    {
      "cell_type": "code",
      "metadata": {
        "id": "a2eBH7EPM4IA",
        "colab_type": "code",
        "colab": {},
        "outputId": "c8f5991a-f78c-4f31-cea4-fd347035bf85"
      },
      "source": [
        "a = np.arange(4)\n",
        "a.resize((8,))\n",
        "a"
      ],
      "execution_count": 0,
      "outputs": [
        {
          "output_type": "execute_result",
          "data": {
            "text/plain": [
              "array([0, 1, 2, 3, 0, 0, 0, 0])"
            ]
          },
          "metadata": {
            "tags": []
          },
          "execution_count": 67
        }
      ]
    },
    {
      "cell_type": "markdown",
      "metadata": {
        "id": "fdi5NwhLM4IH",
        "colab_type": "text"
      },
      "source": [
        "However, it must not be referred to somewhere else:"
      ]
    },
    {
      "cell_type": "code",
      "metadata": {
        "id": "GrersZfTM4II",
        "colab_type": "code",
        "colab": {},
        "outputId": "688693b0-b396-4d09-d406-7b71b3b8b55e"
      },
      "source": [
        "b = a\n",
        "a.resize((4,)) "
      ],
      "execution_count": 0,
      "outputs": [
        {
          "output_type": "error",
          "ename": "ValueError",
          "evalue": "cannot resize an array that references or is referenced\nby another array in this way.  Use the resize function",
          "traceback": [
            "\u001b[0;31m---------------------------------------------------------------------------\u001b[0m",
            "\u001b[0;31mValueError\u001b[0m                                Traceback (most recent call last)",
            "\u001b[0;32m<ipython-input-68-702766c88583>\u001b[0m in \u001b[0;36m<module>\u001b[0;34m()\u001b[0m\n\u001b[1;32m      1\u001b[0m \u001b[0mb\u001b[0m \u001b[0;34m=\u001b[0m \u001b[0ma\u001b[0m\u001b[0;34m\u001b[0m\u001b[0m\n\u001b[0;32m----> 2\u001b[0;31m \u001b[0ma\u001b[0m\u001b[0;34m.\u001b[0m\u001b[0mresize\u001b[0m\u001b[0;34m(\u001b[0m\u001b[0;34m(\u001b[0m\u001b[0;36m4\u001b[0m\u001b[0;34m,\u001b[0m\u001b[0;34m)\u001b[0m\u001b[0;34m)\u001b[0m\u001b[0;34m\u001b[0m\u001b[0m\n\u001b[0m",
            "\u001b[0;31mValueError\u001b[0m: cannot resize an array that references or is referenced\nby another array in this way.  Use the resize function"
          ]
        }
      ]
    },
    {
      "cell_type": "markdown",
      "metadata": {
        "id": "gMCyNykjM4IN",
        "colab_type": "text"
      },
      "source": [
        "**Sorting Data**"
      ]
    },
    {
      "cell_type": "code",
      "metadata": {
        "id": "phoi0L0fM4IO",
        "colab_type": "code",
        "colab": {},
        "outputId": "7b2c0d4c-0127-493b-d77c-076d3cd09333"
      },
      "source": [
        "#Sorting along an axis:\n",
        "a = np.array([[5, 4, 6], [2, 3, 2]])\n",
        "b = np.sort(a, axis=1)\n",
        "b"
      ],
      "execution_count": 0,
      "outputs": [
        {
          "output_type": "execute_result",
          "data": {
            "text/plain": [
              "array([[4, 5, 6],\n",
              "       [2, 2, 3]])"
            ]
          },
          "metadata": {
            "tags": []
          },
          "execution_count": 69
        }
      ]
    },
    {
      "cell_type": "code",
      "metadata": {
        "id": "yPlcE_4HM4IU",
        "colab_type": "code",
        "colab": {},
        "outputId": "d666002e-e020-4aed-ecb9-e5fc7a48a1c4"
      },
      "source": [
        "#in-place sort\n",
        "a.sort(axis=1)\n",
        "a"
      ],
      "execution_count": 0,
      "outputs": [
        {
          "output_type": "execute_result",
          "data": {
            "text/plain": [
              "array([[4, 5, 6],\n",
              "       [2, 2, 3]])"
            ]
          },
          "metadata": {
            "tags": []
          },
          "execution_count": 84
        }
      ]
    },
    {
      "cell_type": "code",
      "metadata": {
        "id": "OjZOqouvM4IX",
        "colab_type": "code",
        "colab": {},
        "outputId": "6e29b32e-8eed-4d1e-9bc6-8d1a71937ecd"
      },
      "source": [
        "#sorting with fancy indexing\n",
        "a = np.array([4, 3, 1, 2])\n",
        "j = np.argsort(a)\n",
        "j"
      ],
      "execution_count": 0,
      "outputs": [
        {
          "output_type": "execute_result",
          "data": {
            "text/plain": [
              "array([2, 3, 1, 0])"
            ]
          },
          "metadata": {
            "tags": []
          },
          "execution_count": 85
        }
      ]
    },
    {
      "cell_type": "code",
      "metadata": {
        "id": "uFZ5mfkGM4Ib",
        "colab_type": "code",
        "colab": {},
        "outputId": "c9af9548-1dfa-4ef6-d18f-793ac1555e24"
      },
      "source": [
        "a[j]"
      ],
      "execution_count": 0,
      "outputs": [
        {
          "output_type": "execute_result",
          "data": {
            "text/plain": [
              "array([1, 2, 3, 4])"
            ]
          },
          "metadata": {
            "tags": []
          },
          "execution_count": 86
        }
      ]
    }
  ]
}