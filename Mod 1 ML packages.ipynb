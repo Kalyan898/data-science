{
  "nbformat": 4,
  "nbformat_minor": 0,
  "metadata": {
    "kernelspec": {
      "display_name": "Python 3",
      "language": "python",
      "name": "python3"
    },
    "language_info": {
      "codemirror_mode": {
        "name": "ipython",
        "version": 3
      },
      "file_extension": ".py",
      "mimetype": "text/x-python",
      "name": "python",
      "nbconvert_exporter": "python",
      "pygments_lexer": "ipython3",
      "version": "3.6.1"
    },
    "colab": {
      "name": "packages.ipynb",
      "version": "0.3.2",
      "provenance": [],
      "include_colab_link": true
    }
  },
  "cells": [
    {
      "cell_type": "markdown",
      "metadata": {
        "id": "view-in-github",
        "colab_type": "text"
      },
      "source": [
        "<a href=\"https://colab.research.google.com/github/Kalyan898/data-science/blob/master/Mod%201%20ML%20packages.ipynb\" target=\"_parent\"><img src=\"https://colab.research.google.com/assets/colab-badge.svg\" alt=\"Open In Colab\"/></a>"
      ]
    },
    {
      "cell_type": "markdown",
      "metadata": {
        "id": "Ri7k9xTLH-TW",
        "colab_type": "text"
      },
      "source": [
        "# Package"
      ]
    },
    {
      "cell_type": "markdown",
      "metadata": {
        "id": "rJ0CzAJjH-To",
        "colab_type": "text"
      },
      "source": [
        "Packages are a way of structuring Python’s module namespace by using “dotted module names”.\n",
        "\n",
        "A directory must contain a file named __init__.py in order for Python to consider it as a package. This file can be left empty but we generally place the initialization code for that package in this file."
      ]
    },
    {
      "cell_type": "markdown",
      "metadata": {
        "id": "jGd6Qha3H-T6",
        "colab_type": "text"
      },
      "source": [
        "![title](package.jpg)"
      ]
    },
    {
      "cell_type": "markdown",
      "metadata": {
        "id": "khbtw4svH-UE",
        "colab_type": "text"
      },
      "source": [
        "# importing module from a package"
      ]
    },
    {
      "cell_type": "markdown",
      "metadata": {
        "id": "eWVd3vWCH-UM",
        "colab_type": "text"
      },
      "source": [
        "We can import modules from packages using the dot (.) operator."
      ]
    },
    {
      "cell_type": "code",
      "metadata": {
        "collapsed": true,
        "id": "CptdLC9mH-UZ",
        "colab_type": "code",
        "colab": {}
      },
      "source": [
        "# import Gate.Image.open "
      ],
      "execution_count": 0,
      "outputs": []
    }
  ]
}