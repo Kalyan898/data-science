{
  "nbformat": 4,
  "nbformat_minor": 0,
  "metadata": {
    "colab": {
      "name": "12.11.ipynb",
      "version": "0.3.2",
      "provenance": [],
      "include_colab_link": true
    },
    "kernelspec": {
      "display_name": "Python 3",
      "language": "python",
      "name": "python3"
    }
  },
  "cells": [
    {
      "cell_type": "markdown",
      "metadata": {
        "id": "view-in-github",
        "colab_type": "text"
      },
      "source": [
        "<a href=\"https://colab.research.google.com/github/Kalyan898/data-science/blob/master/Mod%202%20ML%2012_11.ipynb\" target=\"_parent\"><img src=\"https://colab.research.google.com/assets/colab-badge.svg\" alt=\"Open In Colab\"/></a>"
      ]
    },
    {
      "cell_type": "markdown",
      "metadata": {
        "id": "VkOOg33M2iJp",
        "colab_type": "text"
      },
      "source": [
        "# Random Number Generator (Uniform Distribution)\n"
      ]
    },
    {
      "cell_type": "code",
      "metadata": {
        "id": "0rPnWXup2iJq",
        "colab_type": "code",
        "outputId": "9fb7ea7f-1264-4be5-93bd-28e800ca2e81",
        "colab": {
          "base_uri": "https://localhost:8080/",
          "height": 34
        }
      },
      "source": [
        "import random\n",
        "print(random.random())"
      ],
      "execution_count": 0,
      "outputs": [
        {
          "output_type": "stream",
          "text": [
            "0.4334769104740529\n"
          ],
          "name": "stdout"
        }
      ]
    },
    {
      "cell_type": "code",
      "metadata": {
        "id": "QPzivAyl2iJw",
        "colab_type": "code",
        "outputId": "45cb7dc7-4f74-4104-cb57-308aa4306f41",
        "colab": {
          "base_uri": "https://localhost:8080/",
          "height": 34
        }
      },
      "source": [
        "#load IRIS dataset with 150 points.\n",
        "from sklearn import datasets\n",
        "iris = datasets.load_iris()\n",
        "d = iris.data\n",
        "d.shape\n"
      ],
      "execution_count": 0,
      "outputs": [
        {
          "output_type": "execute_result",
          "data": {
            "text/plain": [
              "(150, 4)"
            ]
          },
          "metadata": {
            "tags": []
          },
          "execution_count": 4
        }
      ]
    },
    {
      "cell_type": "code",
      "metadata": {
        "id": "ZRP6Getl2iJz",
        "colab_type": "code",
        "outputId": "216d31d2-4e28-4218-d9e5-38f383405a72",
        "colab": {
          "base_uri": "https://localhost:8080/",
          "height": 52
        }
      },
      "source": [
        "# Sample 30 points randomly from the 150 point dataset\n",
        "n=150\n",
        "m=30\n",
        "p = m/n\n",
        "print(p)\n",
        "sampled_data =[];\n",
        "\n",
        "for i in range(0,n):\n",
        "  a = random.random()\n",
        "#   print(a)\n",
        "  if  a <= p:\n",
        "    sampled_data.append(d[i,:])\n",
        "    \n",
        "len(sampled_data)"
      ],
      "execution_count": 0,
      "outputs": [
        {
          "output_type": "stream",
          "text": [
            "0.2\n"
          ],
          "name": "stdout"
        },
        {
          "output_type": "execute_result",
          "data": {
            "text/plain": [
              "27"
            ]
          },
          "metadata": {
            "tags": []
          },
          "execution_count": 21
        }
      ]
    }
  ]
}